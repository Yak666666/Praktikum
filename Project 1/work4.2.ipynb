{
 "cells": [
  {
   "cell_type": "markdown",
   "id": "1a052095",
   "metadata": {},
   "source": [
    "<div class=\"alert alert-info\">\n",
    "\n",
    "<b>Привет!</b>\n",
    "\n",
    "Меня зовут Антон Оленев, я буду проверять твою работу :)\n",
    "\n",
    "Ты можешь обращаться ко мне на \"ты\"😏 Надеюсь, тебя также не смутит, если я буду обращаться к тебе на \"ты\", но если это неудобно, обязательно скажи об этом!\n",
    "\n",
    "Пожалуйста, не удаляй мои комментарии, они будут особенно полезны для нашей работы в случае повторной проверки проекта. \n",
    "\n",
    "Ты также можешь реагировать на мои комментарии своими, выделяя их цветами и наиболее понравившимся тебе способом оформления, но явно  отличающимся от моих комментариев. Это нужно, чтобы не создавалась путаница😉\n",
    "\n",
    "Ты можешь найти мои комментарии, обозначенные <font color='green'>зеленым</font>, <font color='gold'>желтым</font> и <font color='red'>красным</font> цветами, например:\n",
    "\n",
    "<br/>\n",
    "\n",
    "<div class=\"alert alert-success\">\n",
    "<h2> Комментарий ревьюера <a class=\"tocSkip\"> </h2>\n",
    "\n",
    "<b>Все отлично!✅:</b> В случае, если решение на отдельном шаге является полностью правильным.\n",
    "</div>\n",
    "\n",
    "<br/>\n",
    "\n",
    "<div class=\"alert alert-warning\">\n",
    "    <h2> Комментарий ревьюера <a class=\"tocSkip\"> </h2>\n",
    "    \n",
    "<b>Некоторые замечания и рекомендации💡:</b> В случае, когда решение на отдельном шаге станет еще лучше, если внести небольшие коррективы.\n",
    "</div>\n",
    "\n",
    "\n",
    "<br/>\n",
    "<div class=\"alert alert-block alert-danger\">\n",
    "<h2> Комментарий ревьюера <a class=\"tocSkip\"></h2>\n",
    "\n",
    "    \n",
    "<b>На доработку🤔:</b>\n",
    " В случае, когда решение на отдельном шаге требует существенной переработки и внесения правок. Напоминаю, что проект не может быть принят с первого раза, если ревью содержит комментарии, рекомендующие доработать шаги.\n",
    "</div>\n",
    "    \n",
    "Увидев у тебя неточность, в первый раз я лишь укажу на ее наличие и дам тебе возможность самому найти и исправить ее. На реальной работе твой руководитель будет поступать также, и я пытаюсь подготовить тебя именно к работе аналитиком. Но если ты пока не справишься с такой задачей - при следующей проверке я дам более точную подсказку!🤓\n",
    "    </div>"
   ]
  },
  {
   "cell_type": "markdown",
   "id": "8c2d3c9b",
   "metadata": {},
   "source": [
    "<div class=\"alert alert-block alert-info\">\n",
    "Привет Антон!\n",
    "    \n",
    "Спасибо за проверку, я постарался все исправить по твоим комментариям\n",
    "</div>"
   ]
  },
  {
   "cell_type": "markdown",
   "id": "73718633",
   "metadata": {},
   "source": [
    "<div class=\"alert alert-success\">\n",
    "    <h3> Комментарий ревьюера V2: Антон Оленев <a class=\"tocSkip\"> </h3>\n",
    "    \n",
    "<b>✅ Все получилось !</b> \n",
    "</div>"
   ]
  },
  {
   "cell_type": "markdown",
   "id": "46614ddd",
   "metadata": {},
   "source": [
    "# Описание проекта <a class=\"anchor\" id=\"chapter_1_1\"></a>\n",
    "\n",
    "Вы аналитик компании «Мегалайн» — федерального оператора сотовой связи. Клиентам предлагают два тарифных плана: «Смарт» и «Ультра». Чтобы скорректировать рекламный бюджет, коммерческий департамент хочет понять, какой тариф приносит больше денег.\n",
    "\n",
    "Вам предстоит сделать предварительный анализ тарифов на небольшой выборке клиентов. В вашем распоряжении данные 500 пользователей «Мегалайна»: кто они, откуда, каким тарифом пользуются, сколько звонков и сообщений каждый отправил за 2018 год. Нужно проанализировать поведение клиентов и сделать вывод — какой тариф лучше."
   ]
  },
  {
   "cell_type": "markdown",
   "id": "89ac51a0",
   "metadata": {},
   "source": [
    "<div class=\"alert alert-block alert-info\">\n",
    "    Содержание</div>"
   ]
  },
  {
   "cell_type": "markdown",
   "id": "007c5893",
   "metadata": {},
   "source": [
    "### Содержание\n",
    "\n",
    "* [Описание проекта](#chapter_1_1)\n",
    "* [Описание тарифов](#chapter_1_2)\n",
    "* [Шаг 1. Изучение исходных данных](#chapter_1_3)\n",
    "    * [Вывод по шагу 1](#chapter_1_3_1)\n",
    "* [Шаг 2. Подготовка данных](#chapter_1_4)\n",
    "    * [Вывод по шагу 2](#chapter_1_4_1)\n",
    "* [ШАГ 3. Проанализируйте данные](#chapter_1_5)\n",
    "    * [Вывод по шагу 3](#chapter_1_5_1)\n",
    "* [Шаг 4. Проверка гипотез](#chapter_1_6)\n",
    "    * [Вывод по шагу 4](#chapter_1_6_1)\n",
    "* [Дополнительное исследование](#chapter_1_7)\n",
    "    * [Вывод по дополнительному исследованию](#chapter_1_7_1)"
   ]
  },
  {
   "cell_type": "markdown",
   "id": "86af5838",
   "metadata": {},
   "source": [
    "<div class=\"alert alert-warning\">\n",
    "<h3> Комментарий ревьюера: Антон Оленев <a class=\"tocSkip\"> </h3>\n",
    "        \n",
    "<b>💡 Некоторые замечания и рекомендации:</b> содержание тут хорошо было бы все таки вставить, или совсем удалить эту ячейку раз она пустая ) https://moonbooks.org/Articles/How-to-create-a-table-of-contents-in-a-jupyter-notebook-/#create-a-table-of-contents\n",
    "        \n",
    "</div>"
   ]
  },
  {
   "cell_type": "markdown",
   "id": "560e31e3",
   "metadata": {},
   "source": [
    "<div class=\"alert alert-block alert-info\">\n",
    "Собрал содержание выше\n",
    "</div>"
   ]
  },
  {
   "cell_type": "markdown",
   "id": "d56c7fce",
   "metadata": {},
   "source": [
    "<div class=\"alert alert-success\">\n",
    "    <h3> Комментарий ревьюера V2: Антон Оленев <a class=\"tocSkip\"> </h3>\n",
    "     \n",
    "<b>✅ Все отлично!:</b> стало гораздо удобнее )\n",
    "</div>"
   ]
  },
  {
   "cell_type": "markdown",
   "id": "4070ae2b",
   "metadata": {},
   "source": [
    "# Описание тарифов <a class=\"anchor\" id=\"chapter_1_2\"> \n",
    "\n",
    "__Тариф «Смарт»__\n",
    "- Ежемесячная плата: 550 рублей\n",
    "- Включено 500 минут разговора, \n",
    "- 50 сообщений и 15 Гб интернет-трафика\n",
    "- Стоимость услуг сверх тарифного пакета:\n",
    "    - минута разговора: 3 рубля\n",
    "    - сообщение: 3 рубля\n",
    "    - 1 Гб интернет-трафика: 200 рублей\n",
    "\n",
    "__Тариф «Ультра»__\n",
    "- Ежемесячная плата: 1950 рублей\n",
    "- Включено 3000 минут разговора, \n",
    "- 1000 сообщений и 30 Гб интернет-трафика\n",
    "- Стоимость услуг сверх тарифного пакета:\n",
    "    - минута разговора: 1 рубль\n",
    "    - сообщение: 1 рубль\n",
    "    - 1 Гб интернет-трафика: 150 рублей\n",
    "    \n",
    "__Примечания__\n",
    "- «Мегалайн» всегда округляет секунды до минут, а мегабайты — до гигабайт.\n",
    "- Каждый звонок округляется отдельно: даже если он длился всего 1 секунду, будет засчитан как 1 минута.\n",
    "- Для веб-трафика отдельные сессии не считаются. Вместо этого общая сумма за месяц округляется в бо́льшую сторону. Если абонент использует 1025 мегабайт в этом месяце, с него возьмут плату за 2 гигабайта.\n",
    "- Неиспользованные за предыдущий месяц звонки, смс, интернет на следующий месяц не переносятся."
   ]
  },
  {
   "cell_type": "markdown",
   "id": "8b1483bc",
   "metadata": {},
   "source": [
    "# Шаг 1. Изучение исходных данных <a class=\"anchor\" id=\"chapter_1_3\">"
   ]
  },
  {
   "cell_type": "code",
   "execution_count": 1,
   "id": "0e5984ec",
   "metadata": {},
   "outputs": [],
   "source": [
    "#загрузим все необходимые в этом проекте библиотеки\n",
    "\n",
    "import pandas as pd\n",
    "import numpy as np\n",
    "from scipy import stats as st\n",
    "import math as mt\n",
    "from matplotlib import pyplot as plt"
   ]
  },
  {
   "cell_type": "code",
   "execution_count": 2,
   "id": "5caedbc4",
   "metadata": {},
   "outputs": [
    {
     "data": {
      "text/html": [
       "<div>\n",
       "<style scoped>\n",
       "    .dataframe tbody tr th:only-of-type {\n",
       "        vertical-align: middle;\n",
       "    }\n",
       "\n",
       "    .dataframe tbody tr th {\n",
       "        vertical-align: top;\n",
       "    }\n",
       "\n",
       "    .dataframe thead th {\n",
       "        text-align: right;\n",
       "    }\n",
       "</style>\n",
       "<table border=\"1\" class=\"dataframe\">\n",
       "  <thead>\n",
       "    <tr style=\"text-align: right;\">\n",
       "      <th></th>\n",
       "      <th>id</th>\n",
       "      <th>call_date</th>\n",
       "      <th>duration</th>\n",
       "      <th>user_id</th>\n",
       "    </tr>\n",
       "  </thead>\n",
       "  <tbody>\n",
       "    <tr>\n",
       "      <th>0</th>\n",
       "      <td>1000_0</td>\n",
       "      <td>2018-07-25</td>\n",
       "      <td>0.00</td>\n",
       "      <td>1000</td>\n",
       "    </tr>\n",
       "    <tr>\n",
       "      <th>1</th>\n",
       "      <td>1000_1</td>\n",
       "      <td>2018-08-17</td>\n",
       "      <td>0.00</td>\n",
       "      <td>1000</td>\n",
       "    </tr>\n",
       "    <tr>\n",
       "      <th>2</th>\n",
       "      <td>1000_2</td>\n",
       "      <td>2018-06-11</td>\n",
       "      <td>2.85</td>\n",
       "      <td>1000</td>\n",
       "    </tr>\n",
       "    <tr>\n",
       "      <th>3</th>\n",
       "      <td>1000_3</td>\n",
       "      <td>2018-09-21</td>\n",
       "      <td>13.80</td>\n",
       "      <td>1000</td>\n",
       "    </tr>\n",
       "    <tr>\n",
       "      <th>4</th>\n",
       "      <td>1000_4</td>\n",
       "      <td>2018-12-15</td>\n",
       "      <td>5.18</td>\n",
       "      <td>1000</td>\n",
       "    </tr>\n",
       "    <tr>\n",
       "      <th>...</th>\n",
       "      <td>...</td>\n",
       "      <td>...</td>\n",
       "      <td>...</td>\n",
       "      <td>...</td>\n",
       "    </tr>\n",
       "    <tr>\n",
       "      <th>202602</th>\n",
       "      <td>1499_215</td>\n",
       "      <td>2018-12-26</td>\n",
       "      <td>0.76</td>\n",
       "      <td>1499</td>\n",
       "    </tr>\n",
       "    <tr>\n",
       "      <th>202603</th>\n",
       "      <td>1499_216</td>\n",
       "      <td>2018-10-18</td>\n",
       "      <td>18.83</td>\n",
       "      <td>1499</td>\n",
       "    </tr>\n",
       "    <tr>\n",
       "      <th>202604</th>\n",
       "      <td>1499_217</td>\n",
       "      <td>2018-11-10</td>\n",
       "      <td>10.81</td>\n",
       "      <td>1499</td>\n",
       "    </tr>\n",
       "    <tr>\n",
       "      <th>202605</th>\n",
       "      <td>1499_218</td>\n",
       "      <td>2018-10-06</td>\n",
       "      <td>4.27</td>\n",
       "      <td>1499</td>\n",
       "    </tr>\n",
       "    <tr>\n",
       "      <th>202606</th>\n",
       "      <td>1499_219</td>\n",
       "      <td>2018-12-14</td>\n",
       "      <td>19.62</td>\n",
       "      <td>1499</td>\n",
       "    </tr>\n",
       "  </tbody>\n",
       "</table>\n",
       "<p>202607 rows × 4 columns</p>\n",
       "</div>"
      ],
      "text/plain": [
       "              id   call_date  duration  user_id\n",
       "0         1000_0  2018-07-25      0.00     1000\n",
       "1         1000_1  2018-08-17      0.00     1000\n",
       "2         1000_2  2018-06-11      2.85     1000\n",
       "3         1000_3  2018-09-21     13.80     1000\n",
       "4         1000_4  2018-12-15      5.18     1000\n",
       "...          ...         ...       ...      ...\n",
       "202602  1499_215  2018-12-26      0.76     1499\n",
       "202603  1499_216  2018-10-18     18.83     1499\n",
       "202604  1499_217  2018-11-10     10.81     1499\n",
       "202605  1499_218  2018-10-06      4.27     1499\n",
       "202606  1499_219  2018-12-14     19.62     1499\n",
       "\n",
       "[202607 rows x 4 columns]"
      ]
     },
     "metadata": {},
     "output_type": "display_data"
    },
    {
     "name": "stdout",
     "output_type": "stream",
     "text": [
      "<class 'pandas.core.frame.DataFrame'>\n",
      "RangeIndex: 202607 entries, 0 to 202606\n",
      "Data columns (total 4 columns):\n",
      " #   Column     Non-Null Count   Dtype  \n",
      "---  ------     --------------   -----  \n",
      " 0   id         202607 non-null  object \n",
      " 1   call_date  202607 non-null  object \n",
      " 2   duration   202607 non-null  float64\n",
      " 3   user_id    202607 non-null  int64  \n",
      "dtypes: float64(1), int64(1), object(2)\n",
      "memory usage: 6.2+ MB\n"
     ]
    }
   ],
   "source": [
    "#откроем и просмотрим исходные данные о исходных данных для звонков\n",
    "\n",
    "try:\n",
    "    data_calls = pd.read_csv('/Users/abc/Documents/Courses/yandex/projects/4/calls.csv', sep=',')\n",
    "except:\n",
    "    data_calls = pd.read_csv('/datasets/calls.csv', sep=',')\n",
    "                             \n",
    "display(data_calls)\n",
    "data_calls.info()"
   ]
  },
  {
   "cell_type": "markdown",
   "id": "3cdec2ab",
   "metadata": {},
   "source": [
    "<div class=\"alert alert-warning\">\n",
    "<h3> Комментарий ревьюера: Антон Оленев <a class=\"tocSkip\"> </h3>\n",
    "        \n",
    "<b>💡 Некоторые замечания и рекомендации:</b> когда работаем с файлами, лучше не использовать полные пути до них `/Users/...`, а пути относительно текущей директории где находится notebook - `./datasets/...`. \n",
    "        \n",
    "</div>"
   ]
  },
  {
   "cell_type": "markdown",
   "id": "dc81c254",
   "metadata": {},
   "source": [
    "<div class=\"alert alert-block alert-info\">\n",
    "Если я правильно понял то нужно указать путь начиная от папки где содержатся исходные файлы, при этом не указывая\n",
    "все предыдущие папки.\n",
    "    \n",
    "вот так:\n",
    "`data_calls = pd.read_csv('/4/calls.csv', sep=',')`\n",
    "        \n",
    "но такой вариант не работает, подскажи в чем соль.\n",
    "</div>"
   ]
  },
  {
   "cell_type": "markdown",
   "id": "80f817fc",
   "metadata": {},
   "source": [
    "<div class=\"alert alert-success\">\n",
    "    <h3> Комментарий ревьюера V2: Антон Оленев <a class=\"tocSkip\"> </h3>\n",
    "     \n",
    "<b>✅ </b> Если путь до файла начинается с `/` - то это поиск не с текущей папки, а от корня всего диска. А текущая папка - это `./4/calls.csv`\n",
    "</div>"
   ]
  },
  {
   "cell_type": "markdown",
   "id": "a065124f",
   "metadata": {},
   "source": [
    "__Сожержание файла со звонками__\n",
    "- id - порядковый номер звонка  в для выбранного пользователя, составной: user_id + порядковый номер звонка\n",
    "- call_date - дата звонка\n",
    "- duration - длительность звонка\n",
    "- user_id - уникальный идентификатор пользователя"
   ]
  },
  {
   "cell_type": "code",
   "execution_count": 3,
   "id": "073848ca",
   "metadata": {},
   "outputs": [
    {
     "data": {
      "text/html": [
       "<div>\n",
       "<style scoped>\n",
       "    .dataframe tbody tr th:only-of-type {\n",
       "        vertical-align: middle;\n",
       "    }\n",
       "\n",
       "    .dataframe tbody tr th {\n",
       "        vertical-align: top;\n",
       "    }\n",
       "\n",
       "    .dataframe thead th {\n",
       "        text-align: right;\n",
       "    }\n",
       "</style>\n",
       "<table border=\"1\" class=\"dataframe\">\n",
       "  <thead>\n",
       "    <tr style=\"text-align: right;\">\n",
       "      <th></th>\n",
       "      <th>Unnamed: 0</th>\n",
       "      <th>id</th>\n",
       "      <th>mb_used</th>\n",
       "      <th>session_date</th>\n",
       "      <th>user_id</th>\n",
       "    </tr>\n",
       "  </thead>\n",
       "  <tbody>\n",
       "    <tr>\n",
       "      <th>0</th>\n",
       "      <td>0</td>\n",
       "      <td>1000_0</td>\n",
       "      <td>112.95</td>\n",
       "      <td>2018-11-25</td>\n",
       "      <td>1000</td>\n",
       "    </tr>\n",
       "    <tr>\n",
       "      <th>1</th>\n",
       "      <td>1</td>\n",
       "      <td>1000_1</td>\n",
       "      <td>1052.81</td>\n",
       "      <td>2018-09-07</td>\n",
       "      <td>1000</td>\n",
       "    </tr>\n",
       "    <tr>\n",
       "      <th>2</th>\n",
       "      <td>2</td>\n",
       "      <td>1000_2</td>\n",
       "      <td>1197.26</td>\n",
       "      <td>2018-06-25</td>\n",
       "      <td>1000</td>\n",
       "    </tr>\n",
       "    <tr>\n",
       "      <th>3</th>\n",
       "      <td>3</td>\n",
       "      <td>1000_3</td>\n",
       "      <td>550.27</td>\n",
       "      <td>2018-08-22</td>\n",
       "      <td>1000</td>\n",
       "    </tr>\n",
       "    <tr>\n",
       "      <th>4</th>\n",
       "      <td>4</td>\n",
       "      <td>1000_4</td>\n",
       "      <td>302.56</td>\n",
       "      <td>2018-09-24</td>\n",
       "      <td>1000</td>\n",
       "    </tr>\n",
       "    <tr>\n",
       "      <th>...</th>\n",
       "      <td>...</td>\n",
       "      <td>...</td>\n",
       "      <td>...</td>\n",
       "      <td>...</td>\n",
       "      <td>...</td>\n",
       "    </tr>\n",
       "    <tr>\n",
       "      <th>149391</th>\n",
       "      <td>149391</td>\n",
       "      <td>1499_152</td>\n",
       "      <td>318.90</td>\n",
       "      <td>2018-10-03</td>\n",
       "      <td>1499</td>\n",
       "    </tr>\n",
       "    <tr>\n",
       "      <th>149392</th>\n",
       "      <td>149392</td>\n",
       "      <td>1499_153</td>\n",
       "      <td>490.13</td>\n",
       "      <td>2018-12-14</td>\n",
       "      <td>1499</td>\n",
       "    </tr>\n",
       "    <tr>\n",
       "      <th>149393</th>\n",
       "      <td>149393</td>\n",
       "      <td>1499_154</td>\n",
       "      <td>0.00</td>\n",
       "      <td>2018-10-27</td>\n",
       "      <td>1499</td>\n",
       "    </tr>\n",
       "    <tr>\n",
       "      <th>149394</th>\n",
       "      <td>149394</td>\n",
       "      <td>1499_155</td>\n",
       "      <td>1246.32</td>\n",
       "      <td>2018-11-26</td>\n",
       "      <td>1499</td>\n",
       "    </tr>\n",
       "    <tr>\n",
       "      <th>149395</th>\n",
       "      <td>149395</td>\n",
       "      <td>1499_156</td>\n",
       "      <td>544.37</td>\n",
       "      <td>2018-10-26</td>\n",
       "      <td>1499</td>\n",
       "    </tr>\n",
       "  </tbody>\n",
       "</table>\n",
       "<p>149396 rows × 5 columns</p>\n",
       "</div>"
      ],
      "text/plain": [
       "        Unnamed: 0        id  mb_used session_date  user_id\n",
       "0                0    1000_0   112.95   2018-11-25     1000\n",
       "1                1    1000_1  1052.81   2018-09-07     1000\n",
       "2                2    1000_2  1197.26   2018-06-25     1000\n",
       "3                3    1000_3   550.27   2018-08-22     1000\n",
       "4                4    1000_4   302.56   2018-09-24     1000\n",
       "...            ...       ...      ...          ...      ...\n",
       "149391      149391  1499_152   318.90   2018-10-03     1499\n",
       "149392      149392  1499_153   490.13   2018-12-14     1499\n",
       "149393      149393  1499_154     0.00   2018-10-27     1499\n",
       "149394      149394  1499_155  1246.32   2018-11-26     1499\n",
       "149395      149395  1499_156   544.37   2018-10-26     1499\n",
       "\n",
       "[149396 rows x 5 columns]"
      ]
     },
     "metadata": {},
     "output_type": "display_data"
    },
    {
     "name": "stdout",
     "output_type": "stream",
     "text": [
      "<class 'pandas.core.frame.DataFrame'>\n",
      "RangeIndex: 149396 entries, 0 to 149395\n",
      "Data columns (total 5 columns):\n",
      " #   Column        Non-Null Count   Dtype  \n",
      "---  ------        --------------   -----  \n",
      " 0   Unnamed: 0    149396 non-null  int64  \n",
      " 1   id            149396 non-null  object \n",
      " 2   mb_used       149396 non-null  float64\n",
      " 3   session_date  149396 non-null  object \n",
      " 4   user_id       149396 non-null  int64  \n",
      "dtypes: float64(1), int64(2), object(2)\n",
      "memory usage: 5.7+ MB\n"
     ]
    }
   ],
   "source": [
    "#откроем и просмотрим исходные данные об использовании мобильного интернета\n",
    "\n",
    "try:\n",
    "    data_internet = pd.read_csv('/Users/abc/Documents/Courses/yandex/projects/4/internet.csv', sep=',')\n",
    "except:\n",
    "    data_internet = pd.read_csv('/datasets/internet.csv', sep=',')\n",
    "                             \n",
    "display(data_internet)\n",
    "data_internet.info()"
   ]
  },
  {
   "cell_type": "markdown",
   "id": "ed695a8e",
   "metadata": {},
   "source": [
    "__Сожержание файла с интернетом__\n",
    "- Unnamed:0 - задублированный номер строки\n",
    "- id - порядковый номер сессии использования мобильного интернета для выбранного пользователя, составной: user_id + порядковый номер сессии\n",
    "- mb_used - объем использованного трафика за сессию в мегабайтах\n",
    "- session_date - дата сессии\n",
    "- user_id - уникальный идентификатор пользователя"
   ]
  },
  {
   "cell_type": "code",
   "execution_count": 4,
   "id": "c8dc8be0",
   "metadata": {},
   "outputs": [
    {
     "data": {
      "text/html": [
       "<div>\n",
       "<style scoped>\n",
       "    .dataframe tbody tr th:only-of-type {\n",
       "        vertical-align: middle;\n",
       "    }\n",
       "\n",
       "    .dataframe tbody tr th {\n",
       "        vertical-align: top;\n",
       "    }\n",
       "\n",
       "    .dataframe thead th {\n",
       "        text-align: right;\n",
       "    }\n",
       "</style>\n",
       "<table border=\"1\" class=\"dataframe\">\n",
       "  <thead>\n",
       "    <tr style=\"text-align: right;\">\n",
       "      <th></th>\n",
       "      <th>id</th>\n",
       "      <th>message_date</th>\n",
       "      <th>user_id</th>\n",
       "    </tr>\n",
       "  </thead>\n",
       "  <tbody>\n",
       "    <tr>\n",
       "      <th>0</th>\n",
       "      <td>1000_0</td>\n",
       "      <td>2018-06-27</td>\n",
       "      <td>1000</td>\n",
       "    </tr>\n",
       "    <tr>\n",
       "      <th>1</th>\n",
       "      <td>1000_1</td>\n",
       "      <td>2018-10-08</td>\n",
       "      <td>1000</td>\n",
       "    </tr>\n",
       "    <tr>\n",
       "      <th>2</th>\n",
       "      <td>1000_2</td>\n",
       "      <td>2018-08-04</td>\n",
       "      <td>1000</td>\n",
       "    </tr>\n",
       "    <tr>\n",
       "      <th>3</th>\n",
       "      <td>1000_3</td>\n",
       "      <td>2018-06-16</td>\n",
       "      <td>1000</td>\n",
       "    </tr>\n",
       "    <tr>\n",
       "      <th>4</th>\n",
       "      <td>1000_4</td>\n",
       "      <td>2018-12-05</td>\n",
       "      <td>1000</td>\n",
       "    </tr>\n",
       "    <tr>\n",
       "      <th>...</th>\n",
       "      <td>...</td>\n",
       "      <td>...</td>\n",
       "      <td>...</td>\n",
       "    </tr>\n",
       "    <tr>\n",
       "      <th>123031</th>\n",
       "      <td>1499_179</td>\n",
       "      <td>2018-12-12</td>\n",
       "      <td>1499</td>\n",
       "    </tr>\n",
       "    <tr>\n",
       "      <th>123032</th>\n",
       "      <td>1499_180</td>\n",
       "      <td>2018-09-28</td>\n",
       "      <td>1499</td>\n",
       "    </tr>\n",
       "    <tr>\n",
       "      <th>123033</th>\n",
       "      <td>1499_181</td>\n",
       "      <td>2018-09-27</td>\n",
       "      <td>1499</td>\n",
       "    </tr>\n",
       "    <tr>\n",
       "      <th>123034</th>\n",
       "      <td>1499_182</td>\n",
       "      <td>2018-11-15</td>\n",
       "      <td>1499</td>\n",
       "    </tr>\n",
       "    <tr>\n",
       "      <th>123035</th>\n",
       "      <td>1499_183</td>\n",
       "      <td>2018-11-16</td>\n",
       "      <td>1499</td>\n",
       "    </tr>\n",
       "  </tbody>\n",
       "</table>\n",
       "<p>123036 rows × 3 columns</p>\n",
       "</div>"
      ],
      "text/plain": [
       "              id message_date  user_id\n",
       "0         1000_0   2018-06-27     1000\n",
       "1         1000_1   2018-10-08     1000\n",
       "2         1000_2   2018-08-04     1000\n",
       "3         1000_3   2018-06-16     1000\n",
       "4         1000_4   2018-12-05     1000\n",
       "...          ...          ...      ...\n",
       "123031  1499_179   2018-12-12     1499\n",
       "123032  1499_180   2018-09-28     1499\n",
       "123033  1499_181   2018-09-27     1499\n",
       "123034  1499_182   2018-11-15     1499\n",
       "123035  1499_183   2018-11-16     1499\n",
       "\n",
       "[123036 rows x 3 columns]"
      ]
     },
     "metadata": {},
     "output_type": "display_data"
    },
    {
     "name": "stdout",
     "output_type": "stream",
     "text": [
      "<class 'pandas.core.frame.DataFrame'>\n",
      "RangeIndex: 123036 entries, 0 to 123035\n",
      "Data columns (total 3 columns):\n",
      " #   Column        Non-Null Count   Dtype \n",
      "---  ------        --------------   ----- \n",
      " 0   id            123036 non-null  object\n",
      " 1   message_date  123036 non-null  object\n",
      " 2   user_id       123036 non-null  int64 \n",
      "dtypes: int64(1), object(2)\n",
      "memory usage: 2.8+ MB\n"
     ]
    }
   ],
   "source": [
    "#откроем и просмотрим исходные данные о сообщениях\n",
    "\n",
    "try:\n",
    "    data_messages = pd.read_csv('/Users/abc/Documents/Courses/yandex/projects/4/messages.csv', sep=',')\n",
    "except:\n",
    "    data_messages = pd.read_csv('/datasets/messages.csv', sep=',')\n",
    "                             \n",
    "display(data_messages)\n",
    "data_messages.info()"
   ]
  },
  {
   "cell_type": "markdown",
   "id": "69f4ff38",
   "metadata": {},
   "source": [
    "__Содержание файла с сообщениями__\n",
    "- id - порядковый номер сообщения для выбранного пользователя, составной: user_id + порядковый номер сообщения\n",
    "- message_date - дата сообщения\n",
    "- user_id - уникальный идентификатор пользователя"
   ]
  },
  {
   "cell_type": "code",
   "execution_count": 5,
   "id": "7a891f59",
   "metadata": {},
   "outputs": [
    {
     "data": {
      "text/html": [
       "<div>\n",
       "<style scoped>\n",
       "    .dataframe tbody tr th:only-of-type {\n",
       "        vertical-align: middle;\n",
       "    }\n",
       "\n",
       "    .dataframe tbody tr th {\n",
       "        vertical-align: top;\n",
       "    }\n",
       "\n",
       "    .dataframe thead th {\n",
       "        text-align: right;\n",
       "    }\n",
       "</style>\n",
       "<table border=\"1\" class=\"dataframe\">\n",
       "  <thead>\n",
       "    <tr style=\"text-align: right;\">\n",
       "      <th></th>\n",
       "      <th>messages_included</th>\n",
       "      <th>mb_per_month_included</th>\n",
       "      <th>minutes_included</th>\n",
       "      <th>rub_monthly_fee</th>\n",
       "      <th>rub_per_gb</th>\n",
       "      <th>rub_per_message</th>\n",
       "      <th>rub_per_minute</th>\n",
       "      <th>tariff_name</th>\n",
       "    </tr>\n",
       "  </thead>\n",
       "  <tbody>\n",
       "    <tr>\n",
       "      <th>0</th>\n",
       "      <td>50</td>\n",
       "      <td>15360</td>\n",
       "      <td>500</td>\n",
       "      <td>550</td>\n",
       "      <td>200</td>\n",
       "      <td>3</td>\n",
       "      <td>3</td>\n",
       "      <td>smart</td>\n",
       "    </tr>\n",
       "    <tr>\n",
       "      <th>1</th>\n",
       "      <td>1000</td>\n",
       "      <td>30720</td>\n",
       "      <td>3000</td>\n",
       "      <td>1950</td>\n",
       "      <td>150</td>\n",
       "      <td>1</td>\n",
       "      <td>1</td>\n",
       "      <td>ultra</td>\n",
       "    </tr>\n",
       "  </tbody>\n",
       "</table>\n",
       "</div>"
      ],
      "text/plain": [
       "   messages_included  mb_per_month_included  minutes_included  \\\n",
       "0                 50                  15360               500   \n",
       "1               1000                  30720              3000   \n",
       "\n",
       "   rub_monthly_fee  rub_per_gb  rub_per_message  rub_per_minute tariff_name  \n",
       "0              550         200                3               3       smart  \n",
       "1             1950         150                1               1       ultra  "
      ]
     },
     "metadata": {},
     "output_type": "display_data"
    },
    {
     "name": "stdout",
     "output_type": "stream",
     "text": [
      "<class 'pandas.core.frame.DataFrame'>\n",
      "RangeIndex: 2 entries, 0 to 1\n",
      "Data columns (total 8 columns):\n",
      " #   Column                 Non-Null Count  Dtype \n",
      "---  ------                 --------------  ----- \n",
      " 0   messages_included      2 non-null      int64 \n",
      " 1   mb_per_month_included  2 non-null      int64 \n",
      " 2   minutes_included       2 non-null      int64 \n",
      " 3   rub_monthly_fee        2 non-null      int64 \n",
      " 4   rub_per_gb             2 non-null      int64 \n",
      " 5   rub_per_message        2 non-null      int64 \n",
      " 6   rub_per_minute         2 non-null      int64 \n",
      " 7   tariff_name            2 non-null      object\n",
      "dtypes: int64(7), object(1)\n",
      "memory usage: 256.0+ bytes\n"
     ]
    }
   ],
   "source": [
    "#откроем и просмотрим исходные данные о тарифах\n",
    "try:\n",
    "    data_tariffs = pd.read_csv('/Users/abc/Documents/Courses/yandex/projects/4/tariffs.csv', sep=',')\n",
    "except:\n",
    "    data_tariffs = pd.read_csv('/datasets/tariffs.csv', sep=',')\n",
    "                             \n",
    "display(data_tariffs)\n",
    "data_tariffs.info()"
   ]
  },
  {
   "cell_type": "markdown",
   "id": "ec5c8689",
   "metadata": {},
   "source": [
    "__Содержание файла с тарифами__\n",
    "- messages_included - количество сообщений в тарифе на месяц\n",
    "- mb_per_month_included - количество мегабайт интернета на месяц\n",
    "- minutes_included - количество сообщений в тарифе\n",
    "- rub_monthly_fee - стоимость тарифа в месяц\n",
    "- rub_per_gb - стоимость 1 гб интернета после израсходования объема по тарифу\n",
    "- rub_per_message - стоимость сообщения после израсходования объема по тарифу\n",
    "- rub_per_minute - стоимость минуты звонка после израсходования объема по тарифу\n",
    "- tariff_name - название тарифа"
   ]
  },
  {
   "cell_type": "code",
   "execution_count": 6,
   "id": "858fed1b",
   "metadata": {},
   "outputs": [
    {
     "data": {
      "text/html": [
       "<div>\n",
       "<style scoped>\n",
       "    .dataframe tbody tr th:only-of-type {\n",
       "        vertical-align: middle;\n",
       "    }\n",
       "\n",
       "    .dataframe tbody tr th {\n",
       "        vertical-align: top;\n",
       "    }\n",
       "\n",
       "    .dataframe thead th {\n",
       "        text-align: right;\n",
       "    }\n",
       "</style>\n",
       "<table border=\"1\" class=\"dataframe\">\n",
       "  <thead>\n",
       "    <tr style=\"text-align: right;\">\n",
       "      <th></th>\n",
       "      <th>user_id</th>\n",
       "      <th>age</th>\n",
       "      <th>churn_date</th>\n",
       "      <th>city</th>\n",
       "      <th>first_name</th>\n",
       "      <th>last_name</th>\n",
       "      <th>reg_date</th>\n",
       "      <th>tariff_name</th>\n",
       "    </tr>\n",
       "  </thead>\n",
       "  <tbody>\n",
       "    <tr>\n",
       "      <th>0</th>\n",
       "      <td>1000</td>\n",
       "      <td>52</td>\n",
       "      <td>NaN</td>\n",
       "      <td>Краснодар</td>\n",
       "      <td>Рафаил</td>\n",
       "      <td>Верещагин</td>\n",
       "      <td>2018-05-25</td>\n",
       "      <td>ultra</td>\n",
       "    </tr>\n",
       "    <tr>\n",
       "      <th>1</th>\n",
       "      <td>1001</td>\n",
       "      <td>41</td>\n",
       "      <td>NaN</td>\n",
       "      <td>Москва</td>\n",
       "      <td>Иван</td>\n",
       "      <td>Ежов</td>\n",
       "      <td>2018-11-01</td>\n",
       "      <td>smart</td>\n",
       "    </tr>\n",
       "    <tr>\n",
       "      <th>2</th>\n",
       "      <td>1002</td>\n",
       "      <td>59</td>\n",
       "      <td>NaN</td>\n",
       "      <td>Стерлитамак</td>\n",
       "      <td>Евгений</td>\n",
       "      <td>Абрамович</td>\n",
       "      <td>2018-06-17</td>\n",
       "      <td>smart</td>\n",
       "    </tr>\n",
       "    <tr>\n",
       "      <th>3</th>\n",
       "      <td>1003</td>\n",
       "      <td>23</td>\n",
       "      <td>NaN</td>\n",
       "      <td>Москва</td>\n",
       "      <td>Белла</td>\n",
       "      <td>Белякова</td>\n",
       "      <td>2018-08-17</td>\n",
       "      <td>ultra</td>\n",
       "    </tr>\n",
       "    <tr>\n",
       "      <th>4</th>\n",
       "      <td>1004</td>\n",
       "      <td>68</td>\n",
       "      <td>NaN</td>\n",
       "      <td>Новокузнецк</td>\n",
       "      <td>Татьяна</td>\n",
       "      <td>Авдеенко</td>\n",
       "      <td>2018-05-14</td>\n",
       "      <td>ultra</td>\n",
       "    </tr>\n",
       "    <tr>\n",
       "      <th>...</th>\n",
       "      <td>...</td>\n",
       "      <td>...</td>\n",
       "      <td>...</td>\n",
       "      <td>...</td>\n",
       "      <td>...</td>\n",
       "      <td>...</td>\n",
       "      <td>...</td>\n",
       "      <td>...</td>\n",
       "    </tr>\n",
       "    <tr>\n",
       "      <th>495</th>\n",
       "      <td>1495</td>\n",
       "      <td>65</td>\n",
       "      <td>NaN</td>\n",
       "      <td>Иркутск</td>\n",
       "      <td>Авксентий</td>\n",
       "      <td>Фокин</td>\n",
       "      <td>2018-08-28</td>\n",
       "      <td>ultra</td>\n",
       "    </tr>\n",
       "    <tr>\n",
       "      <th>496</th>\n",
       "      <td>1496</td>\n",
       "      <td>36</td>\n",
       "      <td>NaN</td>\n",
       "      <td>Вологда</td>\n",
       "      <td>Трифон</td>\n",
       "      <td>Блохин</td>\n",
       "      <td>2018-01-27</td>\n",
       "      <td>smart</td>\n",
       "    </tr>\n",
       "    <tr>\n",
       "      <th>497</th>\n",
       "      <td>1497</td>\n",
       "      <td>32</td>\n",
       "      <td>NaN</td>\n",
       "      <td>Челябинск</td>\n",
       "      <td>Каролина</td>\n",
       "      <td>Агеева</td>\n",
       "      <td>2018-10-09</td>\n",
       "      <td>smart</td>\n",
       "    </tr>\n",
       "    <tr>\n",
       "      <th>498</th>\n",
       "      <td>1498</td>\n",
       "      <td>68</td>\n",
       "      <td>2018-10-25</td>\n",
       "      <td>Владикавказ</td>\n",
       "      <td>Всеволод</td>\n",
       "      <td>Акимчин</td>\n",
       "      <td>2018-07-19</td>\n",
       "      <td>smart</td>\n",
       "    </tr>\n",
       "    <tr>\n",
       "      <th>499</th>\n",
       "      <td>1499</td>\n",
       "      <td>35</td>\n",
       "      <td>NaN</td>\n",
       "      <td>Пермь</td>\n",
       "      <td>Гектор</td>\n",
       "      <td>Корнилов</td>\n",
       "      <td>2018-09-27</td>\n",
       "      <td>smart</td>\n",
       "    </tr>\n",
       "  </tbody>\n",
       "</table>\n",
       "<p>500 rows × 8 columns</p>\n",
       "</div>"
      ],
      "text/plain": [
       "     user_id  age  churn_date         city first_name  last_name    reg_date  \\\n",
       "0       1000   52         NaN    Краснодар     Рафаил  Верещагин  2018-05-25   \n",
       "1       1001   41         NaN       Москва       Иван       Ежов  2018-11-01   \n",
       "2       1002   59         NaN  Стерлитамак    Евгений  Абрамович  2018-06-17   \n",
       "3       1003   23         NaN       Москва      Белла   Белякова  2018-08-17   \n",
       "4       1004   68         NaN  Новокузнецк    Татьяна   Авдеенко  2018-05-14   \n",
       "..       ...  ...         ...          ...        ...        ...         ...   \n",
       "495     1495   65         NaN      Иркутск  Авксентий      Фокин  2018-08-28   \n",
       "496     1496   36         NaN      Вологда     Трифон     Блохин  2018-01-27   \n",
       "497     1497   32         NaN    Челябинск   Каролина     Агеева  2018-10-09   \n",
       "498     1498   68  2018-10-25  Владикавказ   Всеволод    Акимчин  2018-07-19   \n",
       "499     1499   35         NaN        Пермь     Гектор   Корнилов  2018-09-27   \n",
       "\n",
       "    tariff_name  \n",
       "0         ultra  \n",
       "1         smart  \n",
       "2         smart  \n",
       "3         ultra  \n",
       "4         ultra  \n",
       "..          ...  \n",
       "495       ultra  \n",
       "496       smart  \n",
       "497       smart  \n",
       "498       smart  \n",
       "499       smart  \n",
       "\n",
       "[500 rows x 8 columns]"
      ]
     },
     "metadata": {},
     "output_type": "display_data"
    },
    {
     "name": "stdout",
     "output_type": "stream",
     "text": [
      "<class 'pandas.core.frame.DataFrame'>\n",
      "RangeIndex: 500 entries, 0 to 499\n",
      "Data columns (total 8 columns):\n",
      " #   Column       Non-Null Count  Dtype \n",
      "---  ------       --------------  ----- \n",
      " 0   user_id      500 non-null    int64 \n",
      " 1   age          500 non-null    int64 \n",
      " 2   churn_date   38 non-null     object\n",
      " 3   city         500 non-null    object\n",
      " 4   first_name   500 non-null    object\n",
      " 5   last_name    500 non-null    object\n",
      " 6   reg_date     500 non-null    object\n",
      " 7   tariff_name  500 non-null    object\n",
      "dtypes: int64(2), object(6)\n",
      "memory usage: 31.4+ KB\n"
     ]
    }
   ],
   "source": [
    "#откроем и просмотрим исходные данные о пользователях\n",
    "try:\n",
    "    data_users = pd.read_csv('/Users/abc/Documents/Courses/yandex/projects/4/users.csv', sep=',')\n",
    "except:\n",
    "    data_users = pd.read_csv('/datasets/users.csv', sep=',')\n",
    "    \n",
    "data_users = data_users.rename(columns={'tariff':'tariff_name'})\n",
    "  \n",
    "display(data_users)\n",
    "data_users.info()"
   ]
  },
  {
   "cell_type": "code",
   "execution_count": 7,
   "id": "c9ef329a",
   "metadata": {},
   "outputs": [
    {
     "data": {
      "text/plain": [
       "Москва             99\n",
       "Санкт-Петербург    39\n",
       "Новосибирск        16\n",
       "Омск               14\n",
       "Казань             14\n",
       "                   ..\n",
       "Архангельск         1\n",
       "Иваново             1\n",
       "Нижневартовск       1\n",
       "Химки               1\n",
       "Подольск            1\n",
       "Name: city, Length: 76, dtype: int64"
      ]
     },
     "metadata": {},
     "output_type": "display_data"
    }
   ],
   "source": [
    "display(data_users['city'].value_counts())"
   ]
  },
  {
   "cell_type": "markdown",
   "id": "9ef3f3d2",
   "metadata": {},
   "source": [
    "__Содержание файла с пользователями__\n",
    "- user_id - идентификатор пользователя\n",
    "- age - возраст пользователя\n",
    "- churn_date - дата прекращения пользования тарифом (если значение пропущено, то тариф ещё действовал на момент выгрузки данных)\n",
    "- city - город пользователя\n",
    "- first_name - имя пользователя\n",
    "- last_name - фамилия пользователя\n",
    "- reg_date - дата регистрации на тариф пользователя\n",
    "- tariff - название тарифа\n"
   ]
  },
  {
   "cell_type": "markdown",
   "id": "a38a3c21",
   "metadata": {},
   "source": [
    "## Вывод по заданию 1 <a class=\"anchor\" id=\"chapter_1_3_1\"></a>\n",
    "\n",
    "- пропущенных значений в исходных данных, которые нужно было бы заплнять нет\n",
    "- значение всех столбцов понятно\n",
    "- необходимо проверить данные на явные и неявные дубликаты\n",
    "- необходимо поправить типы данных в столбцах"
   ]
  },
  {
   "cell_type": "markdown",
   "id": "62cf9b9c",
   "metadata": {},
   "source": [
    "<div class=\"alert alert-success\">\n",
    "    <h3> Комментарий ревьюера: Антон Оленев <a class=\"tocSkip\"> </h3>\n",
    "    \n",
    "<b>✅ Все отлично!:</b> файлы обработаны, первичная проверка на адекватность данных проведена ) \n",
    "Можно еще заметить что код чтения файлов и вызова `.info()` и `.display()`, почти не отличается для всех файлов, и можно было бы выделить функцию, котороая выполняла эти действия, а в качестве параметра принимала имя файла который надо прочитать.\n",
    "</div>"
   ]
  },
  {
   "cell_type": "markdown",
   "id": "0ab8bb57",
   "metadata": {},
   "source": [
    "# Шаг 2. Подготовка данных <a class=\"anchor\" id =\"chapter_1_4\"></a>\n",
    "\n",
    "- изменим типы данных\n",
    "- исправим ошибки в данных\n",
    "- Посчитаем для каждого пользователя:\n",
    "    - количество сделанных звонков и израсходованных минут разговора по месяцам;\n",
    "    - количество отправленных сообщений по месяцам;\n",
    "    - объем израсходованного интернет-трафика по месяцам;\n",
    "    - помесячную выручку с каждого пользователя (вычтите бесплатный лимит из суммарного количества звонков, сообщений и интернет-трафика; остаток умножьте на значение из тарифного плана; прибавьте абонентскую плату, соответствующую тарифному плану)."
   ]
  },
  {
   "cell_type": "code",
   "execution_count": 8,
   "id": "2f514632",
   "metadata": {},
   "outputs": [],
   "source": [
    "# изменим типы данных в исходных данных\n",
    "\n",
    "data_calls['call_date'] = pd.to_datetime(data_calls['call_date'], format='%Y-%m-%d')\n",
    "\n",
    "data_internet['session_date'] = pd.to_datetime(data_internet['session_date'], format='%Y-%m-%d')\n",
    "\n",
    "data_messages['message_date'] = pd.to_datetime(data_messages['message_date'], format='%Y-%m-%d')\n",
    "\n",
    "data_users['churn_date'] = pd.to_datetime(data_users['churn_date'], format='%Y-%m-%d')\n",
    "\n",
    "data_users['reg_date'] = pd.to_datetime(data_users['reg_date'], format='%Y-%m-%d')"
   ]
  },
  {
   "cell_type": "markdown",
   "id": "e45ef529",
   "metadata": {},
   "source": [
    "<div class=\"alert alert-success\">\n",
    "    <h3> Комментарий ревьюера: Антон Оленев <a class=\"tocSkip\"> </h3>\n",
    "    \n",
    "<b>✅ Все отлично!:</b> дату преобразовали правильно, можно было бы после такого преобразования посмотреть, правильно все прошло, и какие значения теперь в полях *_date\n",
    "</div>"
   ]
  },
  {
   "cell_type": "code",
   "execution_count": 9,
   "id": "a54c63d7",
   "metadata": {},
   "outputs": [
    {
     "data": {
      "text/html": [
       "<div>\n",
       "<style scoped>\n",
       "    .dataframe tbody tr th:only-of-type {\n",
       "        vertical-align: middle;\n",
       "    }\n",
       "\n",
       "    .dataframe tbody tr th {\n",
       "        vertical-align: top;\n",
       "    }\n",
       "\n",
       "    .dataframe thead th {\n",
       "        text-align: right;\n",
       "    }\n",
       "</style>\n",
       "<table border=\"1\" class=\"dataframe\">\n",
       "  <thead>\n",
       "    <tr style=\"text-align: right;\">\n",
       "      <th></th>\n",
       "      <th>id</th>\n",
       "      <th>mb_used</th>\n",
       "      <th>session_date</th>\n",
       "      <th>user_id</th>\n",
       "    </tr>\n",
       "  </thead>\n",
       "  <tbody>\n",
       "    <tr>\n",
       "      <th>0</th>\n",
       "      <td>1000_0</td>\n",
       "      <td>112.95</td>\n",
       "      <td>2018-11-25</td>\n",
       "      <td>1000</td>\n",
       "    </tr>\n",
       "    <tr>\n",
       "      <th>1</th>\n",
       "      <td>1000_1</td>\n",
       "      <td>1052.81</td>\n",
       "      <td>2018-09-07</td>\n",
       "      <td>1000</td>\n",
       "    </tr>\n",
       "  </tbody>\n",
       "</table>\n",
       "</div>"
      ],
      "text/plain": [
       "       id  mb_used session_date  user_id\n",
       "0  1000_0   112.95   2018-11-25     1000\n",
       "1  1000_1  1052.81   2018-09-07     1000"
      ]
     },
     "metadata": {},
     "output_type": "display_data"
    }
   ],
   "source": [
    "#удалим столбец unnamed:0 из таблицы data_internet\n",
    "\n",
    "\n",
    "data_internet = data_internet.drop(columns=['Unnamed: 0'])\n",
    "display(data_internet.head(2))"
   ]
  },
  {
   "cell_type": "code",
   "execution_count": 10,
   "id": "c80c0517",
   "metadata": {},
   "outputs": [
    {
     "data": {
      "text/html": [
       "<div>\n",
       "<style scoped>\n",
       "    .dataframe tbody tr th:only-of-type {\n",
       "        vertical-align: middle;\n",
       "    }\n",
       "\n",
       "    .dataframe tbody tr th {\n",
       "        vertical-align: top;\n",
       "    }\n",
       "\n",
       "    .dataframe thead th {\n",
       "        text-align: right;\n",
       "    }\n",
       "</style>\n",
       "<table border=\"1\" class=\"dataframe\">\n",
       "  <thead>\n",
       "    <tr style=\"text-align: right;\">\n",
       "      <th></th>\n",
       "      <th>user_id</th>\n",
       "      <th>month</th>\n",
       "      <th>count_calls</th>\n",
       "      <th>sum_calls</th>\n",
       "    </tr>\n",
       "  </thead>\n",
       "  <tbody>\n",
       "    <tr>\n",
       "      <th>0</th>\n",
       "      <td>1000</td>\n",
       "      <td>5</td>\n",
       "      <td>22</td>\n",
       "      <td>159</td>\n",
       "    </tr>\n",
       "    <tr>\n",
       "      <th>1</th>\n",
       "      <td>1000</td>\n",
       "      <td>6</td>\n",
       "      <td>43</td>\n",
       "      <td>172</td>\n",
       "    </tr>\n",
       "    <tr>\n",
       "      <th>2</th>\n",
       "      <td>1000</td>\n",
       "      <td>7</td>\n",
       "      <td>47</td>\n",
       "      <td>340</td>\n",
       "    </tr>\n",
       "    <tr>\n",
       "      <th>3</th>\n",
       "      <td>1000</td>\n",
       "      <td>8</td>\n",
       "      <td>52</td>\n",
       "      <td>408</td>\n",
       "    </tr>\n",
       "    <tr>\n",
       "      <th>4</th>\n",
       "      <td>1000</td>\n",
       "      <td>9</td>\n",
       "      <td>58</td>\n",
       "      <td>466</td>\n",
       "    </tr>\n",
       "    <tr>\n",
       "      <th>...</th>\n",
       "      <td>...</td>\n",
       "      <td>...</td>\n",
       "      <td>...</td>\n",
       "      <td>...</td>\n",
       "    </tr>\n",
       "    <tr>\n",
       "      <th>3169</th>\n",
       "      <td>1498</td>\n",
       "      <td>10</td>\n",
       "      <td>41</td>\n",
       "      <td>247</td>\n",
       "    </tr>\n",
       "    <tr>\n",
       "      <th>3170</th>\n",
       "      <td>1499</td>\n",
       "      <td>9</td>\n",
       "      <td>9</td>\n",
       "      <td>70</td>\n",
       "    </tr>\n",
       "    <tr>\n",
       "      <th>3171</th>\n",
       "      <td>1499</td>\n",
       "      <td>10</td>\n",
       "      <td>68</td>\n",
       "      <td>449</td>\n",
       "    </tr>\n",
       "    <tr>\n",
       "      <th>3172</th>\n",
       "      <td>1499</td>\n",
       "      <td>11</td>\n",
       "      <td>74</td>\n",
       "      <td>612</td>\n",
       "    </tr>\n",
       "    <tr>\n",
       "      <th>3173</th>\n",
       "      <td>1499</td>\n",
       "      <td>12</td>\n",
       "      <td>69</td>\n",
       "      <td>492</td>\n",
       "    </tr>\n",
       "  </tbody>\n",
       "</table>\n",
       "<p>3174 rows × 4 columns</p>\n",
       "</div>"
      ],
      "text/plain": [
       "      user_id  month  count_calls  sum_calls\n",
       "0        1000      5           22        159\n",
       "1        1000      6           43        172\n",
       "2        1000      7           47        340\n",
       "3        1000      8           52        408\n",
       "4        1000      9           58        466\n",
       "...       ...    ...          ...        ...\n",
       "3169     1498     10           41        247\n",
       "3170     1499      9            9         70\n",
       "3171     1499     10           68        449\n",
       "3172     1499     11           74        612\n",
       "3173     1499     12           69        492\n",
       "\n",
       "[3174 rows x 4 columns]"
      ]
     },
     "metadata": {},
     "output_type": "display_data"
    },
    {
     "name": "stdout",
     "output_type": "stream",
     "text": [
      "<class 'pandas.core.frame.DataFrame'>\n",
      "RangeIndex: 3174 entries, 0 to 3173\n",
      "Data columns (total 4 columns):\n",
      " #   Column       Non-Null Count  Dtype\n",
      "---  ------       --------------  -----\n",
      " 0   user_id      3174 non-null   int64\n",
      " 1   month        3174 non-null   int64\n",
      " 2   count_calls  3174 non-null   int64\n",
      " 3   sum_calls    3174 non-null   int64\n",
      "dtypes: int64(4)\n",
      "memory usage: 99.3 KB\n"
     ]
    }
   ],
   "source": [
    "#посчитаем для каждого пользователя количество звонков и израсходованных минут по месяцам\n",
    "\n",
    "#округлим длинну звонков до целого в большую сторону\n",
    "\n",
    "data_calls['duration'] = np.ceil(data_calls['duration'])\n",
    "data_calls['duration'] = data_calls['duration'].astype(int)\n",
    "\n",
    "#создадим столбец с месяцами\n",
    "\n",
    "data_calls['month'] = pd.DatetimeIndex(data_calls['call_date']).month\n",
    "\n",
    "#сгруппируем данные по посяцам\n",
    "\n",
    "data_calls_month = data_calls.groupby(['user_id', 'month'])['duration'].agg(['count', 'sum']).reset_index()\n",
    "data_calls_month = data_calls_month.rename(columns={'count':'count_calls', 'sum':'sum_calls'})\n",
    "\n",
    "display(data_calls_month)\n",
    "data_calls_month.info()"
   ]
  },
  {
   "cell_type": "markdown",
   "id": "b5aab5ea",
   "metadata": {},
   "source": [
    "<div class=\"alert alert-block alert-danger\">\n",
    "<h3> Комментарий ревьюера: Антон Оленев <a class=\"tocSkip\"/></h3>\n",
    "\n",
    "    \n",
    "<b>🤔 На доработку :</b> по условиям тарифа, каждый звонок округляется до целых минут вверх, и уже потом вычисляется общее количество звонков за месяц. Поэтому в столбце sum_calls, не может быть вещественных чисел, т.к. складываются только целые минуты.\n",
    "</div>\n",
    "    "
   ]
  },
  {
   "cell_type": "markdown",
   "id": "ccfe930f",
   "metadata": {},
   "source": [
    "<div class=\"alert alert-block alert-info\">\n",
    "Поправил выше\n",
    "</div>"
   ]
  },
  {
   "cell_type": "markdown",
   "id": "9b424a21",
   "metadata": {},
   "source": [
    "<div class=\"alert alert-success\">\n",
    "    <h3> Комментарий ревьюера V2: Антон Оленев <a class=\"tocSkip\"> </h3>\n",
    "     \n",
    "<b>✅ Все отлично!: </b> так правильно )\n",
    "</div>"
   ]
  },
  {
   "cell_type": "code",
   "execution_count": 11,
   "id": "2897b156",
   "metadata": {},
   "outputs": [
    {
     "data": {
      "text/html": [
       "<div>\n",
       "<style scoped>\n",
       "    .dataframe tbody tr th:only-of-type {\n",
       "        vertical-align: middle;\n",
       "    }\n",
       "\n",
       "    .dataframe tbody tr th {\n",
       "        vertical-align: top;\n",
       "    }\n",
       "\n",
       "    .dataframe thead th {\n",
       "        text-align: right;\n",
       "    }\n",
       "</style>\n",
       "<table border=\"1\" class=\"dataframe\">\n",
       "  <thead>\n",
       "    <tr style=\"text-align: right;\">\n",
       "      <th></th>\n",
       "      <th>user_id</th>\n",
       "      <th>month</th>\n",
       "      <th>count_messages</th>\n",
       "    </tr>\n",
       "  </thead>\n",
       "  <tbody>\n",
       "    <tr>\n",
       "      <th>0</th>\n",
       "      <td>1000</td>\n",
       "      <td>5</td>\n",
       "      <td>22</td>\n",
       "    </tr>\n",
       "    <tr>\n",
       "      <th>1</th>\n",
       "      <td>1000</td>\n",
       "      <td>6</td>\n",
       "      <td>60</td>\n",
       "    </tr>\n",
       "    <tr>\n",
       "      <th>2</th>\n",
       "      <td>1000</td>\n",
       "      <td>7</td>\n",
       "      <td>75</td>\n",
       "    </tr>\n",
       "    <tr>\n",
       "      <th>3</th>\n",
       "      <td>1000</td>\n",
       "      <td>8</td>\n",
       "      <td>81</td>\n",
       "    </tr>\n",
       "    <tr>\n",
       "      <th>4</th>\n",
       "      <td>1000</td>\n",
       "      <td>9</td>\n",
       "      <td>57</td>\n",
       "    </tr>\n",
       "    <tr>\n",
       "      <th>...</th>\n",
       "      <td>...</td>\n",
       "      <td>...</td>\n",
       "      <td>...</td>\n",
       "    </tr>\n",
       "    <tr>\n",
       "      <th>2712</th>\n",
       "      <td>1498</td>\n",
       "      <td>10</td>\n",
       "      <td>42</td>\n",
       "    </tr>\n",
       "    <tr>\n",
       "      <th>2713</th>\n",
       "      <td>1499</td>\n",
       "      <td>9</td>\n",
       "      <td>11</td>\n",
       "    </tr>\n",
       "    <tr>\n",
       "      <th>2714</th>\n",
       "      <td>1499</td>\n",
       "      <td>10</td>\n",
       "      <td>48</td>\n",
       "    </tr>\n",
       "    <tr>\n",
       "      <th>2715</th>\n",
       "      <td>1499</td>\n",
       "      <td>11</td>\n",
       "      <td>59</td>\n",
       "    </tr>\n",
       "    <tr>\n",
       "      <th>2716</th>\n",
       "      <td>1499</td>\n",
       "      <td>12</td>\n",
       "      <td>66</td>\n",
       "    </tr>\n",
       "  </tbody>\n",
       "</table>\n",
       "<p>2717 rows × 3 columns</p>\n",
       "</div>"
      ],
      "text/plain": [
       "      user_id  month  count_messages\n",
       "0        1000      5              22\n",
       "1        1000      6              60\n",
       "2        1000      7              75\n",
       "3        1000      8              81\n",
       "4        1000      9              57\n",
       "...       ...    ...             ...\n",
       "2712     1498     10              42\n",
       "2713     1499      9              11\n",
       "2714     1499     10              48\n",
       "2715     1499     11              59\n",
       "2716     1499     12              66\n",
       "\n",
       "[2717 rows x 3 columns]"
      ]
     },
     "metadata": {},
     "output_type": "display_data"
    }
   ],
   "source": [
    "#посчитаем количество отправленных сообщений по месяцам\n",
    "\n",
    "#создадим столбец с месяцами\n",
    "\n",
    "data_messages['month'] = pd.DatetimeIndex(data_messages['message_date']).month\n",
    "\n",
    "#сгруппируем данные по столбцам\n",
    "\n",
    "data_messages_month = data_messages.groupby(['user_id', 'month'])['month'].agg(['count']).reset_index()\n",
    "data_messages_month = data_messages_month.rename(columns={'count':'count_messages'})\n",
    "\n",
    "display(data_messages_month)"
   ]
  },
  {
   "cell_type": "markdown",
   "id": "e45a4756",
   "metadata": {},
   "source": [
    "<div class=\"alert alert-success\">\n",
    "    <h3> Комментарий ревьюера: Антон Оленев <a class=\"tocSkip\"> </h3>\n",
    "    \n",
    "<b>✅ Все хорошо:</b> месяц выделили правильно, сводная таблица правильная.\n",
    "</div>"
   ]
  },
  {
   "cell_type": "code",
   "execution_count": 12,
   "id": "3208e8cf",
   "metadata": {
    "scrolled": true
   },
   "outputs": [
    {
     "data": {
      "text/html": [
       "<div>\n",
       "<style scoped>\n",
       "    .dataframe tbody tr th:only-of-type {\n",
       "        vertical-align: middle;\n",
       "    }\n",
       "\n",
       "    .dataframe tbody tr th {\n",
       "        vertical-align: top;\n",
       "    }\n",
       "\n",
       "    .dataframe thead th {\n",
       "        text-align: right;\n",
       "    }\n",
       "</style>\n",
       "<table border=\"1\" class=\"dataframe\">\n",
       "  <thead>\n",
       "    <tr style=\"text-align: right;\">\n",
       "      <th></th>\n",
       "      <th>user_id</th>\n",
       "      <th>month</th>\n",
       "      <th>sum_traffic</th>\n",
       "    </tr>\n",
       "  </thead>\n",
       "  <tbody>\n",
       "    <tr>\n",
       "      <th>0</th>\n",
       "      <td>1000</td>\n",
       "      <td>5</td>\n",
       "      <td>2253.49</td>\n",
       "    </tr>\n",
       "    <tr>\n",
       "      <th>1</th>\n",
       "      <td>1000</td>\n",
       "      <td>6</td>\n",
       "      <td>23233.77</td>\n",
       "    </tr>\n",
       "    <tr>\n",
       "      <th>2</th>\n",
       "      <td>1000</td>\n",
       "      <td>7</td>\n",
       "      <td>14003.64</td>\n",
       "    </tr>\n",
       "    <tr>\n",
       "      <th>3</th>\n",
       "      <td>1000</td>\n",
       "      <td>8</td>\n",
       "      <td>14055.93</td>\n",
       "    </tr>\n",
       "    <tr>\n",
       "      <th>4</th>\n",
       "      <td>1000</td>\n",
       "      <td>9</td>\n",
       "      <td>14568.91</td>\n",
       "    </tr>\n",
       "    <tr>\n",
       "      <th>...</th>\n",
       "      <td>...</td>\n",
       "      <td>...</td>\n",
       "      <td>...</td>\n",
       "    </tr>\n",
       "    <tr>\n",
       "      <th>3198</th>\n",
       "      <td>1498</td>\n",
       "      <td>10</td>\n",
       "      <td>20579.36</td>\n",
       "    </tr>\n",
       "    <tr>\n",
       "      <th>3199</th>\n",
       "      <td>1499</td>\n",
       "      <td>9</td>\n",
       "      <td>1845.75</td>\n",
       "    </tr>\n",
       "    <tr>\n",
       "      <th>3200</th>\n",
       "      <td>1499</td>\n",
       "      <td>10</td>\n",
       "      <td>17788.51</td>\n",
       "    </tr>\n",
       "    <tr>\n",
       "      <th>3201</th>\n",
       "      <td>1499</td>\n",
       "      <td>11</td>\n",
       "      <td>17963.31</td>\n",
       "    </tr>\n",
       "    <tr>\n",
       "      <th>3202</th>\n",
       "      <td>1499</td>\n",
       "      <td>12</td>\n",
       "      <td>13055.58</td>\n",
       "    </tr>\n",
       "  </tbody>\n",
       "</table>\n",
       "<p>3203 rows × 3 columns</p>\n",
       "</div>"
      ],
      "text/plain": [
       "      user_id  month  sum_traffic\n",
       "0        1000      5      2253.49\n",
       "1        1000      6     23233.77\n",
       "2        1000      7     14003.64\n",
       "3        1000      8     14055.93\n",
       "4        1000      9     14568.91\n",
       "...       ...    ...          ...\n",
       "3198     1498     10     20579.36\n",
       "3199     1499      9      1845.75\n",
       "3200     1499     10     17788.51\n",
       "3201     1499     11     17963.31\n",
       "3202     1499     12     13055.58\n",
       "\n",
       "[3203 rows x 3 columns]"
      ]
     },
     "metadata": {},
     "output_type": "display_data"
    }
   ],
   "source": [
    "#посчитаем объем трафика израсходованного по месяцам\n",
    "\n",
    "#добавим столбец с месяцами\n",
    "\n",
    "data_internet['month'] = pd.DatetimeIndex(data_internet['session_date']).month\n",
    "\n",
    "#сгруппируем данные по столбцам\n",
    "\n",
    "data_internet_month = data_internet.groupby(['user_id', 'month'])['mb_used'].agg(['sum']).reset_index()\n",
    "data_internet_month = data_internet_month.rename(columns={'sum':'sum_traffic'})\n",
    "\n",
    "display(data_internet_month)\n"
   ]
  },
  {
   "cell_type": "markdown",
   "id": "1bbae995",
   "metadata": {},
   "source": [
    "<div class=\"alert alert-success\">\n",
    "    <h3> Комментарий ревьюера: Антон Оленев <a class=\"tocSkip\"> </h3>\n",
    "    \n",
    "<b>✅ Все отлично!:</b> с траффиком все правильно, суммируется весь трафик за месяц, без предварительного округления каждой сессии до Мб вверх.\n",
    "</div>"
   ]
  },
  {
   "cell_type": "code",
   "execution_count": 13,
   "id": "d2ca0b99",
   "metadata": {},
   "outputs": [
    {
     "data": {
      "text/html": [
       "<div>\n",
       "<style scoped>\n",
       "    .dataframe tbody tr th:only-of-type {\n",
       "        vertical-align: middle;\n",
       "    }\n",
       "\n",
       "    .dataframe tbody tr th {\n",
       "        vertical-align: top;\n",
       "    }\n",
       "\n",
       "    .dataframe thead th {\n",
       "        text-align: right;\n",
       "    }\n",
       "</style>\n",
       "<table border=\"1\" class=\"dataframe\">\n",
       "  <thead>\n",
       "    <tr style=\"text-align: right;\">\n",
       "      <th></th>\n",
       "      <th>user_id</th>\n",
       "      <th>month</th>\n",
       "      <th>sum_traffic</th>\n",
       "      <th>count_calls</th>\n",
       "      <th>sum_calls</th>\n",
       "      <th>count_messages</th>\n",
       "      <th>age</th>\n",
       "      <th>churn_date</th>\n",
       "      <th>city</th>\n",
       "      <th>first_name</th>\n",
       "      <th>last_name</th>\n",
       "      <th>reg_date</th>\n",
       "      <th>tariff_name</th>\n",
       "      <th>messages_included</th>\n",
       "      <th>mb_per_month_included</th>\n",
       "      <th>minutes_included</th>\n",
       "      <th>rub_monthly_fee</th>\n",
       "      <th>rub_per_gb</th>\n",
       "      <th>rub_per_message</th>\n",
       "      <th>rub_per_minute</th>\n",
       "    </tr>\n",
       "  </thead>\n",
       "  <tbody>\n",
       "    <tr>\n",
       "      <th>2253</th>\n",
       "      <td>1358</td>\n",
       "      <td>8.0</td>\n",
       "      <td>11258.67</td>\n",
       "      <td>75.0</td>\n",
       "      <td>573.0</td>\n",
       "      <td>55.0</td>\n",
       "      <td>64</td>\n",
       "      <td>NaT</td>\n",
       "      <td>Ставрополь</td>\n",
       "      <td>Демьян</td>\n",
       "      <td>Логинов</td>\n",
       "      <td>2018-02-21</td>\n",
       "      <td>smart</td>\n",
       "      <td>50</td>\n",
       "      <td>15360</td>\n",
       "      <td>500</td>\n",
       "      <td>550</td>\n",
       "      <td>200</td>\n",
       "      <td>3</td>\n",
       "      <td>3</td>\n",
       "    </tr>\n",
       "    <tr>\n",
       "      <th>410</th>\n",
       "      <td>1064</td>\n",
       "      <td>12.0</td>\n",
       "      <td>20424.72</td>\n",
       "      <td>46.0</td>\n",
       "      <td>337.0</td>\n",
       "      <td>26.0</td>\n",
       "      <td>55</td>\n",
       "      <td>2018-12-26</td>\n",
       "      <td>Якутск</td>\n",
       "      <td>Динара</td>\n",
       "      <td>Алфеева</td>\n",
       "      <td>2018-03-17</td>\n",
       "      <td>smart</td>\n",
       "      <td>50</td>\n",
       "      <td>15360</td>\n",
       "      <td>500</td>\n",
       "      <td>550</td>\n",
       "      <td>200</td>\n",
       "      <td>3</td>\n",
       "      <td>3</td>\n",
       "    </tr>\n",
       "    <tr>\n",
       "      <th>1521</th>\n",
       "      <td>1240</td>\n",
       "      <td>5.0</td>\n",
       "      <td>43824.90</td>\n",
       "      <td>59.0</td>\n",
       "      <td>395.0</td>\n",
       "      <td>0.0</td>\n",
       "      <td>30</td>\n",
       "      <td>NaT</td>\n",
       "      <td>Воронеж</td>\n",
       "      <td>Зинаида</td>\n",
       "      <td>Шарова</td>\n",
       "      <td>2018-02-27</td>\n",
       "      <td>ultra</td>\n",
       "      <td>1000</td>\n",
       "      <td>30720</td>\n",
       "      <td>3000</td>\n",
       "      <td>1950</td>\n",
       "      <td>150</td>\n",
       "      <td>1</td>\n",
       "      <td>1</td>\n",
       "    </tr>\n",
       "    <tr>\n",
       "      <th>2414</th>\n",
       "      <td>1380</td>\n",
       "      <td>12.0</td>\n",
       "      <td>43304.50</td>\n",
       "      <td>104.0</td>\n",
       "      <td>735.0</td>\n",
       "      <td>30.0</td>\n",
       "      <td>45</td>\n",
       "      <td>NaT</td>\n",
       "      <td>Ростов-на-Дону</td>\n",
       "      <td>Доминика</td>\n",
       "      <td>Карасева</td>\n",
       "      <td>2018-05-07</td>\n",
       "      <td>ultra</td>\n",
       "      <td>1000</td>\n",
       "      <td>30720</td>\n",
       "      <td>3000</td>\n",
       "      <td>1950</td>\n",
       "      <td>150</td>\n",
       "      <td>1</td>\n",
       "      <td>1</td>\n",
       "    </tr>\n",
       "    <tr>\n",
       "      <th>937</th>\n",
       "      <td>1148</td>\n",
       "      <td>8.0</td>\n",
       "      <td>34064.25</td>\n",
       "      <td>104.0</td>\n",
       "      <td>717.0</td>\n",
       "      <td>14.0</td>\n",
       "      <td>23</td>\n",
       "      <td>NaT</td>\n",
       "      <td>Тольятти</td>\n",
       "      <td>Евдокия</td>\n",
       "      <td>Киреева</td>\n",
       "      <td>2018-04-17</td>\n",
       "      <td>ultra</td>\n",
       "      <td>1000</td>\n",
       "      <td>30720</td>\n",
       "      <td>3000</td>\n",
       "      <td>1950</td>\n",
       "      <td>150</td>\n",
       "      <td>1</td>\n",
       "      <td>1</td>\n",
       "    </tr>\n",
       "    <tr>\n",
       "      <th>674</th>\n",
       "      <td>1106</td>\n",
       "      <td>7.0</td>\n",
       "      <td>21626.86</td>\n",
       "      <td>NaN</td>\n",
       "      <td>0.0</td>\n",
       "      <td>24.0</td>\n",
       "      <td>67</td>\n",
       "      <td>NaT</td>\n",
       "      <td>Калуга</td>\n",
       "      <td>Исаак</td>\n",
       "      <td>Костин</td>\n",
       "      <td>2018-04-26</td>\n",
       "      <td>ultra</td>\n",
       "      <td>1000</td>\n",
       "      <td>30720</td>\n",
       "      <td>3000</td>\n",
       "      <td>1950</td>\n",
       "      <td>150</td>\n",
       "      <td>1</td>\n",
       "      <td>1</td>\n",
       "    </tr>\n",
       "    <tr>\n",
       "      <th>1066</th>\n",
       "      <td>1168</td>\n",
       "      <td>12.0</td>\n",
       "      <td>29316.49</td>\n",
       "      <td>153.0</td>\n",
       "      <td>1199.0</td>\n",
       "      <td>45.0</td>\n",
       "      <td>28</td>\n",
       "      <td>NaT</td>\n",
       "      <td>Кострома</td>\n",
       "      <td>Лилия</td>\n",
       "      <td>Ананьева</td>\n",
       "      <td>2018-01-24</td>\n",
       "      <td>ultra</td>\n",
       "      <td>1000</td>\n",
       "      <td>30720</td>\n",
       "      <td>3000</td>\n",
       "      <td>1950</td>\n",
       "      <td>150</td>\n",
       "      <td>1</td>\n",
       "      <td>1</td>\n",
       "    </tr>\n",
       "    <tr>\n",
       "      <th>1682</th>\n",
       "      <td>1266</td>\n",
       "      <td>8.0</td>\n",
       "      <td>16415.88</td>\n",
       "      <td>50.0</td>\n",
       "      <td>305.0</td>\n",
       "      <td>37.0</td>\n",
       "      <td>32</td>\n",
       "      <td>NaT</td>\n",
       "      <td>Калуга</td>\n",
       "      <td>Тала</td>\n",
       "      <td>Антропова</td>\n",
       "      <td>2018-07-20</td>\n",
       "      <td>smart</td>\n",
       "      <td>50</td>\n",
       "      <td>15360</td>\n",
       "      <td>500</td>\n",
       "      <td>550</td>\n",
       "      <td>200</td>\n",
       "      <td>3</td>\n",
       "      <td>3</td>\n",
       "    </tr>\n",
       "    <tr>\n",
       "      <th>237</th>\n",
       "      <td>1037</td>\n",
       "      <td>10.0</td>\n",
       "      <td>10411.44</td>\n",
       "      <td>40.0</td>\n",
       "      <td>304.0</td>\n",
       "      <td>16.0</td>\n",
       "      <td>73</td>\n",
       "      <td>NaT</td>\n",
       "      <td>Череповец</td>\n",
       "      <td>Изольда</td>\n",
       "      <td>Архипова</td>\n",
       "      <td>2018-10-13</td>\n",
       "      <td>smart</td>\n",
       "      <td>50</td>\n",
       "      <td>15360</td>\n",
       "      <td>500</td>\n",
       "      <td>550</td>\n",
       "      <td>200</td>\n",
       "      <td>3</td>\n",
       "      <td>3</td>\n",
       "    </tr>\n",
       "    <tr>\n",
       "      <th>1098</th>\n",
       "      <td>1173</td>\n",
       "      <td>11.0</td>\n",
       "      <td>23225.60</td>\n",
       "      <td>114.0</td>\n",
       "      <td>811.0</td>\n",
       "      <td>15.0</td>\n",
       "      <td>46</td>\n",
       "      <td>NaT</td>\n",
       "      <td>Красноярск</td>\n",
       "      <td>Агафья</td>\n",
       "      <td>Григорьева</td>\n",
       "      <td>2018-06-21</td>\n",
       "      <td>smart</td>\n",
       "      <td>50</td>\n",
       "      <td>15360</td>\n",
       "      <td>500</td>\n",
       "      <td>550</td>\n",
       "      <td>200</td>\n",
       "      <td>3</td>\n",
       "      <td>3</td>\n",
       "    </tr>\n",
       "  </tbody>\n",
       "</table>\n",
       "</div>"
      ],
      "text/plain": [
       "      user_id  month  sum_traffic  count_calls  sum_calls  count_messages  \\\n",
       "2253     1358    8.0     11258.67         75.0      573.0            55.0   \n",
       "410      1064   12.0     20424.72         46.0      337.0            26.0   \n",
       "1521     1240    5.0     43824.90         59.0      395.0             0.0   \n",
       "2414     1380   12.0     43304.50        104.0      735.0            30.0   \n",
       "937      1148    8.0     34064.25        104.0      717.0            14.0   \n",
       "674      1106    7.0     21626.86          NaN        0.0            24.0   \n",
       "1066     1168   12.0     29316.49        153.0     1199.0            45.0   \n",
       "1682     1266    8.0     16415.88         50.0      305.0            37.0   \n",
       "237      1037   10.0     10411.44         40.0      304.0            16.0   \n",
       "1098     1173   11.0     23225.60        114.0      811.0            15.0   \n",
       "\n",
       "      age churn_date            city first_name   last_name   reg_date  \\\n",
       "2253   64        NaT      Ставрополь     Демьян     Логинов 2018-02-21   \n",
       "410    55 2018-12-26          Якутск     Динара     Алфеева 2018-03-17   \n",
       "1521   30        NaT         Воронеж    Зинаида      Шарова 2018-02-27   \n",
       "2414   45        NaT  Ростов-на-Дону   Доминика    Карасева 2018-05-07   \n",
       "937    23        NaT        Тольятти    Евдокия     Киреева 2018-04-17   \n",
       "674    67        NaT          Калуга      Исаак      Костин 2018-04-26   \n",
       "1066   28        NaT        Кострома      Лилия    Ананьева 2018-01-24   \n",
       "1682   32        NaT          Калуга       Тала   Антропова 2018-07-20   \n",
       "237    73        NaT       Череповец    Изольда    Архипова 2018-10-13   \n",
       "1098   46        NaT      Красноярск     Агафья  Григорьева 2018-06-21   \n",
       "\n",
       "     tariff_name  messages_included  mb_per_month_included  minutes_included  \\\n",
       "2253       smart                 50                  15360               500   \n",
       "410        smart                 50                  15360               500   \n",
       "1521       ultra               1000                  30720              3000   \n",
       "2414       ultra               1000                  30720              3000   \n",
       "937        ultra               1000                  30720              3000   \n",
       "674        ultra               1000                  30720              3000   \n",
       "1066       ultra               1000                  30720              3000   \n",
       "1682       smart                 50                  15360               500   \n",
       "237        smart                 50                  15360               500   \n",
       "1098       smart                 50                  15360               500   \n",
       "\n",
       "      rub_monthly_fee  rub_per_gb  rub_per_message  rub_per_minute  \n",
       "2253              550         200                3               3  \n",
       "410               550         200                3               3  \n",
       "1521             1950         150                1               1  \n",
       "2414             1950         150                1               1  \n",
       "937              1950         150                1               1  \n",
       "674              1950         150                1               1  \n",
       "1066             1950         150                1               1  \n",
       "1682              550         200                3               3  \n",
       "237               550         200                3               3  \n",
       "1098              550         200                3               3  "
      ]
     },
     "metadata": {},
     "output_type": "display_data"
    },
    {
     "name": "stdout",
     "output_type": "stream",
     "text": [
      "<class 'pandas.core.frame.DataFrame'>\n",
      "Int64Index: 3216 entries, 0 to 3215\n",
      "Data columns (total 20 columns):\n",
      " #   Column                 Non-Null Count  Dtype         \n",
      "---  ------                 --------------  -----         \n",
      " 0   user_id                3216 non-null   int64         \n",
      " 1   month                  3214 non-null   float64       \n",
      " 2   sum_traffic            3216 non-null   float64       \n",
      " 3   count_calls            3174 non-null   float64       \n",
      " 4   sum_calls              3216 non-null   float64       \n",
      " 5   count_messages         3216 non-null   float64       \n",
      " 6   age                    3216 non-null   int64         \n",
      " 7   churn_date             189 non-null    datetime64[ns]\n",
      " 8   city                   3216 non-null   object        \n",
      " 9   first_name             3216 non-null   object        \n",
      " 10  last_name              3216 non-null   object        \n",
      " 11  reg_date               3216 non-null   datetime64[ns]\n",
      " 12  tariff_name            3216 non-null   object        \n",
      " 13  messages_included      3216 non-null   int64         \n",
      " 14  mb_per_month_included  3216 non-null   int64         \n",
      " 15  minutes_included       3216 non-null   int64         \n",
      " 16  rub_monthly_fee        3216 non-null   int64         \n",
      " 17  rub_per_gb             3216 non-null   int64         \n",
      " 18  rub_per_message        3216 non-null   int64         \n",
      " 19  rub_per_minute         3216 non-null   int64         \n",
      "dtypes: datetime64[ns](2), float64(5), int64(9), object(4)\n",
      "memory usage: 527.6+ KB\n"
     ]
    }
   ],
   "source": [
    "# посчитаем помесячную выручку с каждого пользователя\n",
    "# (вычтите бесплатный лимит из суммарного количества звонков, сообщений и интернет-трафика; \n",
    "# остаток умножьте на значение из тарифного плана; прибавьте абонентскую плату, \n",
    "# соответствующую тарифному плану).\n",
    "\n",
    "# за основу возьмем таблицу с трафиком, потому что в ней больше всего данных \n",
    "# и будем добавлять значения трафика к ней\n",
    "\n",
    "data_merge = data_internet_month.merge(data_calls_month, on=['user_id', 'month'], how='outer')\n",
    "data_merge = data_merge.merge(data_messages_month, on=['user_id', 'month'], how='outer')\n",
    "data_merge = data_merge.merge(data_users, on='user_id', how='outer')\n",
    "data_merge = data_merge.merge(data_tariffs, on='tariff_name', how='left')\n",
    "\n",
    "#обнулим значения трафика, звонков и сообщений там где они были пропущены в исходных данных\n",
    "\n",
    "data_merge = data_merge.fillna(value={'sum_traffic':0, 'sum_calls':0, 'count_messages':0})\n",
    "\n",
    "display(data_merge.sample(10))\n",
    "data_merge.info()\n"
   ]
  },
  {
   "cell_type": "code",
   "execution_count": 14,
   "id": "7e2ecd2f",
   "metadata": {},
   "outputs": [
    {
     "data": {
      "text/html": [
       "<div>\n",
       "<style scoped>\n",
       "    .dataframe tbody tr th:only-of-type {\n",
       "        vertical-align: middle;\n",
       "    }\n",
       "\n",
       "    .dataframe tbody tr th {\n",
       "        vertical-align: top;\n",
       "    }\n",
       "\n",
       "    .dataframe thead th {\n",
       "        text-align: right;\n",
       "    }\n",
       "</style>\n",
       "<table border=\"1\" class=\"dataframe\">\n",
       "  <thead>\n",
       "    <tr style=\"text-align: right;\">\n",
       "      <th></th>\n",
       "      <th>user_id</th>\n",
       "      <th>month</th>\n",
       "      <th>sum_traffic</th>\n",
       "      <th>count_calls</th>\n",
       "      <th>sum_calls</th>\n",
       "      <th>count_messages</th>\n",
       "      <th>age</th>\n",
       "      <th>churn_date</th>\n",
       "      <th>city</th>\n",
       "      <th>first_name</th>\n",
       "      <th>last_name</th>\n",
       "      <th>reg_date</th>\n",
       "      <th>tariff_name</th>\n",
       "      <th>messages_included</th>\n",
       "      <th>mb_per_month_included</th>\n",
       "      <th>minutes_included</th>\n",
       "      <th>rub_monthly_fee</th>\n",
       "      <th>rub_per_gb</th>\n",
       "      <th>rub_per_message</th>\n",
       "      <th>rub_per_minute</th>\n",
       "    </tr>\n",
       "  </thead>\n",
       "  <tbody>\n",
       "    <tr>\n",
       "      <th>3214</th>\n",
       "      <td>1128</td>\n",
       "      <td>NaN</td>\n",
       "      <td>0.0</td>\n",
       "      <td>NaN</td>\n",
       "      <td>0.0</td>\n",
       "      <td>0.0</td>\n",
       "      <td>51</td>\n",
       "      <td>2018-12-23</td>\n",
       "      <td>Волжский</td>\n",
       "      <td>Ксения</td>\n",
       "      <td>Агаева</td>\n",
       "      <td>2018-12-15</td>\n",
       "      <td>ultra</td>\n",
       "      <td>1000</td>\n",
       "      <td>30720</td>\n",
       "      <td>3000</td>\n",
       "      <td>1950</td>\n",
       "      <td>150</td>\n",
       "      <td>1</td>\n",
       "      <td>1</td>\n",
       "    </tr>\n",
       "    <tr>\n",
       "      <th>3215</th>\n",
       "      <td>1371</td>\n",
       "      <td>NaN</td>\n",
       "      <td>0.0</td>\n",
       "      <td>NaN</td>\n",
       "      <td>0.0</td>\n",
       "      <td>0.0</td>\n",
       "      <td>50</td>\n",
       "      <td>2018-12-30</td>\n",
       "      <td>Омск</td>\n",
       "      <td>Ириней</td>\n",
       "      <td>Трофимов</td>\n",
       "      <td>2018-12-25</td>\n",
       "      <td>smart</td>\n",
       "      <td>50</td>\n",
       "      <td>15360</td>\n",
       "      <td>500</td>\n",
       "      <td>550</td>\n",
       "      <td>200</td>\n",
       "      <td>3</td>\n",
       "      <td>3</td>\n",
       "    </tr>\n",
       "  </tbody>\n",
       "</table>\n",
       "</div>"
      ],
      "text/plain": [
       "      user_id  month  sum_traffic  count_calls  sum_calls  count_messages  \\\n",
       "3214     1128    NaN          0.0          NaN        0.0             0.0   \n",
       "3215     1371    NaN          0.0          NaN        0.0             0.0   \n",
       "\n",
       "      age churn_date      city first_name last_name   reg_date tariff_name  \\\n",
       "3214   51 2018-12-23  Волжский     Ксения    Агаева 2018-12-15       ultra   \n",
       "3215   50 2018-12-30      Омск     Ириней  Трофимов 2018-12-25       smart   \n",
       "\n",
       "      messages_included  mb_per_month_included  minutes_included  \\\n",
       "3214               1000                  30720              3000   \n",
       "3215                 50                  15360               500   \n",
       "\n",
       "      rub_monthly_fee  rub_per_gb  rub_per_message  rub_per_minute  \n",
       "3214             1950         150                1               1  \n",
       "3215              550         200                3               3  "
      ]
     },
     "metadata": {},
     "output_type": "display_data"
    }
   ],
   "source": [
    "display(data_merge.loc[data_merge['month'].isna()])"
   ]
  },
  {
   "cell_type": "code",
   "execution_count": 15,
   "id": "683df587",
   "metadata": {},
   "outputs": [
    {
     "name": "stdout",
     "output_type": "stream",
     "text": [
      "<class 'pandas.core.frame.DataFrame'>\n",
      "Int64Index: 3214 entries, 0 to 3213\n",
      "Data columns (total 20 columns):\n",
      " #   Column                 Non-Null Count  Dtype         \n",
      "---  ------                 --------------  -----         \n",
      " 0   user_id                3214 non-null   int64         \n",
      " 1   month                  3214 non-null   float64       \n",
      " 2   sum_traffic            3214 non-null   float64       \n",
      " 3   count_calls            3174 non-null   float64       \n",
      " 4   sum_calls              3214 non-null   float64       \n",
      " 5   count_messages         3214 non-null   float64       \n",
      " 6   age                    3214 non-null   int64         \n",
      " 7   churn_date             187 non-null    datetime64[ns]\n",
      " 8   city                   3214 non-null   object        \n",
      " 9   first_name             3214 non-null   object        \n",
      " 10  last_name              3214 non-null   object        \n",
      " 11  reg_date               3214 non-null   datetime64[ns]\n",
      " 12  tariff_name            3214 non-null   object        \n",
      " 13  messages_included      3214 non-null   int64         \n",
      " 14  mb_per_month_included  3214 non-null   int64         \n",
      " 15  minutes_included       3214 non-null   int64         \n",
      " 16  rub_monthly_fee        3214 non-null   int64         \n",
      " 17  rub_per_gb             3214 non-null   int64         \n",
      " 18  rub_per_message        3214 non-null   int64         \n",
      " 19  rub_per_minute         3214 non-null   int64         \n",
      "dtypes: datetime64[ns](2), float64(5), int64(9), object(4)\n",
      "memory usage: 527.3+ KB\n"
     ]
    }
   ],
   "source": [
    "#при объединение таблиц появились пропуски в столбцах churn_date, month, count_calls\n",
    "\n",
    "#столбец churn_date обрабатывать не нужно потому что пропуски в нем говорят о том что пользователь не прекратил\n",
    "#пользоваться тарифом\n",
    "\n",
    "#обработаем столбец month, для этого удалим пустые строчки потому что это строчки \n",
    "#с пользователями которые перестали пользоваться своим тарифом спустя 8 и 5 дней соответственно\n",
    "\n",
    "data_merge = data_merge.dropna(subset=['month'])\n",
    "data_merge.info()"
   ]
  },
  {
   "cell_type": "code",
   "execution_count": 16,
   "id": "a4463025",
   "metadata": {},
   "outputs": [
    {
     "data": {
      "text/html": [
       "<div>\n",
       "<style scoped>\n",
       "    .dataframe tbody tr th:only-of-type {\n",
       "        vertical-align: middle;\n",
       "    }\n",
       "\n",
       "    .dataframe tbody tr th {\n",
       "        vertical-align: top;\n",
       "    }\n",
       "\n",
       "    .dataframe thead th {\n",
       "        text-align: right;\n",
       "    }\n",
       "</style>\n",
       "<table border=\"1\" class=\"dataframe\">\n",
       "  <thead>\n",
       "    <tr style=\"text-align: right;\">\n",
       "      <th></th>\n",
       "      <th>user_id</th>\n",
       "      <th>month</th>\n",
       "      <th>sum_traffic</th>\n",
       "      <th>count_calls</th>\n",
       "      <th>sum_calls</th>\n",
       "      <th>count_messages</th>\n",
       "      <th>age</th>\n",
       "      <th>churn_date</th>\n",
       "      <th>city</th>\n",
       "      <th>first_name</th>\n",
       "      <th>last_name</th>\n",
       "      <th>reg_date</th>\n",
       "      <th>tariff_name</th>\n",
       "      <th>messages_included</th>\n",
       "      <th>mb_per_month_included</th>\n",
       "      <th>minutes_included</th>\n",
       "      <th>rub_monthly_fee</th>\n",
       "      <th>rub_per_gb</th>\n",
       "      <th>rub_per_message</th>\n",
       "      <th>rub_per_minute</th>\n",
       "    </tr>\n",
       "  </thead>\n",
       "  <tbody>\n",
       "    <tr>\n",
       "      <th>570</th>\n",
       "      <td>1091</td>\n",
       "      <td>5.0</td>\n",
       "      <td>10703.37</td>\n",
       "      <td>NaN</td>\n",
       "      <td>0.0</td>\n",
       "      <td>30.0</td>\n",
       "      <td>36</td>\n",
       "      <td>NaT</td>\n",
       "      <td>Набережные Челны</td>\n",
       "      <td>Вера</td>\n",
       "      <td>Суслова</td>\n",
       "      <td>2018-05-08</td>\n",
       "      <td>ultra</td>\n",
       "      <td>1000</td>\n",
       "      <td>30720</td>\n",
       "      <td>3000</td>\n",
       "      <td>1950</td>\n",
       "      <td>150</td>\n",
       "      <td>1</td>\n",
       "      <td>1</td>\n",
       "    </tr>\n",
       "    <tr>\n",
       "      <th>571</th>\n",
       "      <td>1091</td>\n",
       "      <td>6.0</td>\n",
       "      <td>10236.19</td>\n",
       "      <td>NaN</td>\n",
       "      <td>0.0</td>\n",
       "      <td>30.0</td>\n",
       "      <td>36</td>\n",
       "      <td>NaT</td>\n",
       "      <td>Набережные Челны</td>\n",
       "      <td>Вера</td>\n",
       "      <td>Суслова</td>\n",
       "      <td>2018-05-08</td>\n",
       "      <td>ultra</td>\n",
       "      <td>1000</td>\n",
       "      <td>30720</td>\n",
       "      <td>3000</td>\n",
       "      <td>1950</td>\n",
       "      <td>150</td>\n",
       "      <td>1</td>\n",
       "      <td>1</td>\n",
       "    </tr>\n",
       "    <tr>\n",
       "      <th>572</th>\n",
       "      <td>1091</td>\n",
       "      <td>7.0</td>\n",
       "      <td>16444.98</td>\n",
       "      <td>NaN</td>\n",
       "      <td>0.0</td>\n",
       "      <td>35.0</td>\n",
       "      <td>36</td>\n",
       "      <td>NaT</td>\n",
       "      <td>Набережные Челны</td>\n",
       "      <td>Вера</td>\n",
       "      <td>Суслова</td>\n",
       "      <td>2018-05-08</td>\n",
       "      <td>ultra</td>\n",
       "      <td>1000</td>\n",
       "      <td>30720</td>\n",
       "      <td>3000</td>\n",
       "      <td>1950</td>\n",
       "      <td>150</td>\n",
       "      <td>1</td>\n",
       "      <td>1</td>\n",
       "    </tr>\n",
       "    <tr>\n",
       "      <th>573</th>\n",
       "      <td>1091</td>\n",
       "      <td>8.0</td>\n",
       "      <td>12633.88</td>\n",
       "      <td>NaN</td>\n",
       "      <td>0.0</td>\n",
       "      <td>31.0</td>\n",
       "      <td>36</td>\n",
       "      <td>NaT</td>\n",
       "      <td>Набережные Челны</td>\n",
       "      <td>Вера</td>\n",
       "      <td>Суслова</td>\n",
       "      <td>2018-05-08</td>\n",
       "      <td>ultra</td>\n",
       "      <td>1000</td>\n",
       "      <td>30720</td>\n",
       "      <td>3000</td>\n",
       "      <td>1950</td>\n",
       "      <td>150</td>\n",
       "      <td>1</td>\n",
       "      <td>1</td>\n",
       "    </tr>\n",
       "    <tr>\n",
       "      <th>574</th>\n",
       "      <td>1091</td>\n",
       "      <td>9.0</td>\n",
       "      <td>16597.11</td>\n",
       "      <td>NaN</td>\n",
       "      <td>0.0</td>\n",
       "      <td>32.0</td>\n",
       "      <td>36</td>\n",
       "      <td>NaT</td>\n",
       "      <td>Набережные Челны</td>\n",
       "      <td>Вера</td>\n",
       "      <td>Суслова</td>\n",
       "      <td>2018-05-08</td>\n",
       "      <td>ultra</td>\n",
       "      <td>1000</td>\n",
       "      <td>30720</td>\n",
       "      <td>3000</td>\n",
       "      <td>1950</td>\n",
       "      <td>150</td>\n",
       "      <td>1</td>\n",
       "      <td>1</td>\n",
       "    </tr>\n",
       "  </tbody>\n",
       "</table>\n",
       "</div>"
      ],
      "text/plain": [
       "     user_id  month  sum_traffic  count_calls  sum_calls  count_messages  age  \\\n",
       "570     1091    5.0     10703.37          NaN        0.0            30.0   36   \n",
       "571     1091    6.0     10236.19          NaN        0.0            30.0   36   \n",
       "572     1091    7.0     16444.98          NaN        0.0            35.0   36   \n",
       "573     1091    8.0     12633.88          NaN        0.0            31.0   36   \n",
       "574     1091    9.0     16597.11          NaN        0.0            32.0   36   \n",
       "\n",
       "    churn_date              city first_name last_name   reg_date tariff_name  \\\n",
       "570        NaT  Набережные Челны       Вера   Суслова 2018-05-08       ultra   \n",
       "571        NaT  Набережные Челны       Вера   Суслова 2018-05-08       ultra   \n",
       "572        NaT  Набережные Челны       Вера   Суслова 2018-05-08       ultra   \n",
       "573        NaT  Набережные Челны       Вера   Суслова 2018-05-08       ultra   \n",
       "574        NaT  Набережные Челны       Вера   Суслова 2018-05-08       ultra   \n",
       "\n",
       "     messages_included  mb_per_month_included  minutes_included  \\\n",
       "570               1000                  30720              3000   \n",
       "571               1000                  30720              3000   \n",
       "572               1000                  30720              3000   \n",
       "573               1000                  30720              3000   \n",
       "574               1000                  30720              3000   \n",
       "\n",
       "     rub_monthly_fee  rub_per_gb  rub_per_message  rub_per_minute  \n",
       "570             1950         150                1               1  \n",
       "571             1950         150                1               1  \n",
       "572             1950         150                1               1  \n",
       "573             1950         150                1               1  \n",
       "574             1950         150                1               1  "
      ]
     },
     "metadata": {},
     "output_type": "display_data"
    }
   ],
   "source": [
    "#поработаем со столбцом count_calls\n",
    "\n",
    "display(data_merge.loc[data_merge['count_calls'].isna()].head())"
   ]
  },
  {
   "cell_type": "code",
   "execution_count": 17,
   "id": "f8712f46",
   "metadata": {},
   "outputs": [
    {
     "data": {
      "text/html": [
       "<div>\n",
       "<style scoped>\n",
       "    .dataframe tbody tr th:only-of-type {\n",
       "        vertical-align: middle;\n",
       "    }\n",
       "\n",
       "    .dataframe tbody tr th {\n",
       "        vertical-align: top;\n",
       "    }\n",
       "\n",
       "    .dataframe thead th {\n",
       "        text-align: right;\n",
       "    }\n",
       "</style>\n",
       "<table border=\"1\" class=\"dataframe\">\n",
       "  <thead>\n",
       "    <tr style=\"text-align: right;\">\n",
       "      <th></th>\n",
       "      <th>user_id</th>\n",
       "      <th>month</th>\n",
       "      <th>sum_traffic</th>\n",
       "      <th>count_calls</th>\n",
       "      <th>sum_calls</th>\n",
       "      <th>count_messages</th>\n",
       "      <th>age</th>\n",
       "      <th>churn_date</th>\n",
       "      <th>city</th>\n",
       "      <th>first_name</th>\n",
       "      <th>last_name</th>\n",
       "      <th>reg_date</th>\n",
       "      <th>tariff_name</th>\n",
       "      <th>messages_included</th>\n",
       "      <th>mb_per_month_included</th>\n",
       "      <th>minutes_included</th>\n",
       "      <th>rub_monthly_fee</th>\n",
       "      <th>rub_per_gb</th>\n",
       "      <th>rub_per_message</th>\n",
       "      <th>rub_per_minute</th>\n",
       "    </tr>\n",
       "  </thead>\n",
       "  <tbody>\n",
       "  </tbody>\n",
       "</table>\n",
       "</div>"
      ],
      "text/plain": [
       "Empty DataFrame\n",
       "Columns: [user_id, month, sum_traffic, count_calls, sum_calls, count_messages, age, churn_date, city, first_name, last_name, reg_date, tariff_name, messages_included, mb_per_month_included, minutes_included, rub_monthly_fee, rub_per_gb, rub_per_message, rub_per_minute]\n",
       "Index: []"
      ]
     },
     "metadata": {},
     "output_type": "display_data"
    },
    {
     "data": {
      "text/html": [
       "<div>\n",
       "<style scoped>\n",
       "    .dataframe tbody tr th:only-of-type {\n",
       "        vertical-align: middle;\n",
       "    }\n",
       "\n",
       "    .dataframe tbody tr th {\n",
       "        vertical-align: top;\n",
       "    }\n",
       "\n",
       "    .dataframe thead th {\n",
       "        text-align: right;\n",
       "    }\n",
       "</style>\n",
       "<table border=\"1\" class=\"dataframe\">\n",
       "  <thead>\n",
       "    <tr style=\"text-align: right;\">\n",
       "      <th></th>\n",
       "      <th>user_id</th>\n",
       "      <th>month</th>\n",
       "      <th>sum_traffic</th>\n",
       "      <th>count_calls</th>\n",
       "      <th>sum_calls</th>\n",
       "      <th>count_messages</th>\n",
       "      <th>age</th>\n",
       "      <th>churn_date</th>\n",
       "      <th>city</th>\n",
       "      <th>first_name</th>\n",
       "      <th>last_name</th>\n",
       "      <th>reg_date</th>\n",
       "      <th>tariff_name</th>\n",
       "      <th>messages_included</th>\n",
       "      <th>mb_per_month_included</th>\n",
       "      <th>minutes_included</th>\n",
       "      <th>rub_monthly_fee</th>\n",
       "      <th>rub_per_gb</th>\n",
       "      <th>rub_per_message</th>\n",
       "      <th>rub_per_minute</th>\n",
       "    </tr>\n",
       "  </thead>\n",
       "  <tbody>\n",
       "    <tr>\n",
       "      <th>570</th>\n",
       "      <td>1091</td>\n",
       "      <td>5.0</td>\n",
       "      <td>10703.37</td>\n",
       "      <td>0.0</td>\n",
       "      <td>0.0</td>\n",
       "      <td>30.0</td>\n",
       "      <td>36</td>\n",
       "      <td>NaT</td>\n",
       "      <td>Набережные Челны</td>\n",
       "      <td>Вера</td>\n",
       "      <td>Суслова</td>\n",
       "      <td>2018-05-08</td>\n",
       "      <td>ultra</td>\n",
       "      <td>1000</td>\n",
       "      <td>30720</td>\n",
       "      <td>3000</td>\n",
       "      <td>1950</td>\n",
       "      <td>150</td>\n",
       "      <td>1</td>\n",
       "      <td>1</td>\n",
       "    </tr>\n",
       "    <tr>\n",
       "      <th>571</th>\n",
       "      <td>1091</td>\n",
       "      <td>6.0</td>\n",
       "      <td>10236.19</td>\n",
       "      <td>0.0</td>\n",
       "      <td>0.0</td>\n",
       "      <td>30.0</td>\n",
       "      <td>36</td>\n",
       "      <td>NaT</td>\n",
       "      <td>Набережные Челны</td>\n",
       "      <td>Вера</td>\n",
       "      <td>Суслова</td>\n",
       "      <td>2018-05-08</td>\n",
       "      <td>ultra</td>\n",
       "      <td>1000</td>\n",
       "      <td>30720</td>\n",
       "      <td>3000</td>\n",
       "      <td>1950</td>\n",
       "      <td>150</td>\n",
       "      <td>1</td>\n",
       "      <td>1</td>\n",
       "    </tr>\n",
       "    <tr>\n",
       "      <th>572</th>\n",
       "      <td>1091</td>\n",
       "      <td>7.0</td>\n",
       "      <td>16444.98</td>\n",
       "      <td>0.0</td>\n",
       "      <td>0.0</td>\n",
       "      <td>35.0</td>\n",
       "      <td>36</td>\n",
       "      <td>NaT</td>\n",
       "      <td>Набережные Челны</td>\n",
       "      <td>Вера</td>\n",
       "      <td>Суслова</td>\n",
       "      <td>2018-05-08</td>\n",
       "      <td>ultra</td>\n",
       "      <td>1000</td>\n",
       "      <td>30720</td>\n",
       "      <td>3000</td>\n",
       "      <td>1950</td>\n",
       "      <td>150</td>\n",
       "      <td>1</td>\n",
       "      <td>1</td>\n",
       "    </tr>\n",
       "    <tr>\n",
       "      <th>573</th>\n",
       "      <td>1091</td>\n",
       "      <td>8.0</td>\n",
       "      <td>12633.88</td>\n",
       "      <td>0.0</td>\n",
       "      <td>0.0</td>\n",
       "      <td>31.0</td>\n",
       "      <td>36</td>\n",
       "      <td>NaT</td>\n",
       "      <td>Набережные Челны</td>\n",
       "      <td>Вера</td>\n",
       "      <td>Суслова</td>\n",
       "      <td>2018-05-08</td>\n",
       "      <td>ultra</td>\n",
       "      <td>1000</td>\n",
       "      <td>30720</td>\n",
       "      <td>3000</td>\n",
       "      <td>1950</td>\n",
       "      <td>150</td>\n",
       "      <td>1</td>\n",
       "      <td>1</td>\n",
       "    </tr>\n",
       "    <tr>\n",
       "      <th>574</th>\n",
       "      <td>1091</td>\n",
       "      <td>9.0</td>\n",
       "      <td>16597.11</td>\n",
       "      <td>0.0</td>\n",
       "      <td>0.0</td>\n",
       "      <td>32.0</td>\n",
       "      <td>36</td>\n",
       "      <td>NaT</td>\n",
       "      <td>Набережные Челны</td>\n",
       "      <td>Вера</td>\n",
       "      <td>Суслова</td>\n",
       "      <td>2018-05-08</td>\n",
       "      <td>ultra</td>\n",
       "      <td>1000</td>\n",
       "      <td>30720</td>\n",
       "      <td>3000</td>\n",
       "      <td>1950</td>\n",
       "      <td>150</td>\n",
       "      <td>1</td>\n",
       "      <td>1</td>\n",
       "    </tr>\n",
       "  </tbody>\n",
       "</table>\n",
       "</div>"
      ],
      "text/plain": [
       "     user_id  month  sum_traffic  count_calls  sum_calls  count_messages  age  \\\n",
       "570     1091    5.0     10703.37          0.0        0.0            30.0   36   \n",
       "571     1091    6.0     10236.19          0.0        0.0            30.0   36   \n",
       "572     1091    7.0     16444.98          0.0        0.0            35.0   36   \n",
       "573     1091    8.0     12633.88          0.0        0.0            31.0   36   \n",
       "574     1091    9.0     16597.11          0.0        0.0            32.0   36   \n",
       "\n",
       "    churn_date              city first_name last_name   reg_date tariff_name  \\\n",
       "570        NaT  Набережные Челны       Вера   Суслова 2018-05-08       ultra   \n",
       "571        NaT  Набережные Челны       Вера   Суслова 2018-05-08       ultra   \n",
       "572        NaT  Набережные Челны       Вера   Суслова 2018-05-08       ultra   \n",
       "573        NaT  Набережные Челны       Вера   Суслова 2018-05-08       ultra   \n",
       "574        NaT  Набережные Челны       Вера   Суслова 2018-05-08       ultra   \n",
       "\n",
       "     messages_included  mb_per_month_included  minutes_included  \\\n",
       "570               1000                  30720              3000   \n",
       "571               1000                  30720              3000   \n",
       "572               1000                  30720              3000   \n",
       "573               1000                  30720              3000   \n",
       "574               1000                  30720              3000   \n",
       "\n",
       "     rub_monthly_fee  rub_per_gb  rub_per_message  rub_per_minute  \n",
       "570             1950         150                1               1  \n",
       "571             1950         150                1               1  \n",
       "572             1950         150                1               1  \n",
       "573             1950         150                1               1  \n",
       "574             1950         150                1               1  "
      ]
     },
     "metadata": {},
     "output_type": "display_data"
    },
    {
     "name": "stdout",
     "output_type": "stream",
     "text": [
      "<class 'pandas.core.frame.DataFrame'>\n",
      "Int64Index: 3214 entries, 0 to 3213\n",
      "Data columns (total 20 columns):\n",
      " #   Column                 Non-Null Count  Dtype         \n",
      "---  ------                 --------------  -----         \n",
      " 0   user_id                3214 non-null   int64         \n",
      " 1   month                  3214 non-null   float64       \n",
      " 2   sum_traffic            3214 non-null   float64       \n",
      " 3   count_calls            3214 non-null   float64       \n",
      " 4   sum_calls              3214 non-null   float64       \n",
      " 5   count_messages         3214 non-null   float64       \n",
      " 6   age                    3214 non-null   int64         \n",
      " 7   churn_date             187 non-null    datetime64[ns]\n",
      " 8   city                   3214 non-null   object        \n",
      " 9   first_name             3214 non-null   object        \n",
      " 10  last_name              3214 non-null   object        \n",
      " 11  reg_date               3214 non-null   datetime64[ns]\n",
      " 12  tariff_name            3214 non-null   object        \n",
      " 13  messages_included      3214 non-null   int64         \n",
      " 14  mb_per_month_included  3214 non-null   int64         \n",
      " 15  minutes_included       3214 non-null   int64         \n",
      " 16  rub_monthly_fee        3214 non-null   int64         \n",
      " 17  rub_per_gb             3214 non-null   int64         \n",
      " 18  rub_per_message        3214 non-null   int64         \n",
      " 19  rub_per_minute         3214 non-null   int64         \n",
      "dtypes: datetime64[ns](2), float64(5), int64(9), object(4)\n",
      "memory usage: 527.3+ KB\n"
     ]
    }
   ],
   "source": [
    "#такие пользователи пользуются только интернетом, а значит можно заменить значение NaN на 0\n",
    "\n",
    "data_merge['count_calls'] = data_merge['count_calls'].fillna(0)\n",
    "display(data_merge.loc[data_merge['count_calls'].isna()].head())\n",
    "display(data_merge.loc[data_merge['count_calls']==0].head())\n",
    "data_merge.info()"
   ]
  },
  {
   "cell_type": "markdown",
   "id": "e5fb26e3",
   "metadata": {},
   "source": [
    "<div class=\"alert alert-warning\">\n",
    "<h3> Комментарий ревьюера: Антон Оленев <a class=\"tocSkip\"> </h3>\n",
    "        \n",
    "<b>💡 Некоторые замечания и рекомендации:</b> \n",
    "- чем можно объяснить разное количество данных в таблицах с разными услугами?\n",
    "В итоговой таблице действительно получаются пропуски, было бы хорошо добавить сколько из, гипотезу откуда они взялись, и можно ли и как правильно их заполнять?\n",
    "    \n",
    "- вместо вывода 222 второй страницы лучше воспользоваться методом `.sample()`, он позволит посмотреть больше случайных строк.\n",
    "    \n",
    "- после масштабных объединений таблиц и важных данных полезно еще раз посмотреть что получлиось с помощью методов, `.info()`, `.head()`, `.describe()`, чтобы заметить что пошло не так.\n",
    "        \n",
    "</div>"
   ]
  },
  {
   "cell_type": "markdown",
   "id": "bf3a50e7",
   "metadata": {},
   "source": [
    "<div class=\"alert alert-block alert-danger\">\n",
    "<h3> Комментарий ревьюера: Антон Оленев <a class=\"tocSkip\"/></h3>\n",
    "\n",
    "    \n",
    "<b>🤔 На доработку :</b> в таблице есть пропуски в других столбцах, кроме sum_traffic, sum_calls, count_messages. Как обрабатывать их?\n",
    "</div>\n",
    "    "
   ]
  },
  {
   "cell_type": "markdown",
   "id": "f5b40c48",
   "metadata": {},
   "source": [
    "<div class=\"alert alert-block alert-info\">\n",
    "Поправил выше\n",
    "</div>"
   ]
  },
  {
   "cell_type": "markdown",
   "id": "6b0575d5",
   "metadata": {},
   "source": [
    "<div class=\"alert alert-success\">\n",
    "    <h3> Комментарий ревьюера V2: Антон Оленев <a class=\"tocSkip\"> </h3>\n",
    "    \n",
    "<b>✅ Все отлично!:</b> теперь не страшно что-то то пропустили )\n",
    "</div>"
   ]
  },
  {
   "cell_type": "code",
   "execution_count": 18,
   "id": "8c4325e2",
   "metadata": {},
   "outputs": [
    {
     "data": {
      "text/plain": [
       "\"def tariff_revenue(data):\\n    if np.ceil(data['sum_calls']) > data['minutes_included']:\\n        if data['count_messages'] > data['messages_included']:\\n            if data['sum_traffic'] > data['mb_per_month_included']:\\n                \\n                data['revenue_month'] = data['rub_monthly_fee'] + (np.ceil(((data['sum_traffic'] - data['mb_per_month_included']) / 1024)) * data['rub_per_gb']) + ((np.ceil(data['sum_calls']) - data['minutes_included']) * data['rub_per_minute']) + ((data['count_messages'] - data['messages_included']) * data['rub_per_message'])\\n                \\n            elif data['sum_traffic'] <= data['mb_per_month_included']:\\n                \\n                data['revenue_month'] = data['rub_monthly_fee'] + ((np.ceil(data['sum_calls']) - data['minutes_included']) * data['rub_per_minute']) + ((data['count_messages'] - data['messages_included']) * data['rub_per_message'])\\n                \\n        elif data['count_messages'] <= data['messages_included']:\\n            if data['sum_traffic'] > data['mb_per_month_included']:\\n                \\n                data['revenue_month'] = data['rub_monthly_fee'] + (np.ceil(((data['sum_traffic'] - data['mb_per_month_included']) / 1024)) * data['rub_per_gb']) + ((np.ceil(data['sum_calls']) - data['minutes_included']) * data['rub_per_minute'])\\n                \\n            elif data['sum_traffic'] <= data['mb_per_month_included']:\\n                \\n                data['revenue_month'] = data['rub_monthly_fee'] + ((np.ceil(data['sum_calls']) - data['minutes_included']) * data['rub_per_minute'])\\n  \\n    elif np.ceil(data['sum_calls']) <= data['minutes_included']:\\n        if data['count_messages'] > data['messages_included']:\\n            if data['sum_traffic'] > data['mb_per_month_included']:\\n                \\n                data['revenue_month'] = data['rub_monthly_fee'] + (np.ceil(((data['sum_traffic'] - data['mb_per_month_included']) / 1024)) * data['rub_per_gb']) + ((data['count_messages'] - data['messages_included']) * data['rub_per_message'])\\n                \\n            elif data['sum_traffic'] <= data['mb_per_month_included']:\\n                \\n                data['revenue_month'] = data['rub_monthly_fee'] + ((data['count_messages'] - data['messages_included']) * data['rub_per_message'])\\n            \\n        elif data['count_messages'] <= data['messages_included']:\\n            if data['sum_traffic'] > data['mb_per_month_included']:\\n                \\n                data['revenue_month'] = data['rub_monthly_fee'] + (np.ceil(((data['sum_traffic'] - data['mb_per_month_included']) / 1024)) * data['rub_per_gb'])\\n                \\n            elif data['sum_traffic'] <= data['mb_per_month_included']:\\n                \\n                data['revenue_month'] = data['rub_monthly_fee']\\n            \\n    return data\\n\\ndata_merge = data_merge.apply(tariff_revenue, axis=1)\\ndisplay(data_merge.query('revenue_month>2000'))\\ndata_merge.info()\""
      ]
     },
     "execution_count": 18,
     "metadata": {},
     "output_type": "execute_result"
    }
   ],
   "source": [
    "#посчитаем выручку по месяцам на основании сведенной таблицы\n",
    "\n",
    "#создадим функцию которая будет обсчитывать выручку в зависимости от тарифа\n",
    "\n",
    "\"\"\"def tariff_revenue(data):\n",
    "    if np.ceil(data['sum_calls']) > data['minutes_included']:\n",
    "        if data['count_messages'] > data['messages_included']:\n",
    "            if data['sum_traffic'] > data['mb_per_month_included']:\n",
    "                \n",
    "                data['revenue_month'] = data['rub_monthly_fee'] + (np.ceil(((data['sum_traffic'] - data['mb_per_month_included']) / 1024)) * data['rub_per_gb']) + ((np.ceil(data['sum_calls']) - data['minutes_included']) * data['rub_per_minute']) + ((data['count_messages'] - data['messages_included']) * data['rub_per_message'])\n",
    "                \n",
    "            elif data['sum_traffic'] <= data['mb_per_month_included']:\n",
    "                \n",
    "                data['revenue_month'] = data['rub_monthly_fee'] + ((np.ceil(data['sum_calls']) - data['minutes_included']) * data['rub_per_minute']) + ((data['count_messages'] - data['messages_included']) * data['rub_per_message'])\n",
    "                \n",
    "        elif data['count_messages'] <= data['messages_included']:\n",
    "            if data['sum_traffic'] > data['mb_per_month_included']:\n",
    "                \n",
    "                data['revenue_month'] = data['rub_monthly_fee'] + (np.ceil(((data['sum_traffic'] - data['mb_per_month_included']) / 1024)) * data['rub_per_gb']) + ((np.ceil(data['sum_calls']) - data['minutes_included']) * data['rub_per_minute'])\n",
    "                \n",
    "            elif data['sum_traffic'] <= data['mb_per_month_included']:\n",
    "                \n",
    "                data['revenue_month'] = data['rub_monthly_fee'] + ((np.ceil(data['sum_calls']) - data['minutes_included']) * data['rub_per_minute'])\n",
    "  \n",
    "    elif np.ceil(data['sum_calls']) <= data['minutes_included']:\n",
    "        if data['count_messages'] > data['messages_included']:\n",
    "            if data['sum_traffic'] > data['mb_per_month_included']:\n",
    "                \n",
    "                data['revenue_month'] = data['rub_monthly_fee'] + (np.ceil(((data['sum_traffic'] - data['mb_per_month_included']) / 1024)) * data['rub_per_gb']) + ((data['count_messages'] - data['messages_included']) * data['rub_per_message'])\n",
    "                \n",
    "            elif data['sum_traffic'] <= data['mb_per_month_included']:\n",
    "                \n",
    "                data['revenue_month'] = data['rub_monthly_fee'] + ((data['count_messages'] - data['messages_included']) * data['rub_per_message'])\n",
    "            \n",
    "        elif data['count_messages'] <= data['messages_included']:\n",
    "            if data['sum_traffic'] > data['mb_per_month_included']:\n",
    "                \n",
    "                data['revenue_month'] = data['rub_monthly_fee'] + (np.ceil(((data['sum_traffic'] - data['mb_per_month_included']) / 1024)) * data['rub_per_gb'])\n",
    "                \n",
    "            elif data['sum_traffic'] <= data['mb_per_month_included']:\n",
    "                \n",
    "                data['revenue_month'] = data['rub_monthly_fee']\n",
    "            \n",
    "    return data\n",
    "\n",
    "data_merge = data_merge.apply(tariff_revenue, axis=1)\n",
    "display(data_merge.query('revenue_month>2000'))\n",
    "data_merge.info()\"\"\""
   ]
  },
  {
   "cell_type": "code",
   "execution_count": 19,
   "id": "45db3a41",
   "metadata": {},
   "outputs": [
    {
     "data": {
      "text/html": [
       "<div>\n",
       "<style scoped>\n",
       "    .dataframe tbody tr th:only-of-type {\n",
       "        vertical-align: middle;\n",
       "    }\n",
       "\n",
       "    .dataframe tbody tr th {\n",
       "        vertical-align: top;\n",
       "    }\n",
       "\n",
       "    .dataframe thead th {\n",
       "        text-align: right;\n",
       "    }\n",
       "</style>\n",
       "<table border=\"1\" class=\"dataframe\">\n",
       "  <thead>\n",
       "    <tr style=\"text-align: right;\">\n",
       "      <th></th>\n",
       "      <th>user_id</th>\n",
       "      <th>month</th>\n",
       "      <th>sum_traffic</th>\n",
       "      <th>count_calls</th>\n",
       "      <th>sum_calls</th>\n",
       "      <th>count_messages</th>\n",
       "      <th>age</th>\n",
       "      <th>churn_date</th>\n",
       "      <th>city</th>\n",
       "      <th>first_name</th>\n",
       "      <th>...</th>\n",
       "      <th>reg_date</th>\n",
       "      <th>tariff_name</th>\n",
       "      <th>messages_included</th>\n",
       "      <th>mb_per_month_included</th>\n",
       "      <th>minutes_included</th>\n",
       "      <th>rub_monthly_fee</th>\n",
       "      <th>rub_per_gb</th>\n",
       "      <th>rub_per_message</th>\n",
       "      <th>rub_per_minute</th>\n",
       "      <th>revenue_month</th>\n",
       "    </tr>\n",
       "  </thead>\n",
       "  <tbody>\n",
       "    <tr>\n",
       "      <th>2074</th>\n",
       "      <td>1328</td>\n",
       "      <td>10.0</td>\n",
       "      <td>22427.98</td>\n",
       "      <td>0.0</td>\n",
       "      <td>0.0</td>\n",
       "      <td>6.0</td>\n",
       "      <td>44</td>\n",
       "      <td>NaT</td>\n",
       "      <td>Мурманск</td>\n",
       "      <td>Рауль</td>\n",
       "      <td>...</td>\n",
       "      <td>2018-10-16</td>\n",
       "      <td>ultra</td>\n",
       "      <td>1000</td>\n",
       "      <td>30720</td>\n",
       "      <td>3000</td>\n",
       "      <td>1950</td>\n",
       "      <td>150</td>\n",
       "      <td>1</td>\n",
       "      <td>1</td>\n",
       "      <td>1950.0</td>\n",
       "    </tr>\n",
       "    <tr>\n",
       "      <th>1501</th>\n",
       "      <td>1238</td>\n",
       "      <td>3.0</td>\n",
       "      <td>18806.02</td>\n",
       "      <td>23.0</td>\n",
       "      <td>167.0</td>\n",
       "      <td>23.0</td>\n",
       "      <td>57</td>\n",
       "      <td>NaT</td>\n",
       "      <td>Ростов-на-Дону</td>\n",
       "      <td>Радислав</td>\n",
       "      <td>...</td>\n",
       "      <td>2018-01-08</td>\n",
       "      <td>smart</td>\n",
       "      <td>50</td>\n",
       "      <td>15360</td>\n",
       "      <td>500</td>\n",
       "      <td>550</td>\n",
       "      <td>200</td>\n",
       "      <td>3</td>\n",
       "      <td>3</td>\n",
       "      <td>1350.0</td>\n",
       "    </tr>\n",
       "    <tr>\n",
       "      <th>557</th>\n",
       "      <td>1089</td>\n",
       "      <td>3.0</td>\n",
       "      <td>17495.18</td>\n",
       "      <td>83.0</td>\n",
       "      <td>626.0</td>\n",
       "      <td>155.0</td>\n",
       "      <td>19</td>\n",
       "      <td>NaT</td>\n",
       "      <td>Иркутск</td>\n",
       "      <td>Ксения</td>\n",
       "      <td>...</td>\n",
       "      <td>2018-02-24</td>\n",
       "      <td>ultra</td>\n",
       "      <td>1000</td>\n",
       "      <td>30720</td>\n",
       "      <td>3000</td>\n",
       "      <td>1950</td>\n",
       "      <td>150</td>\n",
       "      <td>1</td>\n",
       "      <td>1</td>\n",
       "      <td>1950.0</td>\n",
       "    </tr>\n",
       "    <tr>\n",
       "      <th>659</th>\n",
       "      <td>1104</td>\n",
       "      <td>5.0</td>\n",
       "      <td>19513.60</td>\n",
       "      <td>42.0</td>\n",
       "      <td>248.0</td>\n",
       "      <td>79.0</td>\n",
       "      <td>60</td>\n",
       "      <td>NaT</td>\n",
       "      <td>Нижний Тагил</td>\n",
       "      <td>Габриэль</td>\n",
       "      <td>...</td>\n",
       "      <td>2018-02-21</td>\n",
       "      <td>ultra</td>\n",
       "      <td>1000</td>\n",
       "      <td>30720</td>\n",
       "      <td>3000</td>\n",
       "      <td>1950</td>\n",
       "      <td>150</td>\n",
       "      <td>1</td>\n",
       "      <td>1</td>\n",
       "      <td>1950.0</td>\n",
       "    </tr>\n",
       "    <tr>\n",
       "      <th>1107</th>\n",
       "      <td>1174</td>\n",
       "      <td>9.0</td>\n",
       "      <td>11957.40</td>\n",
       "      <td>82.0</td>\n",
       "      <td>612.0</td>\n",
       "      <td>57.0</td>\n",
       "      <td>29</td>\n",
       "      <td>NaT</td>\n",
       "      <td>Санкт-Петербург</td>\n",
       "      <td>Лолита</td>\n",
       "      <td>...</td>\n",
       "      <td>2018-02-17</td>\n",
       "      <td>smart</td>\n",
       "      <td>50</td>\n",
       "      <td>15360</td>\n",
       "      <td>500</td>\n",
       "      <td>550</td>\n",
       "      <td>200</td>\n",
       "      <td>3</td>\n",
       "      <td>3</td>\n",
       "      <td>907.0</td>\n",
       "    </tr>\n",
       "    <tr>\n",
       "      <th>1526</th>\n",
       "      <td>1240</td>\n",
       "      <td>10.0</td>\n",
       "      <td>34506.22</td>\n",
       "      <td>43.0</td>\n",
       "      <td>308.0</td>\n",
       "      <td>0.0</td>\n",
       "      <td>30</td>\n",
       "      <td>NaT</td>\n",
       "      <td>Воронеж</td>\n",
       "      <td>Зинаида</td>\n",
       "      <td>...</td>\n",
       "      <td>2018-02-27</td>\n",
       "      <td>ultra</td>\n",
       "      <td>1000</td>\n",
       "      <td>30720</td>\n",
       "      <td>3000</td>\n",
       "      <td>1950</td>\n",
       "      <td>150</td>\n",
       "      <td>1</td>\n",
       "      <td>1</td>\n",
       "      <td>2550.0</td>\n",
       "    </tr>\n",
       "    <tr>\n",
       "      <th>131</th>\n",
       "      <td>1018</td>\n",
       "      <td>8.0</td>\n",
       "      <td>8643.84</td>\n",
       "      <td>115.0</td>\n",
       "      <td>929.0</td>\n",
       "      <td>20.0</td>\n",
       "      <td>71</td>\n",
       "      <td>NaT</td>\n",
       "      <td>Уфа</td>\n",
       "      <td>Матвей</td>\n",
       "      <td>...</td>\n",
       "      <td>2018-04-01</td>\n",
       "      <td>ultra</td>\n",
       "      <td>1000</td>\n",
       "      <td>30720</td>\n",
       "      <td>3000</td>\n",
       "      <td>1950</td>\n",
       "      <td>150</td>\n",
       "      <td>1</td>\n",
       "      <td>1</td>\n",
       "      <td>1950.0</td>\n",
       "    </tr>\n",
       "    <tr>\n",
       "      <th>1618</th>\n",
       "      <td>1255</td>\n",
       "      <td>3.0</td>\n",
       "      <td>30996.23</td>\n",
       "      <td>33.0</td>\n",
       "      <td>256.0</td>\n",
       "      <td>0.0</td>\n",
       "      <td>40</td>\n",
       "      <td>2018-09-02</td>\n",
       "      <td>Саранск</td>\n",
       "      <td>Серафима</td>\n",
       "      <td>...</td>\n",
       "      <td>2018-02-19</td>\n",
       "      <td>ultra</td>\n",
       "      <td>1000</td>\n",
       "      <td>30720</td>\n",
       "      <td>3000</td>\n",
       "      <td>1950</td>\n",
       "      <td>150</td>\n",
       "      <td>1</td>\n",
       "      <td>1</td>\n",
       "      <td>2100.0</td>\n",
       "    </tr>\n",
       "    <tr>\n",
       "      <th>1346</th>\n",
       "      <td>1210</td>\n",
       "      <td>9.0</td>\n",
       "      <td>18820.15</td>\n",
       "      <td>86.0</td>\n",
       "      <td>680.0</td>\n",
       "      <td>0.0</td>\n",
       "      <td>33</td>\n",
       "      <td>NaT</td>\n",
       "      <td>Севастополь</td>\n",
       "      <td>Евфросинья</td>\n",
       "      <td>...</td>\n",
       "      <td>2018-07-29</td>\n",
       "      <td>smart</td>\n",
       "      <td>50</td>\n",
       "      <td>15360</td>\n",
       "      <td>500</td>\n",
       "      <td>550</td>\n",
       "      <td>200</td>\n",
       "      <td>3</td>\n",
       "      <td>3</td>\n",
       "      <td>1890.0</td>\n",
       "    </tr>\n",
       "    <tr>\n",
       "      <th>2259</th>\n",
       "      <td>1359</td>\n",
       "      <td>8.0</td>\n",
       "      <td>11437.81</td>\n",
       "      <td>95.0</td>\n",
       "      <td>681.0</td>\n",
       "      <td>18.0</td>\n",
       "      <td>52</td>\n",
       "      <td>NaT</td>\n",
       "      <td>Москва</td>\n",
       "      <td>Константин</td>\n",
       "      <td>...</td>\n",
       "      <td>2018-07-27</td>\n",
       "      <td>smart</td>\n",
       "      <td>50</td>\n",
       "      <td>15360</td>\n",
       "      <td>500</td>\n",
       "      <td>550</td>\n",
       "      <td>200</td>\n",
       "      <td>3</td>\n",
       "      <td>3</td>\n",
       "      <td>1093.0</td>\n",
       "    </tr>\n",
       "  </tbody>\n",
       "</table>\n",
       "<p>10 rows × 21 columns</p>\n",
       "</div>"
      ],
      "text/plain": [
       "      user_id  month  sum_traffic  count_calls  sum_calls  count_messages  \\\n",
       "2074     1328   10.0     22427.98          0.0        0.0             6.0   \n",
       "1501     1238    3.0     18806.02         23.0      167.0            23.0   \n",
       "557      1089    3.0     17495.18         83.0      626.0           155.0   \n",
       "659      1104    5.0     19513.60         42.0      248.0            79.0   \n",
       "1107     1174    9.0     11957.40         82.0      612.0            57.0   \n",
       "1526     1240   10.0     34506.22         43.0      308.0             0.0   \n",
       "131      1018    8.0      8643.84        115.0      929.0            20.0   \n",
       "1618     1255    3.0     30996.23         33.0      256.0             0.0   \n",
       "1346     1210    9.0     18820.15         86.0      680.0             0.0   \n",
       "2259     1359    8.0     11437.81         95.0      681.0            18.0   \n",
       "\n",
       "      age churn_date             city  first_name  ...   reg_date tariff_name  \\\n",
       "2074   44        NaT         Мурманск       Рауль  ... 2018-10-16       ultra   \n",
       "1501   57        NaT   Ростов-на-Дону    Радислав  ... 2018-01-08       smart   \n",
       "557    19        NaT          Иркутск      Ксения  ... 2018-02-24       ultra   \n",
       "659    60        NaT     Нижний Тагил    Габриэль  ... 2018-02-21       ultra   \n",
       "1107   29        NaT  Санкт-Петербург      Лолита  ... 2018-02-17       smart   \n",
       "1526   30        NaT          Воронеж     Зинаида  ... 2018-02-27       ultra   \n",
       "131    71        NaT              Уфа      Матвей  ... 2018-04-01       ultra   \n",
       "1618   40 2018-09-02          Саранск    Серафима  ... 2018-02-19       ultra   \n",
       "1346   33        NaT      Севастополь  Евфросинья  ... 2018-07-29       smart   \n",
       "2259   52        NaT           Москва  Константин  ... 2018-07-27       smart   \n",
       "\n",
       "     messages_included  mb_per_month_included  minutes_included  \\\n",
       "2074              1000                  30720              3000   \n",
       "1501                50                  15360               500   \n",
       "557               1000                  30720              3000   \n",
       "659               1000                  30720              3000   \n",
       "1107                50                  15360               500   \n",
       "1526              1000                  30720              3000   \n",
       "131               1000                  30720              3000   \n",
       "1618              1000                  30720              3000   \n",
       "1346                50                  15360               500   \n",
       "2259                50                  15360               500   \n",
       "\n",
       "      rub_monthly_fee  rub_per_gb  rub_per_message  rub_per_minute  \\\n",
       "2074             1950         150                1               1   \n",
       "1501              550         200                3               3   \n",
       "557              1950         150                1               1   \n",
       "659              1950         150                1               1   \n",
       "1107              550         200                3               3   \n",
       "1526             1950         150                1               1   \n",
       "131              1950         150                1               1   \n",
       "1618             1950         150                1               1   \n",
       "1346              550         200                3               3   \n",
       "2259              550         200                3               3   \n",
       "\n",
       "      revenue_month  \n",
       "2074         1950.0  \n",
       "1501         1350.0  \n",
       "557          1950.0  \n",
       "659          1950.0  \n",
       "1107          907.0  \n",
       "1526         2550.0  \n",
       "131          1950.0  \n",
       "1618         2100.0  \n",
       "1346         1890.0  \n",
       "2259         1093.0  \n",
       "\n",
       "[10 rows x 21 columns]"
      ]
     },
     "metadata": {},
     "output_type": "display_data"
    }
   ],
   "source": [
    "#создадим функцию, которая посчитает выручку с помощью метода np.maximum()\n",
    "\n",
    "def tariff_revenue(data):\n",
    "    data['revenue_month'] = data['rub_monthly_fee']\\\n",
    "    + (np.ceil(np.maximum(data['sum_traffic'] - data['mb_per_month_included'], 0) / 1024) * data['rub_per_gb'])\\\n",
    "    + (np.ceil(np.maximum(data['sum_calls'] - data['minutes_included'], 0)) * data['rub_per_minute'])\\\n",
    "    + (np.ceil(np.maximum(data['count_messages'] - data['messages_included'], 0)) * data['rub_per_message'])\n",
    "    return data\n",
    "\n",
    "data_merge = data_merge.apply(tariff_revenue, axis=1)\n",
    "display(data_merge.sample(10))"
   ]
  },
  {
   "cell_type": "markdown",
   "id": "c1eb142f",
   "metadata": {},
   "source": [
    "<div class=\"alert alert-block alert-danger\">\n",
    "<h3> Комментарий ревьюера: Антон Оленев <a class=\"tocSkip\"/></h3>\n",
    "\n",
    "    \n",
    "<b>🤔 На доработку :</b> в принципе функция вычисления делает то что от неё требуется, но получилось очень много кода. Попробуй заменить многочисленные if else, на использование метода np.maximum(x, 0) https://numpy.org/doc/stable/reference/generated/numpy.maximum.html . Этот метод можно применять к столбцам, как и np.ceil, и он сильно сократит необходимый код и проверки.\n",
    "</div>\n",
    "    "
   ]
  },
  {
   "cell_type": "markdown",
   "id": "20fb85ae",
   "metadata": {},
   "source": [
    "<div class=\"alert alert-info\">\n",
    "Поправил выше, действительно вышло всего 4 строчки кода)\n",
    "</div>"
   ]
  },
  {
   "cell_type": "markdown",
   "id": "2f1a4ec8",
   "metadata": {},
   "source": [
    "<div class=\"alert alert-success\">\n",
    "    <h3> Комментарий ревьюера V2: Антон Оленев <a class=\"tocSkip\"> </h3>\n",
    "    \n",
    "<b>✅ Все отлично!:</b> компактно и красиво ) Еще ты пропустил закрывающий комментарий в старой версии функции, из-за этого выполнение тетрадки прекращается на этой ячейке с ошибкой\n",
    "```\n",
    "          File \"/var/folders/m2/r87yp7nj1wq9vfv91qnv4y1m0000gn/T/ipykernel_78220/673005762.py\", line 48\n",
    "    data_merge.info()\n",
    "                     \n",
    "^\n",
    "SyntaxError: EOF while scanning triple-quoted string literal\n",
    "```\n",
    "Я поправил, но лучше перед отправлением делать Kernel->Restart And Run All, чтобы не вернули лишний раз сразу ревьюеры.\n",
    "</div>"
   ]
  },
  {
   "cell_type": "code",
   "execution_count": 20,
   "id": "f37fe2ce",
   "metadata": {},
   "outputs": [
    {
     "data": {
      "text/plain": [
       "<AxesSubplot:ylabel='Frequency'>"
      ]
     },
     "metadata": {},
     "output_type": "display_data"
    },
    {
     "data": {
      "image/png": "[encoded data removed]",
      "text/plain": [
       "<Figure size 864x864 with 1 Axes>"
      ]
     },
     "metadata": {
      "needs_background": "light"
     },
     "output_type": "display_data"
    }
   ],
   "source": [
    "#проанализируем новый столбец и построим график плотности распределения\n",
    "\n",
    "data_merge['revenue_month'].describe()\n",
    "display(data_merge['revenue_month']\n",
    "        .plot(kind='hist', \n",
    "              bins=30,\n",
    "              grid=True,\n",
    "              figsize=(12,12)))"
   ]
  },
  {
   "cell_type": "markdown",
   "id": "603cfb37",
   "metadata": {},
   "source": [
    "<div class=\"alert alert-block alert-danger\">\n",
    "<h3> Комментарий ревьюера: Антон Оленев <a class=\"tocSkip\"/></h3>\n",
    "\n",
    "    \n",
    "<b>🤔 На доработку :</b> в принципе функция вычисления делает то что от неё требуется, но получилось очень много кода. Попробуй заменить многочисленные if else, на использование метода np.maximum(x, 0) https://numpy.org/doc/stable/reference/generated/numpy.maximum.html . Этот метод можно применять к столбцам, как и np.ceil, и он сильно сократит необходимый код и проверки.\n",
    "</div>\n",
    "    "
   ]
  },
  {
   "cell_type": "markdown",
   "id": "b3ac5c32",
   "metadata": {},
   "source": [
    "<div class=\"alert alert-info\">\n",
    "Похоже что это закопипастился комментарий выше\n",
    "</div>"
   ]
  },
  {
   "cell_type": "markdown",
   "id": "81fe349e",
   "metadata": {},
   "source": [
    "<div class=\"alert alert-success\">\n",
    "    <h3> Комментарий ревьюера V2: Антон Оленев <a class=\"tocSkip\"> </h3>\n",
    "    \n",
    "<b>✅ Все отлично!:</b> да, промахнулся )\n",
    "</div>"
   ]
  },
  {
   "cell_type": "code",
   "execution_count": 21,
   "id": "d0cb82f4",
   "metadata": {},
   "outputs": [
    {
     "data": {
      "text/plain": [
       "<AxesSubplot:xlabel='month'>"
      ]
     },
     "metadata": {},
     "output_type": "display_data"
    },
    {
     "data": {
      "image/png": "[encoded data removed]",
      "text/plain": [
       "<Figure size 432x432 with 1 Axes>"
      ]
     },
     "metadata": {
      "needs_background": "light"
     },
     "output_type": "display_data"
    }
   ],
   "source": [
    "#посмотрим распределение выручки по месяца по всем клиентам\n",
    "\n",
    "display(data_merge\n",
    "        .groupby(['month'])['revenue_month']\n",
    "        .agg(['sum'])\n",
    "        .plot(kind='bar',\n",
    "              figsize=(6, 6)))"
   ]
  },
  {
   "cell_type": "markdown",
   "id": "95f3ceea",
   "metadata": {},
   "source": [
    "## Вывод по заданию 2 <a class=\"anchor\" id=\"chapter_1_4_1\"></a>\n",
    "\n",
    "- из гистограммы с распределениями частоты распределения месячных платежей видно что основная масса клиентов пользуется только лимитами внутри тарифа и не выходит за его пределы, но есть и клиенты, которые тратят больше\n",
    "\n",
    "- гистограмма с сумарными месячными выручками говорит о том что суммарная выручка компании растет за счет новых клиентов"
   ]
  },
  {
   "cell_type": "markdown",
   "id": "721d90f8",
   "metadata": {},
   "source": [
    "# ШАГ 3. Проанализируйте данные <a class=\"anchor\" id=\"chapter_1_5\"></a>\n",
    "\n",
    "Опишите поведение клиентов оператора, исходя из выборки. Сколько минут разговора, сколько сообщений и какой объём интернет-трафика требуется пользователям каждого тарифа в месяц? Посчитайте среднее количество, дисперсию и стандартное отклонение. Постройте гистограммы. Опишите распределения."
   ]
  },
  {
   "cell_type": "markdown",
   "id": "c0a62318",
   "metadata": {},
   "source": [
    "<div class=\"alert alert-warning\">\n",
    "<h3> Комментарий ревьюера: Антон Оленев <a class=\"tocSkip\"> </h3>\n",
    "        \n",
    "<b>💡 Некоторые замечания и рекомендации:</b> в данном случае лучше будет построить данные об одном параметре для двух разных тарифов на одной гистограмме. Это позволит более наглядно увидеть разницу в поведении клиетов двух разных тарифов и сократит количество графиков.\n",
    "        \n",
    "</div>"
   ]
  },
  {
   "cell_type": "markdown",
   "id": "7fa35eb5",
   "metadata": {},
   "source": [
    "<div class=\"alert alert-block alert-info\">\n",
    "Поправил ниже\n",
    "    </div>"
   ]
  },
  {
   "cell_type": "markdown",
   "id": "f4c8fc30",
   "metadata": {},
   "source": [
    "<div class=\"alert alert-success\">\n",
    "    <h3> Комментарий ревьюера V2: Антон Оленев <a class=\"tocSkip\"> </h3>\n",
    "    \n",
    "<b>✅ Все отлично!:</b> 👌\n",
    "</div>"
   ]
  },
  {
   "cell_type": "code",
   "execution_count": 22,
   "id": "3107cb72",
   "metadata": {},
   "outputs": [],
   "source": [
    "#сделаем выборки по отдельным тарифам и сгруппируем их по месяцам\n",
    "\n",
    "data_ultra = data_merge.query('tariff_name == \"ultra\"')\n",
    "\n",
    "data_smart = data_merge.query('tariff_name == \"smart\"')\n"
   ]
  },
  {
   "cell_type": "code",
   "execution_count": 23,
   "id": "7e601f33",
   "metadata": {},
   "outputs": [
    {
     "data": {
      "text/plain": [
       "'Данные о сообщениях по тарифу ultra'"
      ]
     },
     "metadata": {},
     "output_type": "display_data"
    },
    {
     "data": {
      "text/plain": [
       "count     985.000000\n",
       "mean      526.623350\n",
       "std       317.606098\n",
       "min         0.000000\n",
       "25%       284.000000\n",
       "50%       518.000000\n",
       "75%       752.000000\n",
       "max      1673.000000\n",
       "Name: sum_calls, dtype: float64"
      ]
     },
     "metadata": {},
     "output_type": "display_data"
    },
    {
     "data": {
      "text/plain": [
       "100873.63339730093"
      ]
     },
     "metadata": {},
     "output_type": "display_data"
    },
    {
     "data": {
      "text/plain": [
       "'Данные о сообщениях по тарифу smart'"
      ]
     },
     "metadata": {},
     "output_type": "display_data"
    },
    {
     "data": {
      "text/plain": [
       "count    2229.000000\n",
       "mean      417.934948\n",
       "std       190.313730\n",
       "min         0.000000\n",
       "25%       282.000000\n",
       "50%       422.000000\n",
       "66%       499.000000\n",
       "75%       545.000000\n",
       "max      1435.000000\n",
       "Name: sum_calls, dtype: float64"
      ]
     },
     "metadata": {},
     "output_type": "display_data"
    },
    {
     "data": {
      "text/plain": [
       "36219.315784344246"
      ]
     },
     "metadata": {},
     "output_type": "display_data"
    },
    {
     "data": {
      "image/png": "[encoded data removed]",
      "text/plain": [
       "<Figure size 864x864 with 1 Axes>"
      ]
     },
     "metadata": {
      "needs_background": "light"
     },
     "output_type": "display_data"
    }
   ],
   "source": [
    "#построим гистограммы распределения звонков по тарифу ultra и smart\n",
    "\n",
    "display('Данные о сообщениях по тарифу ultra')\n",
    "display(data_ultra['sum_calls'].describe())\n",
    "display(data_ultra['sum_calls'].var())\n",
    "\n",
    "display('Данные о сообщениях по тарифу smart')\n",
    "display(data_smart['sum_calls'].describe(percentiles=[.25, .5, .66, .75]))\n",
    "display(data_smart['sum_calls'].var())\n",
    "\n",
    "#построим гистограммы\n",
    "\n",
    "ax = data_ultra['sum_calls'].plot(kind='hist',\n",
    "                                  color='red',\n",
    "                                  bins=50,\n",
    "                                  alpha=0.5,\n",
    "                                  grid=True,\n",
    "                                  figsize=(12, 12))\n",
    "\n",
    "ax = data_smart['sum_calls'].plot(kind='hist',\n",
    "                                  color='green',\n",
    "                                  bins=50,\n",
    "                                  alpha=0.5,\n",
    "                                  grid=True,\n",
    "                                  figsize=(12, 12))\n",
    "\n",
    "plt.show()"
   ]
  },
  {
   "cell_type": "markdown",
   "id": "1fc4998e",
   "metadata": {},
   "source": [
    "**Вывод:**\n",
    "- Распределение по тарифу ultra смещенно вправа это видно по гистаграмме, а также потому что среднее арифметическое больше медианы\n",
    "- Никто из клиентов не выговаривает по тарифу ultra лимит на месяц в 3000 минут\n",
    "- Распределение по тарифу smart близко к нормальному, ввиду того что среднее и меданное значение почти равны\n",
    "- По тарифу smart 66% клиентов не выговаривают лимита по звонкам в 500 минут\n",
    "- в сравнении этих тарифов видно что нижняя граница у обоих тарифов по основной массе клиентов одинаковая в 282 минуты"
   ]
  },
  {
   "cell_type": "code",
   "execution_count": 24,
   "id": "fc7e02b4",
   "metadata": {},
   "outputs": [
    {
     "data": {
      "text/plain": [
       "'Данные о сообщениях по тарифу ultra'"
      ]
     },
     "metadata": {},
     "output_type": "display_data"
    },
    {
     "data": {
      "text/plain": [
       "count    985.000000\n",
       "mean      49.363452\n",
       "std       47.804457\n",
       "min        0.000000\n",
       "25%        6.000000\n",
       "50%       38.000000\n",
       "75%       79.000000\n",
       "max      224.000000\n",
       "Name: count_messages, dtype: float64"
      ]
     },
     "metadata": {},
     "output_type": "display_data"
    },
    {
     "data": {
      "text/plain": [
       "2285.2661425446845"
      ]
     },
     "metadata": {},
     "output_type": "display_data"
    },
    {
     "data": {
      "text/plain": [
       "'Данные о сообщениях по тарифу smart'"
      ]
     },
     "metadata": {},
     "output_type": "display_data"
    },
    {
     "data": {
      "text/plain": [
       "count    2229.000000\n",
       "mean       33.384029\n",
       "std        28.227876\n",
       "min         0.000000\n",
       "13%         0.000000\n",
       "25%        10.000000\n",
       "50%        28.000000\n",
       "74%        50.000000\n",
       "75%        51.000000\n",
       "max       143.000000\n",
       "Name: count_messages, dtype: float64"
      ]
     },
     "metadata": {},
     "output_type": "display_data"
    },
    {
     "data": {
      "text/plain": [
       "796.8129584480083"
      ]
     },
     "metadata": {},
     "output_type": "display_data"
    },
    {
     "data": {
      "image/png": "[encoded data removed]",
      "text/plain": [
       "<Figure size 864x864 with 1 Axes>"
      ]
     },
     "metadata": {
      "needs_background": "light"
     },
     "output_type": "display_data"
    }
   ],
   "source": [
    "#построим гистограмму распределения сообщений по тарифам ultra и smart\n",
    "\n",
    "display('Данные о сообщениях по тарифу ultra')\n",
    "display(data_ultra['count_messages'].describe())\n",
    "display(data_ultra['count_messages'].var())\n",
    "\n",
    "display('Данные о сообщениях по тарифу smart')\n",
    "display(data_smart['count_messages'].describe(percentiles=[.13, .25, .74, .75]))\n",
    "display(data_smart['count_messages'].var())\n",
    "\n",
    "ax = data_ultra['count_messages'].plot(\n",
    "                                     kind='hist',\n",
    "                                     color='red',\n",
    "                                     bins=50,\n",
    "                                     alpha=0.5,\n",
    "                                     grid=True,\n",
    "                                     figsize=(12, 12))\n",
    "ax = data_smart['count_messages'].plot(\n",
    "                                     kind='hist',\n",
    "                                     color='green',\n",
    "                                     bins=50,\n",
    "                                     alpha=0.5,\n",
    "                                     grid=True,\n",
    "                                     figsize=(12, 12))\n",
    "plt.show()"
   ]
  },
  {
   "cell_type": "markdown",
   "id": "d1a5fd96",
   "metadata": {},
   "source": [
    "**Вывод:**\n",
    "- Распределение по тарифу ultra смещенно вправа это видно по гистаграмме, а также потому что среднее арифметическое больше медианы\n",
    "- Никто из клиентов по тарифу ultra не пишет сообщенией больше чем лимит на месяц в 1000 сообщений\n",
    "- Медианное значение по тарифу ultra меньше чем включено в тариф smart\n",
    "- Распределение по тарифу smart смещенно вправа это видно по гистаграмме, а также потому что среднее арифметическое больше медианы\n",
    "- 13% клиентов на тарифу smart вообще не пользуются сообщениями\n",
    "- 74% процента клиентов на тарифу smart не превышают лимит в 50 сообщений в месяц\n",
    "- По обоим тарифам видно что основная масса клиентов попадает в месячные лимиты"
   ]
  },
  {
   "cell_type": "code",
   "execution_count": 25,
   "id": "4fb41d34",
   "metadata": {},
   "outputs": [
    {
     "data": {
      "text/plain": [
       "'Данные о трафике по тарифу ultra'"
      ]
     },
     "metadata": {},
     "output_type": "display_data"
    },
    {
     "data": {
      "text/plain": [
       "count      985.000000\n",
       "mean     19468.805208\n",
       "std      10087.170752\n",
       "min          0.000000\n",
       "20%      10121.514000\n",
       "25%      11770.260000\n",
       "50%      19308.010000\n",
       "75%      26837.690000\n",
       "80%      28240.488000\n",
       "85%      30048.280000\n",
       "max      49745.690000\n",
       "Name: sum_traffic, dtype: float64"
      ]
     },
     "metadata": {},
     "output_type": "display_data"
    },
    {
     "data": {
      "text/plain": [
       "101751013.78335388"
      ]
     },
     "metadata": {},
     "output_type": "display_data"
    },
    {
     "data": {
      "text/plain": [
       "'Данные о трафике по тарифу smart'"
      ]
     },
     "metadata": {},
     "output_type": "display_data"
    },
    {
     "data": {
      "text/plain": [
       "count     2229.000000\n",
       "mean     16208.386990\n",
       "std       5870.476681\n",
       "min          0.000000\n",
       "20%      11605.678000\n",
       "25%      12643.010000\n",
       "39%      14890.407600\n",
       "50%      16506.840000\n",
       "60%      17856.964000\n",
       "75%      20042.930000\n",
       "max      38552.450000\n",
       "Name: sum_traffic, dtype: float64"
      ]
     },
     "metadata": {},
     "output_type": "display_data"
    },
    {
     "data": {
      "text/plain": [
       "34462496.46274239"
      ]
     },
     "metadata": {},
     "output_type": "display_data"
    },
    {
     "data": {
      "image/png": "[encoded data removed]",
      "text/plain": [
       "<Figure size 864x864 with 1 Axes>"
      ]
     },
     "metadata": {
      "needs_background": "light"
     },
     "output_type": "display_data"
    }
   ],
   "source": [
    "#построим гистограмму распределения интернет трафика по тарифам ultra и smart\n",
    "\n",
    "display('Данные о трафике по тарифу ultra')\n",
    "display(data_ultra['sum_traffic'].describe(percentiles=[.2, .25, .75, .8, .85]))\n",
    "display(data_ultra['sum_traffic'].var())\n",
    "\n",
    "display('Данные о трафике по тарифу smart')\n",
    "display(data_smart['sum_traffic'].describe(percentiles=[.2, .25, .39, .6, .75]))\n",
    "display(data_smart['sum_traffic'].var())\n",
    "\n",
    "ax = data_ultra['sum_traffic'].plot(\n",
    "                                     kind='hist',\n",
    "                                     color='red',\n",
    "                                     bins=50,\n",
    "                                     alpha=0.5,\n",
    "                                     grid=True,\n",
    "                                     figsize=(12, 12))\n",
    "ax = data_smart['sum_traffic'].plot(\n",
    "                                     kind='hist',\n",
    "                                     color='green',\n",
    "                                     bins=50,\n",
    "                                     alpha=0.5,\n",
    "                                     grid=True,\n",
    "                                     figsize=(12, 12))\n",
    "plt.show()"
   ]
  },
  {
   "cell_type": "markdown",
   "id": "59c7915c",
   "metadata": {},
   "source": [
    "**Вывод:**\n",
    "- Распределение по тарифу ultra смещенно вправа это видно по гистаграмме, а также потому что среднее арифметическое больше медианы\n",
    "- Медианное значение по тарифу ultra не превышает 20 гб в месяц, хотя включено 30 в тариф\n",
    "- 85% пользователей на тарифе ultra не используют лимит трафика в месяц\n",
    "- Распределение по тарифу smart близко к нормальному о чем говорит близость медианного и среднего арифметического\n",
    "- 39% пользователей на тарифе smart не используют месячный лимит трафика\n",
    "- 61% пользователей на тарифе smart докупают трафик сверх лимита \n",
    "- На обоих тарифах основна масса клиентов (>20%) тратят 10 Гб интернета в месяц"
   ]
  },
  {
   "cell_type": "markdown",
   "id": "ab3524a3",
   "metadata": {},
   "source": [
    "## Вывод по заданию 3 <a class=\"anchor\" id=\"chapter_1_5_1\"></a>\n",
    "- На тарифе ultra только 15% пользователей докупают трафик сверх лимита, а в остальном лимиты по тарифу довольно большие и не провоцируют пользователей на увеличение выручки компании\n",
    "- На тарифе smart больше половины пользователей докупает трафик сверх лимита, а также можно сказать что тариф smart выбирают люди которым нужен в основном интернет, потому что медианные значения трафика 16505 мб, а на тарифе ultra 19304 мб, а в остальном они используют довольно мало остальных услуг"
   ]
  },
  {
   "cell_type": "markdown",
   "id": "70d69976",
   "metadata": {},
   "source": [
    "<div class=\"alert alert-success\">\n",
    "    <h3> Комментарий ревьюера: Антон Оленев <a class=\"tocSkip\"> </h3>\n",
    "    \n",
    "<b>✅ Все хорошо:</b> нужные числа посчитали, распредление оценили.\n",
    "</div>"
   ]
  },
  {
   "cell_type": "markdown",
   "id": "b3d1545f",
   "metadata": {},
   "source": [
    "# Шаг 4. Проверка гипотез <a class=\"anchor\" id=\"chapter_1_6\"></a>\n",
    "- средняя выручка пользователей тарифов «Ультра» и «Смарт» различаются;\n",
    "- средняя выручка пользователей из Москвы отличается от выручки пользователей из других регионов."
   ]
  },
  {
   "cell_type": "markdown",
   "id": "37e2518d",
   "metadata": {},
   "source": [
    "сравним выручку пользователей тарифов ultra и smart\n",
    "\n",
    "для этого сформируем нулевую и альтернативную гипотезы(двустороннюю)\n",
    "\n",
    "для сравнения будем использовать метод st.ttest_ind потому что мы сравниваем две генеральные совокупности, которые не зависят друг от друга\n",
    "\n",
    "H0: Средняя выручка тарифов ultra и smart одинаковая\n",
    "\n",
    "H1: Средние выручки не равны"
   ]
  },
  {
   "cell_type": "code",
   "execution_count": 26,
   "id": "c7843777",
   "metadata": {},
   "outputs": [
    {
     "data": {
      "text/plain": [
       "1.4229814360764067e-160"
      ]
     },
     "metadata": {},
     "output_type": "display_data"
    },
    {
     "data": {
      "text/plain": [
       "'нулевая гипотеза отвергнута, а значит средние выручки для двух тарифов не равны'"
      ]
     },
     "metadata": {},
     "output_type": "display_data"
    },
    {
     "data": {
      "text/plain": [
       "2070.1522842639592"
      ]
     },
     "metadata": {},
     "output_type": "display_data"
    },
    {
     "data": {
      "text/plain": [
       "1289.9735307312696"
      ]
     },
     "metadata": {},
     "output_type": "display_data"
    }
   ],
   "source": [
    "#зададим уровень значимости для проверки нулевой гепотезы\n",
    "\n",
    "alpha = 0.1\n",
    "\n",
    "#проведем статистический тест\n",
    "\n",
    "results = st.ttest_ind(data_smart['revenue_month'], data_ultra['revenue_month'])\n",
    "\n",
    "display(results.pvalue)\n",
    "\n",
    "if results.pvalue < alpha:\n",
    "    display('нулевая гипотеза отвергнута, а значит средние выручки для двух тарифов не равны')\n",
    "else:\n",
    "    display('средние выручки двух тарифов равны')\n",
    "    \n",
    "display(data_ultra['revenue_month'].mean(), data_smart['revenue_month'].mean())"
   ]
  },
  {
   "cell_type": "markdown",
   "id": "e74a00f7",
   "metadata": {},
   "source": [
    "**Вывод**\n",
    "- Статистический тест показал что уровень значимости статистического теста равен нулю, а значит средние выручки двух тарифов не равны, это также видно если рассчитать среднее двух генеральных совокупностей"
   ]
  },
  {
   "cell_type": "markdown",
   "id": "3bf59202",
   "metadata": {},
   "source": [
    "Сравним выручки в Москве и других городах для тарифа **smart**\n",
    "\n",
    "для этого запишем нулевую и альтернативную(двустороннюю) гипотезу\n",
    "\n",
    "для сравнения будем использовать метод st.ttest_ind потому что мы сравниваем две генеральные совокупности, которые не зависят друг от друга\n",
    "\n",
    "H0: Средняя выручка пользователей из Москвы равна выручке пользователей из других регионов.\n",
    "\n",
    "H1: Средняя выручка пользователей из Москвы не равна выручке пользователей из других регионов."
   ]
  },
  {
   "cell_type": "code",
   "execution_count": 27,
   "id": "4f94b3e9",
   "metadata": {},
   "outputs": [
    {
     "data": {
      "text/plain": [
       "0.18150864159228705"
      ]
     },
     "metadata": {},
     "output_type": "display_data"
    },
    {
     "data": {
      "text/plain": [
       "'средние выручки на тарифе smart для Москвы и регионов одинаковые'"
      ]
     },
     "metadata": {},
     "output_type": "display_data"
    },
    {
     "data": {
      "text/plain": [
       "1300.5746066196418"
      ]
     },
     "metadata": {},
     "output_type": "display_data"
    },
    {
     "data": {
      "text/plain": [
       "1239.3575129533679"
      ]
     },
     "metadata": {},
     "output_type": "display_data"
    }
   ],
   "source": [
    "#зададим уровень значимости для проверки нулевой гепотезы\n",
    "\n",
    "alpha = 0.1\n",
    "\n",
    "#проведем статистический тест\n",
    "\n",
    "results = st.ttest_ind(data_smart.query('city != \"Москва\"')['revenue_month'],\n",
    "                         data_smart.query('city == \"Москва\"')['revenue_month'])\n",
    "\n",
    "display(results.pvalue)\n",
    "\n",
    "if results.pvalue < alpha:\n",
    "    display('нулевая гипотеза отвергнута, а значит cредняя выручка пользователей из Москвы не равна выручке пользователей из других регионов.')\n",
    "else:\n",
    "    display('средние выручки на тарифе smart для Москвы и регионов одинаковые')\n",
    "    \n",
    "display(data_smart.query('city != \"Москва\"')['revenue_month'].mean(),\n",
    "        data_smart.query('city == \"Москва\"')['revenue_month'].mean())"
   ]
  },
  {
   "cell_type": "markdown",
   "id": "946e65ee",
   "metadata": {},
   "source": [
    "**Вывод:**\n",
    "- Нулевая гепотеза подтвердилась и средние выручки в большой вероятностью одинаковы при условии что дисперсии этих двух генеральных совокупностей одинаковые."
   ]
  },
  {
   "cell_type": "markdown",
   "id": "b77b5e69",
   "metadata": {},
   "source": [
    "Сравним выручки в Москве и других городах для тарифа **ultra**\n",
    "\n",
    "для этого запишем нулевую и альтернативную(двустороннюю) гипотезу\n",
    "\n",
    "для сравнения будем использовать метод st.ttest_ind потому что мы сравниваем две генеральные совокупности, которые не зависят друг от друга\n",
    "\n",
    "H0: Средняя выручка пользователей из Москвы равна выручке пользователей из других регионов.\n",
    "\n",
    "H1: Средняя выручка пользователей из Москвы не равна выручке пользователей из других регионов."
   ]
  },
  {
   "cell_type": "code",
   "execution_count": 28,
   "id": "09999551",
   "metadata": {},
   "outputs": [
    {
     "data": {
      "text/plain": [
       "0.8614477943640767"
      ]
     },
     "metadata": {},
     "output_type": "display_data"
    },
    {
     "data": {
      "text/plain": [
       "'средние выручки на тарифе smart для Москвы и регионов одинаковые'"
      ]
     },
     "metadata": {},
     "output_type": "display_data"
    },
    {
     "data": {
      "text/plain": [
       "2069.0131578947367"
      ]
     },
     "metadata": {},
     "output_type": "display_data"
    },
    {
     "data": {
      "text/plain": [
       "2074.0"
      ]
     },
     "metadata": {},
     "output_type": "display_data"
    }
   ],
   "source": [
    "#зададим уровень значимости для проверки нулевой гепотезы\n",
    "\n",
    "alpha = 0.1\n",
    "\n",
    "#проведем статистический тест\n",
    "\n",
    "results = st.ttest_ind(data_ultra.query('city != \"Москва\"')['revenue_month'],\n",
    "                         data_ultra.query('city == \"Москва\"')['revenue_month'])\n",
    "\n",
    "display(results.pvalue)\n",
    "\n",
    "if results.pvalue < alpha:\n",
    "    display('нулевая гипотеза отвергнута, а значит cредняя выручка пользователей из Москвы не равна выручке пользователей из других регионов.')\n",
    "else:\n",
    "    display('средние выручки на тарифе smart для Москвы и регионов одинаковые')\n",
    "    \n",
    "display(data_ultra.query('city != \"Москва\"')['revenue_month'].mean(),\n",
    "        data_ultra.query('city == \"Москва\"')['revenue_month'].mean())"
   ]
  },
  {
   "cell_type": "markdown",
   "id": "b646743b",
   "metadata": {},
   "source": [
    "**Вывод:**\n",
    "- Нулевая гепотеза подтвердилась, а значит средние выручки для регионов и Москвы на тарифе Ultra одинаковые, что подтвердили истинные средние генеральных совокупностей.\n",
    "- Также этот факт подтвердило высокое значение уровня значимости 0.71 для проведенного статистического теста"
   ]
  },
  {
   "cell_type": "markdown",
   "id": "7765388d",
   "metadata": {},
   "source": [
    "<div class=\"alert alert-success\">\n",
    "    <h3> Комментарий ревьюера: Антон Оленев <a class=\"tocSkip\"> </h3>\n",
    "    \n",
    "<b>✅ Все верно:</b> выручка по тарифам разная, а от региона скорее всего не зависит )\n",
    "</div>"
   ]
  },
  {
   "cell_type": "markdown",
   "id": "a72919cf",
   "metadata": {},
   "source": [
    "## Вывод по заданию 4: <a class=\"anchor\" id=\"chapter_1_6_1\"></a>\n",
    "\n",
    "- Для более дешевого тарифа выручки в Москве и в регионе имеют чуть большую разницу, но в целом как и с более дорогим тарифом у них очень близкие значения\n",
    "- Средние выручки двух тарифов имеют довольно большую разницу и это нормально, потому что они рассчитаны на разную целевую аудиторию"
   ]
  },
  {
   "cell_type": "markdown",
   "id": "d9b42377",
   "metadata": {},
   "source": [
    "<div class=\"alert alert-block alert-danger\">\n",
    "<h3> Комментарий ревьюера: Антон Оленев <a class=\"tocSkip\"/></h3>\n",
    "\n",
    "    \n",
    "<b>🤔 На доработку :</b> для итогового вывода по всему заданию надо вернуться к описанию проекта. \n",
    "    \n",
    "```Вы аналитик компании «Мегалайн» — федерального оператора сотовой связи. Клиентам предлагают два тарифных плана: «Смарт» и «Ультра». Чтобы скорректировать рекламный бюджет, коммерческий департамент хочет понять, какой тариф приносит больше денег.\n",
    "\n",
    "Вам предстоит сделать предварительный анализ тарифов на небольшой выборке клиентов. В вашем распоряжении данные 500 пользователей «Мегалайна»: кто они, откуда, каким тарифом пользуются, сколько звонков и сообщений каждый отправил за 2018 год. Нужно проанализировать поведение клиентов и сделать вывод — какой тариф лучше.```\n",
    "    \n",
    "Можешь ли ты сформулировать какие-то итоговые рекомендации или выводы по проведенному анализу для комерческого департамента?\n",
    "</div>\n",
    "    "
   ]
  },
  {
   "cell_type": "markdown",
   "id": "ffc271eb",
   "metadata": {},
   "source": [
    "# Дополнительное исследование <a class=\"anchor\" id=\"chapter_1_7\"></a>\n",
    "\n",
    "Для того чтобы сформировать рекомендации проведем дополнительное исследование"
   ]
  },
  {
   "cell_type": "code",
   "execution_count": 29,
   "id": "625f1dad",
   "metadata": {},
   "outputs": [
    {
     "data": {
      "text/plain": [
       "first\n",
       "Москва             99\n",
       "Санкт-Петербург    39\n",
       "Новосибирск        16\n",
       "Казань             14\n",
       "Омск               13\n",
       "                   ..\n",
       "Химки               1\n",
       "Волжский            1\n",
       "Иваново             1\n",
       "Нижневартовск       1\n",
       "Архангельск         1\n",
       "Length: 76, dtype: int64"
      ]
     },
     "metadata": {},
     "output_type": "display_data"
    },
    {
     "data": {
      "image/png": "[encoded data removed]",
      "text/plain": [
       "<Figure size 864x864 with 1 Axes>"
      ]
     },
     "metadata": {},
     "output_type": "display_data"
    }
   ],
   "source": [
    "#посмотрим откуда клиенты в целом \n",
    "\n",
    "display(data_merge.groupby(['user_id'])['city'].agg(['first']).reset_index().value_counts('first'))\n",
    "\n",
    "ax = (data_merge\n",
    "      .groupby(['user_id'])['city']\n",
    "      .agg(['first'])\n",
    "      .reset_index()\n",
    "      .value_counts('first')\n",
    "      .plot(kind='pie', figsize=(12, 12)))\n",
    "plt.show()"
   ]
  },
  {
   "cell_type": "code",
   "execution_count": 30,
   "id": "ed054d63",
   "metadata": {},
   "outputs": [
    {
     "data": {
      "text/plain": [
       "first\n",
       "Москва             67\n",
       "Санкт-Петербург    30\n",
       "Казань             13\n",
       "Новосибирск        11\n",
       "Ульяновск          10\n",
       "dtype: int64"
      ]
     },
     "metadata": {},
     "output_type": "display_data"
    },
    {
     "data": {
      "image/png": "[encoded data removed]",
      "text/plain": [
       "<Figure size 864x864 with 1 Axes>"
      ]
     },
     "metadata": {},
     "output_type": "display_data"
    }
   ],
   "source": [
    "#построим теперь круговую диаграмму по тарифу smart\n",
    "\n",
    "display(data_smart.groupby(['user_id'])['city'].agg(['first']).reset_index().value_counts('first').head())\n",
    "\n",
    "ax = (data_smart\n",
    "      .groupby(['user_id'])['city']\n",
    "      .agg(['first'])\n",
    "      .reset_index()\n",
    "      .value_counts('first')\n",
    "      .plot(kind='pie', figsize=(12, 12)))\n",
    "plt.show()"
   ]
  },
  {
   "cell_type": "code",
   "execution_count": 31,
   "id": "83a8e03d",
   "metadata": {},
   "outputs": [
    {
     "data": {
      "text/plain": [
       "first\n",
       "Москва             32\n",
       "Санкт-Петербург     9\n",
       "Уфа                 6\n",
       "Новосибирск         5\n",
       "Краснодар           5\n",
       "dtype: int64"
      ]
     },
     "metadata": {},
     "output_type": "display_data"
    },
    {
     "data": {
      "image/png": "[encoded data removed]",
      "text/plain": [
       "<Figure size 864x864 with 1 Axes>"
      ]
     },
     "metadata": {},
     "output_type": "display_data"
    }
   ],
   "source": [
    "#построим теперь круговую диаграмму по тарифу ultra\n",
    "\n",
    "display(data_ultra.groupby(['user_id'])['city'].agg(['first']).reset_index().value_counts('first').head())\n",
    "\n",
    "ax = (data_ultra\n",
    "      .groupby(['user_id'])['city']\n",
    "      .agg(['first'])\n",
    "      .reset_index()\n",
    "      .value_counts('first')\n",
    "      .plot(kind='pie', figsize=(12, 12)))\n",
    "plt.show()"
   ]
  },
  {
   "cell_type": "code",
   "execution_count": 32,
   "id": "31445021",
   "metadata": {},
   "outputs": [
    {
     "data": {
      "text/plain": [
       "'Информация о выручке по тарифу ultra'"
      ]
     },
     "metadata": {},
     "output_type": "display_data"
    },
    {
     "data": {
      "text/plain": [
       "'Количество пользователей по тарифу ultra: 148'"
      ]
     },
     "metadata": {},
     "output_type": "display_data"
    },
    {
     "data": {
      "text/plain": [
       "'Средний возраст пользователей по тарифу ultra: 46.83451776649746'"
      ]
     },
     "metadata": {},
     "output_type": "display_data"
    },
    {
     "data": {
      "text/plain": [
       "'медианная выручка по тарифу ultra: 1950.0'"
      ]
     },
     "metadata": {},
     "output_type": "display_data"
    },
    {
     "data": {
      "text/plain": [
       "'Суммарная выручка по тарифу ultra: 2039100.0'"
      ]
     },
     "metadata": {},
     "output_type": "display_data"
    },
    {
     "data": {
      "text/plain": [
       "'Информация о выручке по тарифу smart'"
      ]
     },
     "metadata": {},
     "output_type": "display_data"
    },
    {
     "data": {
      "text/plain": [
       "'Количество пользователей по тарифу smart: 350'"
      ]
     },
     "metadata": {},
     "output_type": "display_data"
    },
    {
     "data": {
      "text/plain": [
       "'Средний возраст пользователей по тарифу smart: 46.55630327501122'"
      ]
     },
     "metadata": {},
     "output_type": "display_data"
    },
    {
     "data": {
      "text/plain": [
       "'медианная выручка по тарифу smart: 1023.0'"
      ]
     },
     "metadata": {},
     "output_type": "display_data"
    },
    {
     "data": {
      "text/plain": [
       "'Суммарная выручка по тарифу smart: 2875351.0'"
      ]
     },
     "metadata": {},
     "output_type": "display_data"
    },
    {
     "data": {
      "text/plain": [
       "'Разница по выручка тарифов ultra и смарт: 836251.0'"
      ]
     },
     "metadata": {},
     "output_type": "display_data"
    },
    {
     "data": {
      "image/png": "[encoded data removed]",
      "text/plain": [
       "<Figure size 864x864 with 1 Axes>"
      ]
     },
     "metadata": {
      "needs_background": "light"
     },
     "output_type": "display_data"
    },
    {
     "data": {
      "image/png": "[encoded data removed]",
      "text/plain": [
       "<Figure size 864x864 with 1 Axes>"
      ]
     },
     "metadata": {
      "needs_background": "light"
     },
     "output_type": "display_data"
    }
   ],
   "source": [
    "#сравним выручки по тарифам\n",
    "\n",
    "display('Информация о выручке по тарифу ultra')\n",
    "\n",
    "display(f\"Количество пользователей по тарифу ultra: {data_ultra['user_id'].value_counts().count()}\")\n",
    "display(f\"Средний возраст пользователей по тарифу ultra: {data_ultra['age'].mean()}\")\n",
    "display(f\"медианная выручка по тарифу ultra: {data_ultra['revenue_month'].median()}\")\n",
    "display(f\"Суммарная выручка по тарифу ultra: {data_ultra['revenue_month'].sum()}\")\n",
    "\n",
    "display('Информация о выручке по тарифу smart')\n",
    "\n",
    "display(f\"Количество пользователей по тарифу smart: {data_smart['user_id'].value_counts().count()}\")\n",
    "display(f\"Средний возраст пользователей по тарифу smart: {data_smart['age'].mean()}\")\n",
    "display(f\"медианная выручка по тарифу smart: {data_smart['revenue_month'].median()}\")\n",
    "display(f\"Суммарная выручка по тарифу smart: {data_smart['revenue_month'].sum()}\")\n",
    "\n",
    "display(f\"Разница по выручка тарифов ultra и смарт: {data_smart['revenue_month'].sum()-data_ultra['revenue_month'].sum()}\")\n",
    "\n",
    "\n",
    "\n",
    "ax = data_ultra.groupby(['month'])['revenue_month'].agg(['sum']).plot(\n",
    "             kind='bar',\n",
    "             color='red',\n",
    "             alpha=0.5,\n",
    "             grid=True,\n",
    "             figsize=(12, 12))\n",
    "        \n",
    "ax = data_smart.groupby(['month'])['revenue_month'].agg(['sum']).plot(\n",
    "             kind='bar',\n",
    "             color='green',\n",
    "             alpha=0.5,\n",
    "             grid=True,\n",
    "             figsize=(12, 12))\n",
    "plt.show()"
   ]
  },
  {
   "cell_type": "code",
   "execution_count": 33,
   "id": "23bbb57c",
   "metadata": {},
   "outputs": [
    {
     "data": {
      "text/plain": [
       "1023.0"
      ]
     },
     "metadata": {},
     "output_type": "display_data"
    },
    {
     "data": {
      "text/plain": [
       "1350.0"
      ]
     },
     "metadata": {},
     "output_type": "display_data"
    }
   ],
   "source": [
    "#проведем гипотезу о снижении лимита трафика на тарифе smart до 10000 Мб в месяц,\n",
    "#а также снижении стоимости дополнительного Гб до 100 руб/гб\n",
    "\n",
    "def tariff_revenue(data):\n",
    "    data['revenue_month'] = data['rub_monthly_fee']\\\n",
    "    + (np.ceil(np.maximum(data['sum_traffic'] - 10000, 0) / 1024) * 100)\\\n",
    "    + (np.ceil(np.maximum(data['sum_calls'] - data['minutes_included'], 0)) * data['rub_per_minute'])\\\n",
    "    + (np.ceil(np.maximum(data['count_messages'] - data['messages_included'], 0)) * data['rub_per_message'])\n",
    "    return data\n",
    "\n",
    "display(data_merge.query('tariff_name==\"smart\"')['revenue_month'].median())\n",
    "\n",
    "data_merge_smart = data_merge.apply(tariff_revenue, axis=1)\n",
    "display(data_merge_smart.query('tariff_name==\"smart\"')['revenue_month'].median())"
   ]
  },
  {
   "cell_type": "markdown",
   "id": "ef241e07",
   "metadata": {},
   "source": [
    "показатели выручки на графиках выше не дают возможности сделать однозначного вывода о том что клиенты на тарифе smart приносят компании больше выручки, потому что это случайная выборка из 500 клиентов и при другой выборке клиентов на тарифе ultra могло бы быть больше"
   ]
  },
  {
   "cell_type": "markdown",
   "id": "c670c931",
   "metadata": {},
   "source": [
    "<div class=\"alert alert-success\">\n",
    "    <h3> Комментарий ревьюера: Антон Оленев <a class=\"tocSkip\"> </h3>\n",
    "    \n",
    "<b>✅ Отличное доп. исследование:</b> можно было бы еще тот код, который вычисляет показатели для каждого тарифа выделить в отдельную функцию, в которую передавать нужные данные, было бы чуть короче и чище )\n",
    "</div>"
   ]
  },
  {
   "cell_type": "markdown",
   "id": "28cb9efd",
   "metadata": {},
   "source": [
    "## Вывод по дополнительному исследованию <a class=\"anchor\" id=\"chapter_1_7_1\"></a>\n",
    "\n",
    "Характеристика пользователей тарифов:\n",
    "__smart__\n",
    "- в основном пользователи из москвы, но также есть пользователи из санкт-петербурга и сибири, в среднем им 47 лет\n",
    "- в основном они пользуются звонками и интернет трафиком, стабильно превышая лимит в 15 Гб в месяц, а вот сообщениями они не пользуются\n",
    "\n",
    "__ultra__\n",
    "- в основном это также пользователи из москвы и санкт-петербурга, но также есть и пользователи с юга россии, в среднем у них также возраст в районе 47 лет\n",
    "- они редко превышают свои лимиты по тарифам\n",
    "\n",
    "__Какой тариф лучше?__\n",
    "- с точки зрения клиента тариф smart лучше, потому что сообщения и звонки редко превышают лимит и только трафик приходится докупать, но даже с учетом докупаемого трафика можно сделать о том что для клиента выгоднее будет тариф Smart, об этом также говорит медианное значение выручки за месяц по тарифу в 1021 рубль\n",
    "\n",
    "__Рекомендация для комерчесого департамента__\n",
    "- Для увеличения прибыли можно на тарифе ultra уменьшить количество трафика до 20 Гб в месяц и тем самым увеличив выручку за счет доплат сверх лимита, ведь клиенты на этом тарифе платят не 200, а 150 рублей\n",
    "- на тарифе smart можно уменьшить лимит на трафик до 10000 Мб, но при этом снизить стимость дополнительного Гб до 100 руб. Тогда медианное значение выручки на пользователях при том же расходе трафика вырастет с 1021 руб до 1350 руб"
   ]
  },
  {
   "cell_type": "markdown",
   "id": "907ab705",
   "metadata": {},
   "source": [
    "<div class=\"alert alert-info\">\n",
    "<b>Итого!</b>\n",
    "Проект выполнен хорошо, \n",
    "\n",
    "- чтение и подготовка данных, приведение типов\n",
    "- построение сводных таблиц и их объединение\n",
    "- построение гистограм\n",
    "- проверка стат.гипотез.\n",
    "    \n",
    "Я смогу принять его после устранения следующих пунктов:\n",
    "- правильно округлять значения звонков\n",
    "- попробовать переписать функцию вычисления выручки с использованием метода np.maximum(). Если будут трудности или вопросы - можешь задать их в комментариях\n",
    "- подтвердить выводы задания 2 графиками или цифрами\n",
    "- сформулировать итоговый вывод по результатам исследования для комерческого департамента.\n",
    "\n",
    "</div>"
   ]
  },
  {
   "cell_type": "markdown",
   "id": "a7d546a5",
   "metadata": {},
   "source": [
    "<div class=\"alert alert-info\">\n",
    "<b>Итого V2!</b>\n",
    "Все отлично, ошибки устранены, замечания учтены. Отличное доп. исследование 👌\n",
    "\n",
    "Возвращаю проект, там ответ на вопрос про пути до файлов и похвалы )\n",
    "\n",
    "Можешь сразу вернуть проект без изменений и я его приму.\n",
    "\n",
    "\n",
    "</div>"
   ]
  },
  {
   "cell_type": "code",
   "execution_count": null,
   "id": "46c6a3bf",
   "metadata": {},
   "outputs": [],
   "source": []
  }
 ],
 "metadata": {
  "ExecuteTimeLog": [
   {
    "duration": 91,
    "start_time": "2022-05-11T18:43:22.601Z"
   },
   {
    "duration": 18,
    "start_time": "2022-05-11T18:43:42.898Z"
   },
   {
    "duration": 1407,
    "start_time": "2022-05-11T18:43:47.913Z"
   },
   {
    "duration": 396,
    "start_time": "2022-05-11T18:43:49.324Z"
   },
   {
    "duration": 1518,
    "start_time": "2022-05-11T18:44:00.194Z"
   },
   {
    "duration": 417,
    "start_time": "2022-05-11T18:44:01.716Z"
   },
   {
    "duration": 245,
    "start_time": "2022-05-11T18:44:02.135Z"
   },
   {
    "duration": 145,
    "start_time": "2022-05-11T18:44:02.384Z"
   },
   {
    "duration": 47,
    "start_time": "2022-05-11T18:44:02.532Z"
   },
   {
    "duration": 43,
    "start_time": "2022-05-11T18:44:02.581Z"
   },
   {
    "duration": 27,
    "start_time": "2022-05-11T18:44:02.626Z"
   },
   {
    "duration": 139,
    "start_time": "2022-05-11T18:44:02.656Z"
   },
   {
    "duration": 20,
    "start_time": "2022-05-11T18:44:02.797Z"
   },
   {
    "duration": 92,
    "start_time": "2022-05-11T18:44:02.820Z"
   },
   {
    "duration": 55,
    "start_time": "2022-05-11T18:44:02.914Z"
   },
   {
    "duration": 51,
    "start_time": "2022-05-11T18:44:02.971Z"
   },
   {
    "duration": 48,
    "start_time": "2022-05-11T18:44:03.024Z"
   },
   {
    "duration": 53,
    "start_time": "2022-05-11T18:57:16.170Z"
   },
   {
    "duration": 162,
    "start_time": "2022-05-11T18:57:42.972Z"
   },
   {
    "duration": 68,
    "start_time": "2022-05-11T18:58:14.085Z"
   },
   {
    "duration": 37,
    "start_time": "2022-05-11T18:58:37.853Z"
   },
   {
    "duration": 47,
    "start_time": "2022-05-11T18:59:18.267Z"
   },
   {
    "duration": 46,
    "start_time": "2022-05-11T19:01:07.304Z"
   },
   {
    "duration": 47,
    "start_time": "2022-05-11T19:01:26.360Z"
   },
   {
    "duration": 44,
    "start_time": "2022-05-11T19:02:37.372Z"
   },
   {
    "duration": 50,
    "start_time": "2022-05-11T19:03:12.205Z"
   },
   {
    "duration": 45,
    "start_time": "2022-05-11T19:03:20.121Z"
   },
   {
    "duration": 34,
    "start_time": "2022-05-11T19:05:19.049Z"
   },
   {
    "duration": 21,
    "start_time": "2022-05-11T19:06:31.365Z"
   },
   {
    "duration": 31,
    "start_time": "2022-05-11T19:06:48.232Z"
   },
   {
    "duration": 31,
    "start_time": "2022-05-11T19:11:45.336Z"
   },
   {
    "duration": 73,
    "start_time": "2022-05-11T19:12:48.403Z"
   },
   {
    "duration": 63,
    "start_time": "2022-05-11T19:12:55.728Z"
   },
   {
    "duration": 42,
    "start_time": "2022-05-11T19:13:08.511Z"
   },
   {
    "duration": 52,
    "start_time": "2022-05-11T19:13:34.278Z"
   },
   {
    "duration": 27,
    "start_time": "2022-05-11T19:13:56.983Z"
   },
   {
    "duration": 28,
    "start_time": "2022-05-11T19:15:08.208Z"
   },
   {
    "duration": 74,
    "start_time": "2022-05-11T19:17:59.129Z"
   },
   {
    "duration": 35,
    "start_time": "2022-05-11T19:18:39.319Z"
   },
   {
    "duration": 70,
    "start_time": "2022-05-11T19:26:13.990Z"
   },
   {
    "duration": 70,
    "start_time": "2022-05-11T19:26:26.273Z"
   },
   {
    "duration": 76,
    "start_time": "2022-05-11T19:27:03.984Z"
   },
   {
    "duration": 53,
    "start_time": "2022-05-11T19:28:01.575Z"
   },
   {
    "duration": 74,
    "start_time": "2022-05-11T19:29:05.285Z"
   },
   {
    "duration": 33,
    "start_time": "2022-05-11T19:29:08.966Z"
   },
   {
    "duration": 53,
    "start_time": "2022-05-11T19:29:44.878Z"
   },
   {
    "duration": 32,
    "start_time": "2022-05-11T19:29:57.192Z"
   },
   {
    "duration": 54,
    "start_time": "2022-05-11T19:33:32.276Z"
   },
   {
    "duration": 116,
    "start_time": "2022-05-13T16:37:51.908Z"
   },
   {
    "duration": 11,
    "start_time": "2022-05-13T16:38:07.920Z"
   },
   {
    "duration": 10,
    "start_time": "2022-05-13T16:38:59.310Z"
   },
   {
    "duration": 14,
    "start_time": "2022-05-13T16:39:49.080Z"
   },
   {
    "duration": 1396,
    "start_time": "2022-05-13T16:39:56.627Z"
   },
   {
    "duration": 386,
    "start_time": "2022-05-13T16:39:58.026Z"
   },
   {
    "duration": 250,
    "start_time": "2022-05-13T16:39:58.414Z"
   },
   {
    "duration": 160,
    "start_time": "2022-05-13T16:39:58.672Z"
   },
   {
    "duration": 40,
    "start_time": "2022-05-13T16:39:58.834Z"
   },
   {
    "duration": 46,
    "start_time": "2022-05-13T16:39:58.877Z"
   },
   {
    "duration": 39,
    "start_time": "2022-05-13T16:39:58.925Z"
   },
   {
    "duration": 147,
    "start_time": "2022-05-13T16:39:58.966Z"
   },
   {
    "duration": 20,
    "start_time": "2022-05-13T16:39:59.115Z"
   },
   {
    "duration": 86,
    "start_time": "2022-05-13T16:39:59.138Z"
   },
   {
    "duration": 74,
    "start_time": "2022-05-13T16:39:59.226Z"
   },
   {
    "duration": 81,
    "start_time": "2022-05-13T16:39:59.303Z"
   },
   {
    "duration": 66,
    "start_time": "2022-05-13T16:39:59.389Z"
   },
   {
    "duration": 242,
    "start_time": "2022-05-13T16:40:04.803Z"
   },
   {
    "duration": 135,
    "start_time": "2022-05-13T16:48:21.002Z"
   },
   {
    "duration": 48,
    "start_time": "2022-05-13T16:48:26.264Z"
   },
   {
    "duration": 72,
    "start_time": "2022-05-13T16:51:41.597Z"
   },
   {
    "duration": 49,
    "start_time": "2022-05-14T07:19:07.276Z"
   },
   {
    "duration": 882,
    "start_time": "2022-05-14T07:19:13.881Z"
   },
   {
    "duration": 198,
    "start_time": "2022-05-14T07:19:14.765Z"
   },
   {
    "duration": 188,
    "start_time": "2022-05-14T07:19:14.965Z"
   },
   {
    "duration": 135,
    "start_time": "2022-05-14T07:19:15.156Z"
   },
   {
    "duration": 27,
    "start_time": "2022-05-14T07:19:15.293Z"
   },
   {
    "duration": 90,
    "start_time": "2022-05-14T07:19:15.321Z"
   },
   {
    "duration": 0,
    "start_time": "2022-05-14T07:19:15.413Z"
   },
   {
    "duration": 0,
    "start_time": "2022-05-14T07:19:15.414Z"
   },
   {
    "duration": 0,
    "start_time": "2022-05-14T07:19:15.415Z"
   },
   {
    "duration": 0,
    "start_time": "2022-05-14T07:19:15.416Z"
   },
   {
    "duration": 0,
    "start_time": "2022-05-14T07:19:15.417Z"
   },
   {
    "duration": 0,
    "start_time": "2022-05-14T07:19:15.418Z"
   },
   {
    "duration": 0,
    "start_time": "2022-05-14T07:19:15.419Z"
   },
   {
    "duration": 33,
    "start_time": "2022-05-14T07:20:06.197Z"
   },
   {
    "duration": 824,
    "start_time": "2022-05-14T07:20:13.642Z"
   },
   {
    "duration": 200,
    "start_time": "2022-05-14T07:20:14.468Z"
   },
   {
    "duration": 177,
    "start_time": "2022-05-14T07:20:14.669Z"
   },
   {
    "duration": 116,
    "start_time": "2022-05-14T07:20:14.848Z"
   },
   {
    "duration": 22,
    "start_time": "2022-05-14T07:20:14.966Z"
   },
   {
    "duration": 39,
    "start_time": "2022-05-14T07:20:14.990Z"
   },
   {
    "duration": 7,
    "start_time": "2022-05-14T07:20:15.031Z"
   },
   {
    "duration": 111,
    "start_time": "2022-05-14T07:20:15.040Z"
   },
   {
    "duration": 17,
    "start_time": "2022-05-14T07:20:15.153Z"
   },
   {
    "duration": 68,
    "start_time": "2022-05-14T07:20:15.173Z"
   },
   {
    "duration": 34,
    "start_time": "2022-05-14T07:20:15.244Z"
   },
   {
    "duration": 58,
    "start_time": "2022-05-14T07:20:15.280Z"
   },
   {
    "duration": 40,
    "start_time": "2022-05-14T07:20:15.340Z"
   },
   {
    "duration": 44,
    "start_time": "2022-05-14T07:46:54.820Z"
   },
   {
    "duration": 548,
    "start_time": "2022-05-14T07:48:37.778Z"
   },
   {
    "duration": 856,
    "start_time": "2022-05-14T07:48:46.294Z"
   },
   {
    "duration": 191,
    "start_time": "2022-05-14T07:48:47.152Z"
   },
   {
    "duration": 168,
    "start_time": "2022-05-14T07:48:47.345Z"
   },
   {
    "duration": 114,
    "start_time": "2022-05-14T07:48:47.515Z"
   },
   {
    "duration": 22,
    "start_time": "2022-05-14T07:48:47.631Z"
   },
   {
    "duration": 32,
    "start_time": "2022-05-14T07:48:47.655Z"
   },
   {
    "duration": 18,
    "start_time": "2022-05-14T07:48:47.689Z"
   },
   {
    "duration": 81,
    "start_time": "2022-05-14T07:48:47.709Z"
   },
   {
    "duration": 26,
    "start_time": "2022-05-14T07:48:47.791Z"
   },
   {
    "duration": 56,
    "start_time": "2022-05-14T07:48:47.819Z"
   },
   {
    "duration": 54,
    "start_time": "2022-05-14T07:48:47.877Z"
   },
   {
    "duration": 41,
    "start_time": "2022-05-14T07:48:47.932Z"
   },
   {
    "duration": 61,
    "start_time": "2022-05-14T07:48:47.975Z"
   },
   {
    "duration": 1699,
    "start_time": "2022-05-14T07:48:48.038Z"
   },
   {
    "duration": 466,
    "start_time": "2022-05-14T07:49:27.494Z"
   },
   {
    "duration": 854,
    "start_time": "2022-05-14T07:49:33.106Z"
   },
   {
    "duration": 194,
    "start_time": "2022-05-14T07:49:33.962Z"
   },
   {
    "duration": 172,
    "start_time": "2022-05-14T07:49:34.157Z"
   },
   {
    "duration": 115,
    "start_time": "2022-05-14T07:49:34.332Z"
   },
   {
    "duration": 25,
    "start_time": "2022-05-14T07:49:34.448Z"
   },
   {
    "duration": 39,
    "start_time": "2022-05-14T07:49:34.475Z"
   },
   {
    "duration": 5,
    "start_time": "2022-05-14T07:49:34.516Z"
   },
   {
    "duration": 95,
    "start_time": "2022-05-14T07:49:34.523Z"
   },
   {
    "duration": 15,
    "start_time": "2022-05-14T07:49:34.620Z"
   },
   {
    "duration": 54,
    "start_time": "2022-05-14T07:49:34.638Z"
   },
   {
    "duration": 31,
    "start_time": "2022-05-14T07:49:34.708Z"
   },
   {
    "duration": 39,
    "start_time": "2022-05-14T07:49:34.741Z"
   },
   {
    "duration": 60,
    "start_time": "2022-05-14T07:49:34.781Z"
   },
   {
    "duration": 1702,
    "start_time": "2022-05-14T07:49:34.843Z"
   },
   {
    "duration": 1771,
    "start_time": "2022-05-14T07:49:54.884Z"
   },
   {
    "duration": 2012,
    "start_time": "2022-05-14T07:50:29.146Z"
   },
   {
    "duration": 107,
    "start_time": "2022-05-14T07:56:29.361Z"
   },
   {
    "duration": 2055,
    "start_time": "2022-05-14T07:57:05.592Z"
   },
   {
    "duration": 831,
    "start_time": "2022-05-15T10:23:41.319Z"
   },
   {
    "duration": 3,
    "start_time": "2022-05-15T10:23:58.490Z"
   },
   {
    "duration": 97,
    "start_time": "2022-05-15T10:36:07.303Z"
   },
   {
    "duration": 870,
    "start_time": "2022-05-15T10:36:19.573Z"
   },
   {
    "duration": 198,
    "start_time": "2022-05-15T10:36:20.445Z"
   },
   {
    "duration": 171,
    "start_time": "2022-05-15T10:36:20.645Z"
   },
   {
    "duration": 124,
    "start_time": "2022-05-15T10:36:20.820Z"
   },
   {
    "duration": 24,
    "start_time": "2022-05-15T10:36:20.946Z"
   },
   {
    "duration": 43,
    "start_time": "2022-05-15T10:36:20.972Z"
   },
   {
    "duration": 7,
    "start_time": "2022-05-15T10:36:21.017Z"
   },
   {
    "duration": 102,
    "start_time": "2022-05-15T10:36:21.025Z"
   },
   {
    "duration": 20,
    "start_time": "2022-05-15T10:36:21.129Z"
   },
   {
    "duration": 73,
    "start_time": "2022-05-15T10:36:21.153Z"
   },
   {
    "duration": 33,
    "start_time": "2022-05-15T10:36:21.228Z"
   },
   {
    "duration": 55,
    "start_time": "2022-05-15T10:36:21.263Z"
   },
   {
    "duration": 41,
    "start_time": "2022-05-15T10:36:21.320Z"
   },
   {
    "duration": 141,
    "start_time": "2022-05-15T10:36:21.362Z"
   },
   {
    "duration": 56,
    "start_time": "2022-05-15T10:37:00.625Z"
   },
   {
    "duration": 5,
    "start_time": "2022-05-15T10:37:26.693Z"
   },
   {
    "duration": 70,
    "start_time": "2022-05-15T10:38:23.624Z"
   },
   {
    "duration": 66,
    "start_time": "2022-05-15T10:39:28.995Z"
   },
   {
    "duration": 4,
    "start_time": "2022-05-15T10:40:10.380Z"
   },
   {
    "duration": 59,
    "start_time": "2022-05-15T10:40:24.332Z"
   },
   {
    "duration": 3,
    "start_time": "2022-05-15T10:40:52.176Z"
   },
   {
    "duration": 64,
    "start_time": "2022-05-15T10:41:28.584Z"
   },
   {
    "duration": 7,
    "start_time": "2022-05-15T10:43:57.214Z"
   },
   {
    "duration": 8,
    "start_time": "2022-05-15T10:44:07.832Z"
   },
   {
    "duration": 8,
    "start_time": "2022-05-15T10:44:13.544Z"
   },
   {
    "duration": 4,
    "start_time": "2022-05-15T10:44:19.939Z"
   },
   {
    "duration": 40,
    "start_time": "2022-05-15T10:48:07.163Z"
   },
   {
    "duration": 61,
    "start_time": "2022-05-15T10:48:39.520Z"
   },
   {
    "duration": 61,
    "start_time": "2022-05-15T10:49:16.358Z"
   },
   {
    "duration": 59,
    "start_time": "2022-05-15T11:06:44.874Z"
   },
   {
    "duration": 58,
    "start_time": "2022-05-15T11:06:58.168Z"
   },
   {
    "duration": 51,
    "start_time": "2022-05-15T11:07:15.180Z"
   },
   {
    "duration": 51,
    "start_time": "2022-05-15T11:09:18.944Z"
   },
   {
    "duration": 59,
    "start_time": "2022-05-15T11:12:01.943Z"
   },
   {
    "duration": 66,
    "start_time": "2022-05-15T11:13:18.552Z"
   },
   {
    "duration": 51,
    "start_time": "2022-05-15T11:13:46.200Z"
   },
   {
    "duration": 61,
    "start_time": "2022-05-15T11:14:04.299Z"
   },
   {
    "duration": 62,
    "start_time": "2022-05-15T11:14:18.671Z"
   },
   {
    "duration": 51,
    "start_time": "2022-05-15T11:14:26.910Z"
   },
   {
    "duration": 37,
    "start_time": "2022-05-15T11:15:28.403Z"
   },
   {
    "duration": 87,
    "start_time": "2022-05-15T11:15:43.300Z"
   },
   {
    "duration": 40,
    "start_time": "2022-05-15T11:15:53.778Z"
   },
   {
    "duration": 1387,
    "start_time": "2022-05-15T11:16:27.798Z"
   },
   {
    "duration": 56,
    "start_time": "2022-05-15T11:17:03.026Z"
   },
   {
    "duration": 1459,
    "start_time": "2022-05-15T11:17:51.856Z"
   },
   {
    "duration": 2319,
    "start_time": "2022-05-15T11:18:10.538Z"
   },
   {
    "duration": 2240,
    "start_time": "2022-05-15T11:18:35.803Z"
   },
   {
    "duration": 91,
    "start_time": "2022-05-15T11:20:07.021Z"
   },
   {
    "duration": 215,
    "start_time": "2022-05-15T11:20:12.344Z"
   },
   {
    "duration": 2292,
    "start_time": "2022-05-15T11:20:23.619Z"
   },
   {
    "duration": 2257,
    "start_time": "2022-05-15T11:20:51.516Z"
   },
   {
    "duration": 109,
    "start_time": "2022-05-15T11:40:24.938Z"
   },
   {
    "duration": 2257,
    "start_time": "2022-05-15T11:40:43.898Z"
   },
   {
    "duration": 65,
    "start_time": "2022-05-17T08:26:37.712Z"
   },
   {
    "duration": 924,
    "start_time": "2022-05-17T08:26:47.334Z"
   },
   {
    "duration": 269,
    "start_time": "2022-05-17T08:26:48.260Z"
   },
   {
    "duration": 204,
    "start_time": "2022-05-17T08:26:48.531Z"
   },
   {
    "duration": 119,
    "start_time": "2022-05-17T08:26:48.737Z"
   },
   {
    "duration": 22,
    "start_time": "2022-05-17T08:26:48.858Z"
   },
   {
    "duration": 47,
    "start_time": "2022-05-17T08:26:48.882Z"
   },
   {
    "duration": 6,
    "start_time": "2022-05-17T08:26:48.930Z"
   },
   {
    "duration": 124,
    "start_time": "2022-05-17T08:26:48.938Z"
   },
   {
    "duration": 16,
    "start_time": "2022-05-17T08:26:49.063Z"
   },
   {
    "duration": 68,
    "start_time": "2022-05-17T08:26:49.081Z"
   },
   {
    "duration": 50,
    "start_time": "2022-05-17T08:26:49.151Z"
   },
   {
    "duration": 46,
    "start_time": "2022-05-17T08:26:49.203Z"
   },
   {
    "duration": 57,
    "start_time": "2022-05-17T08:26:49.251Z"
   },
   {
    "duration": 119,
    "start_time": "2022-05-17T08:26:49.311Z"
   },
   {
    "duration": 2528,
    "start_time": "2022-05-17T08:29:41.618Z"
   },
   {
    "duration": 102,
    "start_time": "2022-05-17T08:49:01.099Z"
   },
   {
    "duration": 96,
    "start_time": "2022-05-17T08:49:21.778Z"
   },
   {
    "duration": 2422,
    "start_time": "2022-05-17T08:49:44.693Z"
   },
   {
    "duration": 2407,
    "start_time": "2022-05-17T08:51:29.723Z"
   },
   {
    "duration": 826,
    "start_time": "2022-05-17T09:04:38.041Z"
   },
   {
    "duration": 194,
    "start_time": "2022-05-17T09:04:38.869Z"
   },
   {
    "duration": 170,
    "start_time": "2022-05-17T09:04:39.065Z"
   },
   {
    "duration": 123,
    "start_time": "2022-05-17T09:04:39.237Z"
   },
   {
    "duration": 23,
    "start_time": "2022-05-17T09:04:39.362Z"
   },
   {
    "duration": 41,
    "start_time": "2022-05-17T09:04:39.387Z"
   },
   {
    "duration": 6,
    "start_time": "2022-05-17T09:04:39.430Z"
   },
   {
    "duration": 99,
    "start_time": "2022-05-17T09:04:39.438Z"
   },
   {
    "duration": 15,
    "start_time": "2022-05-17T09:04:39.539Z"
   },
   {
    "duration": 69,
    "start_time": "2022-05-17T09:04:39.557Z"
   },
   {
    "duration": 34,
    "start_time": "2022-05-17T09:04:39.628Z"
   },
   {
    "duration": 61,
    "start_time": "2022-05-17T09:04:39.663Z"
   },
   {
    "duration": 35,
    "start_time": "2022-05-17T09:04:39.726Z"
   },
   {
    "duration": 2428,
    "start_time": "2022-05-17T09:04:39.763Z"
   },
   {
    "duration": 70,
    "start_time": "2022-05-17T15:12:46.022Z"
   },
   {
    "duration": 939,
    "start_time": "2022-05-17T15:12:54.324Z"
   },
   {
    "duration": 190,
    "start_time": "2022-05-17T15:12:55.267Z"
   },
   {
    "duration": 168,
    "start_time": "2022-05-17T15:12:55.459Z"
   },
   {
    "duration": 115,
    "start_time": "2022-05-17T15:12:55.629Z"
   },
   {
    "duration": 31,
    "start_time": "2022-05-17T15:12:55.745Z"
   },
   {
    "duration": 74,
    "start_time": "2022-05-17T15:12:55.778Z"
   },
   {
    "duration": 6,
    "start_time": "2022-05-17T15:12:55.854Z"
   },
   {
    "duration": 100,
    "start_time": "2022-05-17T15:12:55.862Z"
   },
   {
    "duration": 17,
    "start_time": "2022-05-17T15:12:55.964Z"
   },
   {
    "duration": 64,
    "start_time": "2022-05-17T15:12:55.983Z"
   },
   {
    "duration": 32,
    "start_time": "2022-05-17T15:12:56.051Z"
   },
   {
    "duration": 38,
    "start_time": "2022-05-17T15:12:56.085Z"
   },
   {
    "duration": 56,
    "start_time": "2022-05-17T15:12:56.125Z"
   },
   {
    "duration": 2319,
    "start_time": "2022-05-17T15:12:56.183Z"
   },
   {
    "duration": 2098,
    "start_time": "2022-05-17T15:15:12.273Z"
   },
   {
    "duration": 2364,
    "start_time": "2022-05-17T15:15:18.108Z"
   },
   {
    "duration": 45,
    "start_time": "2022-05-17T15:16:13.867Z"
   },
   {
    "duration": 36,
    "start_time": "2022-05-17T15:16:20.727Z"
   },
   {
    "duration": 2260,
    "start_time": "2022-05-17T15:17:03.702Z"
   },
   {
    "duration": 2485,
    "start_time": "2022-05-17T15:17:16.253Z"
   },
   {
    "duration": 2168,
    "start_time": "2022-05-17T15:17:25.093Z"
   },
   {
    "duration": 2258,
    "start_time": "2022-05-17T15:17:38.505Z"
   },
   {
    "duration": 37,
    "start_time": "2022-05-17T15:18:27.286Z"
   },
   {
    "duration": 31,
    "start_time": "2022-05-17T15:19:48.080Z"
   },
   {
    "duration": 31,
    "start_time": "2022-05-17T15:20:12.093Z"
   },
   {
    "duration": 24,
    "start_time": "2022-05-17T15:22:24.401Z"
   },
   {
    "duration": 37,
    "start_time": "2022-05-17T15:22:38.971Z"
   },
   {
    "duration": 37,
    "start_time": "2022-05-17T15:24:54.087Z"
   },
   {
    "duration": 45,
    "start_time": "2022-05-17T15:25:08.129Z"
   },
   {
    "duration": 40,
    "start_time": "2022-05-17T15:25:28.224Z"
   },
   {
    "duration": 37,
    "start_time": "2022-05-17T15:25:39.776Z"
   },
   {
    "duration": 34,
    "start_time": "2022-05-17T15:25:54.184Z"
   },
   {
    "duration": 2893,
    "start_time": "2022-05-17T15:26:09.146Z"
   },
   {
    "duration": 3514,
    "start_time": "2022-05-17T15:27:17.861Z"
   },
   {
    "duration": 2896,
    "start_time": "2022-05-17T15:31:36.100Z"
   },
   {
    "duration": 4,
    "start_time": "2022-05-17T15:32:21.324Z"
   },
   {
    "duration": 3,
    "start_time": "2022-05-17T15:32:28.212Z"
   },
   {
    "duration": 2737,
    "start_time": "2022-05-17T15:36:41.153Z"
   },
   {
    "duration": 2973,
    "start_time": "2022-05-17T15:36:53.754Z"
   },
   {
    "duration": 2726,
    "start_time": "2022-05-17T15:53:03.450Z"
   },
   {
    "duration": 177,
    "start_time": "2022-05-17T15:56:59.122Z"
   },
   {
    "duration": 2072,
    "start_time": "2022-05-17T15:57:34.846Z"
   },
   {
    "duration": 2086,
    "start_time": "2022-05-17T15:58:54.798Z"
   },
   {
    "duration": 2170,
    "start_time": "2022-05-17T15:59:18.379Z"
   },
   {
    "duration": 2558,
    "start_time": "2022-05-17T16:01:30.322Z"
   },
   {
    "duration": 2491,
    "start_time": "2022-05-17T16:03:29.270Z"
   },
   {
    "duration": 2553,
    "start_time": "2022-05-17T16:05:08.515Z"
   },
   {
    "duration": 2765,
    "start_time": "2022-05-17T16:05:30.352Z"
   },
   {
    "duration": 2783,
    "start_time": "2022-05-17T16:06:20.946Z"
   },
   {
    "duration": 2612,
    "start_time": "2022-05-17T16:08:29.344Z"
   },
   {
    "duration": 28,
    "start_time": "2022-05-17T16:10:08.119Z"
   },
   {
    "duration": 28,
    "start_time": "2022-05-17T16:10:15.311Z"
   },
   {
    "duration": 2190,
    "start_time": "2022-05-17T16:13:22.748Z"
   },
   {
    "duration": 2066,
    "start_time": "2022-05-17T16:13:43.536Z"
   },
   {
    "duration": 2189,
    "start_time": "2022-05-17T16:14:12.675Z"
   },
   {
    "duration": 2204,
    "start_time": "2022-05-17T16:14:57.983Z"
   },
   {
    "duration": 8,
    "start_time": "2022-05-17T16:17:25.514Z"
   },
   {
    "duration": 1046,
    "start_time": "2022-05-17T16:17:52.418Z"
   },
   {
    "duration": 205,
    "start_time": "2022-05-17T16:18:07.920Z"
   },
   {
    "duration": 160,
    "start_time": "2022-05-17T16:24:00.597Z"
   },
   {
    "duration": 186,
    "start_time": "2022-05-17T16:24:13.906Z"
   },
   {
    "duration": 165,
    "start_time": "2022-05-17T16:24:24.634Z"
   },
   {
    "duration": 164,
    "start_time": "2022-05-17T16:24:31.384Z"
   },
   {
    "duration": 180,
    "start_time": "2022-05-17T16:24:51.177Z"
   },
   {
    "duration": 180,
    "start_time": "2022-05-17T16:25:14.223Z"
   },
   {
    "duration": 196,
    "start_time": "2022-05-17T16:26:35.912Z"
   },
   {
    "duration": 196,
    "start_time": "2022-05-17T16:26:59.896Z"
   },
   {
    "duration": 200,
    "start_time": "2022-05-17T16:27:03.847Z"
   },
   {
    "duration": 69,
    "start_time": "2022-05-17T16:59:54.096Z"
   },
   {
    "duration": 1113,
    "start_time": "2022-05-17T17:00:12.405Z"
   },
   {
    "duration": 278,
    "start_time": "2022-05-17T17:00:13.520Z"
   },
   {
    "duration": 214,
    "start_time": "2022-05-17T17:00:13.800Z"
   },
   {
    "duration": 149,
    "start_time": "2022-05-17T17:00:14.017Z"
   },
   {
    "duration": 30,
    "start_time": "2022-05-17T17:00:14.168Z"
   },
   {
    "duration": 58,
    "start_time": "2022-05-17T17:00:14.201Z"
   },
   {
    "duration": 8,
    "start_time": "2022-05-17T17:00:14.262Z"
   },
   {
    "duration": 135,
    "start_time": "2022-05-17T17:00:14.272Z"
   },
   {
    "duration": 21,
    "start_time": "2022-05-17T17:00:14.410Z"
   },
   {
    "duration": 88,
    "start_time": "2022-05-17T17:00:14.436Z"
   },
   {
    "duration": 60,
    "start_time": "2022-05-17T17:00:14.527Z"
   },
   {
    "duration": 53,
    "start_time": "2022-05-17T17:00:14.589Z"
   },
   {
    "duration": 37,
    "start_time": "2022-05-17T17:00:14.657Z"
   },
   {
    "duration": 3986,
    "start_time": "2022-05-17T17:00:14.697Z"
   },
   {
    "duration": 0,
    "start_time": "2022-05-17T17:00:18.685Z"
   },
   {
    "duration": 0,
    "start_time": "2022-05-17T17:00:18.688Z"
   },
   {
    "duration": 658,
    "start_time": "2022-05-17T17:00:31.910Z"
   },
   {
    "duration": 936,
    "start_time": "2022-05-17T17:00:36.593Z"
   },
   {
    "duration": 16,
    "start_time": "2022-05-17T17:00:41.031Z"
   },
   {
    "duration": 288,
    "start_time": "2022-05-17T17:02:16.495Z"
   },
   {
    "duration": 260,
    "start_time": "2022-05-17T17:02:30.423Z"
   },
   {
    "duration": 283,
    "start_time": "2022-05-17T17:02:45.376Z"
   },
   {
    "duration": 253,
    "start_time": "2022-05-17T17:03:00.504Z"
   },
   {
    "duration": 17,
    "start_time": "2022-05-17T17:03:12.931Z"
   },
   {
    "duration": 17,
    "start_time": "2022-05-17T17:03:31.977Z"
   },
   {
    "duration": 260,
    "start_time": "2022-05-17T17:03:59.121Z"
   },
   {
    "duration": 254,
    "start_time": "2022-05-17T17:04:41.922Z"
   },
   {
    "duration": 280,
    "start_time": "2022-05-17T17:05:00.334Z"
   },
   {
    "duration": 71,
    "start_time": "2022-05-18T07:01:27.449Z"
   },
   {
    "duration": 815,
    "start_time": "2022-05-18T07:01:40.899Z"
   },
   {
    "duration": 292,
    "start_time": "2022-05-18T07:01:41.716Z"
   },
   {
    "duration": 367,
    "start_time": "2022-05-18T07:01:42.010Z"
   },
   {
    "duration": 169,
    "start_time": "2022-05-18T07:01:42.380Z"
   },
   {
    "duration": 59,
    "start_time": "2022-05-18T07:01:42.551Z"
   },
   {
    "duration": 78,
    "start_time": "2022-05-18T07:01:42.612Z"
   },
   {
    "duration": 8,
    "start_time": "2022-05-18T07:01:42.692Z"
   },
   {
    "duration": 134,
    "start_time": "2022-05-18T07:01:42.701Z"
   },
   {
    "duration": 18,
    "start_time": "2022-05-18T07:01:42.838Z"
   },
   {
    "duration": 83,
    "start_time": "2022-05-18T07:01:42.859Z"
   },
   {
    "duration": 36,
    "start_time": "2022-05-18T07:01:42.944Z"
   },
   {
    "duration": 54,
    "start_time": "2022-05-18T07:01:42.982Z"
   },
   {
    "duration": 27,
    "start_time": "2022-05-18T07:01:43.038Z"
   },
   {
    "duration": 2372,
    "start_time": "2022-05-18T07:01:43.067Z"
   },
   {
    "duration": 804,
    "start_time": "2022-05-18T07:01:45.442Z"
   },
   {
    "duration": 230,
    "start_time": "2022-05-18T07:01:46.253Z"
   },
   {
    "duration": 147,
    "start_time": "2022-05-18T07:01:46.484Z"
   },
   {
    "duration": 43,
    "start_time": "2022-05-18T07:03:15.391Z"
   },
   {
    "duration": 32,
    "start_time": "2022-05-18T07:03:25.315Z"
   },
   {
    "duration": 34,
    "start_time": "2022-05-18T07:03:39.574Z"
   },
   {
    "duration": 54,
    "start_time": "2022-05-18T07:03:47.014Z"
   },
   {
    "duration": 17,
    "start_time": "2022-05-18T07:04:55.827Z"
   },
   {
    "duration": 59,
    "start_time": "2022-05-18T13:33:20.975Z"
   },
   {
    "duration": 857,
    "start_time": "2022-05-18T13:33:32.127Z"
   },
   {
    "duration": 540,
    "start_time": "2022-05-18T13:33:32.986Z"
   },
   {
    "duration": 433,
    "start_time": "2022-05-18T13:33:33.528Z"
   },
   {
    "duration": 287,
    "start_time": "2022-05-18T13:33:33.963Z"
   },
   {
    "duration": 87,
    "start_time": "2022-05-18T13:33:34.251Z"
   },
   {
    "duration": 82,
    "start_time": "2022-05-18T13:33:34.340Z"
   },
   {
    "duration": 6,
    "start_time": "2022-05-18T13:33:34.423Z"
   },
   {
    "duration": 80,
    "start_time": "2022-05-18T13:33:34.431Z"
   },
   {
    "duration": 18,
    "start_time": "2022-05-18T13:33:34.513Z"
   },
   {
    "duration": 62,
    "start_time": "2022-05-18T13:33:34.535Z"
   },
   {
    "duration": 35,
    "start_time": "2022-05-18T13:33:34.599Z"
   },
   {
    "duration": 56,
    "start_time": "2022-05-18T13:33:34.636Z"
   },
   {
    "duration": 24,
    "start_time": "2022-05-18T13:33:34.694Z"
   },
   {
    "duration": 2222,
    "start_time": "2022-05-18T13:33:34.720Z"
   },
   {
    "duration": 660,
    "start_time": "2022-05-18T13:33:36.944Z"
   },
   {
    "duration": 204,
    "start_time": "2022-05-18T13:33:37.606Z"
   },
   {
    "duration": 17,
    "start_time": "2022-05-18T13:33:37.811Z"
   },
   {
    "duration": 12,
    "start_time": "2022-05-18T13:43:39.093Z"
   },
   {
    "duration": 22,
    "start_time": "2022-05-18T13:44:00.190Z"
   },
   {
    "duration": 119,
    "start_time": "2022-05-18T13:44:10.990Z"
   },
   {
    "duration": 16,
    "start_time": "2022-05-18T13:44:24.722Z"
   },
   {
    "duration": 22,
    "start_time": "2022-05-18T13:44:58.093Z"
   },
   {
    "duration": 15,
    "start_time": "2022-05-18T13:48:55.546Z"
   },
   {
    "duration": 18,
    "start_time": "2022-05-18T13:49:00.671Z"
   },
   {
    "duration": 220,
    "start_time": "2022-05-18T13:50:07.935Z"
   },
   {
    "duration": 155,
    "start_time": "2022-05-18T13:50:12.838Z"
   },
   {
    "duration": 341,
    "start_time": "2022-05-18T13:50:53.760Z"
   },
   {
    "duration": 302,
    "start_time": "2022-05-18T14:08:38.047Z"
   },
   {
    "duration": 239,
    "start_time": "2022-05-18T14:34:14.637Z"
   },
   {
    "duration": 9,
    "start_time": "2022-05-18T14:34:18.232Z"
   },
   {
    "duration": 491,
    "start_time": "2022-05-18T14:37:38.781Z"
   },
   {
    "duration": 461,
    "start_time": "2022-05-18T14:37:57.743Z"
   },
   {
    "duration": 459,
    "start_time": "2022-05-18T14:38:12.538Z"
   },
   {
    "duration": 64,
    "start_time": "2022-05-19T09:49:55.008Z"
   },
   {
    "duration": 801,
    "start_time": "2022-05-19T09:50:03.727Z"
   },
   {
    "duration": 232,
    "start_time": "2022-05-19T09:50:04.530Z"
   },
   {
    "duration": 304,
    "start_time": "2022-05-19T09:50:04.764Z"
   },
   {
    "duration": 134,
    "start_time": "2022-05-19T09:50:05.070Z"
   },
   {
    "duration": 41,
    "start_time": "2022-05-19T09:50:05.205Z"
   },
   {
    "duration": 51,
    "start_time": "2022-05-19T09:50:05.248Z"
   },
   {
    "duration": 5,
    "start_time": "2022-05-19T09:50:05.300Z"
   },
   {
    "duration": 76,
    "start_time": "2022-05-19T09:50:05.306Z"
   },
   {
    "duration": 13,
    "start_time": "2022-05-19T09:50:05.383Z"
   },
   {
    "duration": 53,
    "start_time": "2022-05-19T09:50:05.399Z"
   },
   {
    "duration": 31,
    "start_time": "2022-05-19T09:50:05.453Z"
   },
   {
    "duration": 49,
    "start_time": "2022-05-19T09:50:05.485Z"
   },
   {
    "duration": 25,
    "start_time": "2022-05-19T09:50:05.535Z"
   },
   {
    "duration": 2146,
    "start_time": "2022-05-19T09:50:05.561Z"
   },
   {
    "duration": 667,
    "start_time": "2022-05-19T09:50:07.708Z"
   },
   {
    "duration": 192,
    "start_time": "2022-05-19T09:50:08.377Z"
   },
   {
    "duration": 18,
    "start_time": "2022-05-19T09:50:08.571Z"
   },
   {
    "duration": 286,
    "start_time": "2022-05-19T09:50:08.591Z"
   },
   {
    "duration": 337,
    "start_time": "2022-05-19T09:50:08.879Z"
   },
   {
    "duration": 223,
    "start_time": "2022-05-19T09:54:12.982Z"
   },
   {
    "duration": 215,
    "start_time": "2022-05-19T10:11:46.515Z"
   },
   {
    "duration": 231,
    "start_time": "2022-05-19T10:12:12.980Z"
   },
   {
    "duration": 216,
    "start_time": "2022-05-19T10:12:26.490Z"
   },
   {
    "duration": 262,
    "start_time": "2022-05-19T10:14:03.411Z"
   },
   {
    "duration": 269,
    "start_time": "2022-05-19T10:15:18.919Z"
   },
   {
    "duration": 23,
    "start_time": "2022-05-19T10:17:06.218Z"
   },
   {
    "duration": 257,
    "start_time": "2022-05-19T10:18:02.110Z"
   },
   {
    "duration": 255,
    "start_time": "2022-05-19T10:18:27.886Z"
   },
   {
    "duration": 236,
    "start_time": "2022-05-19T10:18:45.124Z"
   },
   {
    "duration": 338,
    "start_time": "2022-05-19T10:19:49.632Z"
   },
   {
    "duration": 232,
    "start_time": "2022-05-19T10:19:54.986Z"
   },
   {
    "duration": 237,
    "start_time": "2022-05-19T10:19:58.490Z"
   },
   {
    "duration": 299,
    "start_time": "2022-05-19T10:20:02.590Z"
   },
   {
    "duration": 263,
    "start_time": "2022-05-19T10:32:44.677Z"
   },
   {
    "duration": 135,
    "start_time": "2022-05-19T10:33:02.539Z"
   },
   {
    "duration": 279,
    "start_time": "2022-05-19T10:33:12.064Z"
   },
   {
    "duration": 386,
    "start_time": "2022-05-19T10:33:23.495Z"
   },
   {
    "duration": 278,
    "start_time": "2022-05-19T10:33:36.619Z"
   },
   {
    "duration": 289,
    "start_time": "2022-05-19T10:33:43.941Z"
   },
   {
    "duration": 267,
    "start_time": "2022-05-19T10:34:05.519Z"
   },
   {
    "duration": 55,
    "start_time": "2022-05-19T10:39:04.860Z"
   },
   {
    "duration": 11,
    "start_time": "2022-05-19T13:29:43.106Z"
   },
   {
    "duration": 3,
    "start_time": "2022-05-19T13:30:00.148Z"
   },
   {
    "duration": 7,
    "start_time": "2022-05-19T13:30:05.168Z"
   },
   {
    "duration": 10,
    "start_time": "2022-05-19T13:31:10.347Z"
   },
   {
    "duration": 11,
    "start_time": "2022-05-19T13:31:57.697Z"
   },
   {
    "duration": 10,
    "start_time": "2022-05-19T13:32:03.607Z"
   },
   {
    "duration": 9,
    "start_time": "2022-05-19T13:32:17.612Z"
   },
   {
    "duration": 10,
    "start_time": "2022-05-19T13:34:56.152Z"
   },
   {
    "duration": 36,
    "start_time": "2022-05-19T13:37:42.571Z"
   },
   {
    "duration": 27,
    "start_time": "2022-05-19T13:39:09.763Z"
   },
   {
    "duration": 11,
    "start_time": "2022-05-19T13:41:30.851Z"
   },
   {
    "duration": 9,
    "start_time": "2022-05-19T13:42:37.278Z"
   },
   {
    "duration": 12,
    "start_time": "2022-05-19T13:42:53.164Z"
   },
   {
    "duration": 13,
    "start_time": "2022-05-19T13:43:02.751Z"
   },
   {
    "duration": 16,
    "start_time": "2022-05-19T13:45:16.447Z"
   },
   {
    "duration": 40,
    "start_time": "2022-05-19T13:45:52.500Z"
   },
   {
    "duration": 24,
    "start_time": "2022-05-19T13:46:06.636Z"
   },
   {
    "duration": 22,
    "start_time": "2022-05-19T13:46:13.540Z"
   },
   {
    "duration": 29,
    "start_time": "2022-05-19T13:48:58.462Z"
   },
   {
    "duration": 28,
    "start_time": "2022-05-19T13:49:16.470Z"
   },
   {
    "duration": 10,
    "start_time": "2022-05-19T13:54:40.735Z"
   },
   {
    "duration": 22,
    "start_time": "2022-05-19T13:57:47.263Z"
   },
   {
    "duration": 20,
    "start_time": "2022-05-19T13:58:15.645Z"
   },
   {
    "duration": 20,
    "start_time": "2022-05-19T13:59:53.375Z"
   },
   {
    "duration": 60,
    "start_time": "2022-05-20T16:27:12.193Z"
   },
   {
    "duration": 10,
    "start_time": "2022-05-20T16:28:16.154Z"
   },
   {
    "duration": 11,
    "start_time": "2022-05-20T16:28:55.405Z"
   },
   {
    "duration": 18,
    "start_time": "2022-05-20T16:29:52.479Z"
   },
   {
    "duration": 7,
    "start_time": "2022-05-20T16:30:14.279Z"
   },
   {
    "duration": 9,
    "start_time": "2022-05-20T16:30:46.459Z"
   }
  ],
  "kernelspec": {
   "display_name": "Python 3 (ipykernel)",
   "language": "python",
   "name": "python3"
  },
  "language_info": {
   "codemirror_mode": {
    "name": "ipython",
    "version": 3
   },
   "file_extension": ".py",
   "mimetype": "text/x-python",
   "name": "python",
   "nbconvert_exporter": "python",
   "pygments_lexer": "ipython3",
   "version": "3.9.7"
  },
  "toc": {
   "base_numbering": 1,
   "nav_menu": {},
   "number_sections": true,
   "sideBar": true,
   "skip_h1_title": true,
   "title_cell": "Table of Contents",
   "title_sidebar": "Contents",
   "toc_cell": false,
   "toc_position": {},
   "toc_section_display": true,
   "toc_window_display": false
  }
 },
 "nbformat": 4,
 "nbformat_minor": 5
}
