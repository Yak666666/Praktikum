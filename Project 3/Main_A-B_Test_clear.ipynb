{
 "cells": [
  {
   "cell_type": "markdown",
   "id": "0eb9286d",
   "metadata": {},
   "source": [
    "## Содержание\n",
    "\n",
    "* [Общая информация по проекту](#chapter_0)\n",
    "* [1 Часть. Приоритизация гипотез](#chapter_1)\n",
    "    * [Метод ICE](#chapter_1_1)\n",
    "    * [Метод RICE](#chapter_1_2)\n",
    "    * [Вывод](#chapter_1_3)\n",
    "* [Часть 2. Анализ А/B теста](#chapter_2)\n",
    "* [Куммулятивный график по выручке](#chapter_2_1)\n",
    "* [График относительного изменения кумулятивного среднего чека группы B к группе A](#chapter_2_3)\n",
    "* [График кумулятивного среднего количества заказов по группам](#chapter_2_4)\n",
    "* [График относительного изменения кумулятивной конверсии группы B к группе A](#chapter_2_5)\n",
    "* [Точечный график количества заказов по пользователям](#chapter_2_6)\n",
    "* [95-й и 99-й перцентили количества заказов на пользователя](#chapter_2_7)\n",
    "* [Точечный график стоимостей заказов](#chapter_2_8)\n",
    "* [95-й и 99-й перцентили стоимостей заказов](#chapter_2_9)\n",
    "* [Статистическая значимость различий в среднем количестве заказов между группами по «сырым» данным](#chapter_2_10)\n",
    "* [Статистическая значимость различий в среднем чеке заказа между группами по «сырым» данным](chapter_2_11)\n",
    "* [Cтатистическая значимость различий в среднем количестве заказов между группами по «очищенным» данным](#chapter_2_12)\n",
    "* [Статистическая значимость различий в среднем чеке заказа между группами по «очищенным» данным](#chapter_2_13)\n",
    "* [Итоги А/В теста](#chapter_2_14)"
   ]
  },
  {
   "cell_type": "markdown",
   "id": "750b0c6a",
   "metadata": {},
   "source": [
    "## Общая информация по проекту <a class=\"anchor\" id=\"anchor_0\"></a>\n",
    "\n",
    "В этом проекте я аналитик интернет-магазина и мне предстои проделать следующие действия:\n",
    "- приоритизировать гипотезы из списка\n",
    "- Провести A/B тесты\n",
    "- Проанализировать и написать выводы по тестам\n",
    "\n",
    "Основная цель: __понять нужно ли останавливать А/В тесты и на сколько показала себя тестируемая группа__"
   ]
  },
  {
   "cell_type": "markdown",
   "id": "bf5a872b",
   "metadata": {},
   "source": [
    "## Часть 1. Приоритизация гипотез <a class='anchor' id='chapter_1'></a>\n",
    "\n",
    "В исходном файле содержится 9 гипотез по увеличению выручки интернет-магазина с указанными параметрами Reach, Impact, Confidence, Effort."
   ]
  },
  {
   "cell_type": "markdown",
   "id": "b416ea0d",
   "metadata": {},
   "source": [
    "### Метод ICE <a class='anchor' id='chapter_1_1'></a>\n",
    "\n",
    "проанализируем гипотезы по методу ICE"
   ]
  },
  {
   "cell_type": "code",
   "execution_count": 36,
   "id": "809131bd",
   "metadata": {},
   "outputs": [],
   "source": [
    "# для начала импортируем все библиотеки которые могут нам понадобиться в процессе анализа\n",
    "\n",
    "from scipy import stats as st\n",
    "import numpy as np\n",
    "import math as mth\n",
    "import pandas as pd\n",
    "import scipy.stats as stats\n",
    "import datetime as dt"
   ]
  },
  {
   "cell_type": "code",
   "execution_count": 2,
   "id": "fd009321",
   "metadata": {
    "scrolled": true
   },
   "outputs": [
    {
     "data": {
      "text/html": [
       "<div>\n",
       "<style scoped>\n",
       "    .dataframe tbody tr th:only-of-type {\n",
       "        vertical-align: middle;\n",
       "    }\n",
       "\n",
       "    .dataframe tbody tr th {\n",
       "        vertical-align: top;\n",
       "    }\n",
       "\n",
       "    .dataframe thead th {\n",
       "        text-align: right;\n",
       "    }\n",
       "</style>\n",
       "<table border=\"1\" class=\"dataframe\">\n",
       "  <thead>\n",
       "    <tr style=\"text-align: right;\">\n",
       "      <th></th>\n",
       "      <th>Hypothesis</th>\n",
       "      <th>Reach</th>\n",
       "      <th>Impact</th>\n",
       "      <th>Confidence</th>\n",
       "      <th>Efforts</th>\n",
       "    </tr>\n",
       "  </thead>\n",
       "  <tbody>\n",
       "    <tr>\n",
       "      <th>0</th>\n",
       "      <td>Добавить два новых канала привлечения трафика, что позволит привлекать на 30% больше пользователей</td>\n",
       "      <td>3</td>\n",
       "      <td>10</td>\n",
       "      <td>8</td>\n",
       "      <td>6</td>\n",
       "    </tr>\n",
       "    <tr>\n",
       "      <th>1</th>\n",
       "      <td>Запустить собственную службу доставки, что сократит срок доставки заказов</td>\n",
       "      <td>2</td>\n",
       "      <td>5</td>\n",
       "      <td>4</td>\n",
       "      <td>10</td>\n",
       "    </tr>\n",
       "    <tr>\n",
       "      <th>2</th>\n",
       "      <td>Добавить блоки рекомендаций товаров на сайт интернет магазина, чтобы повысить конверсию и средни...</td>\n",
       "      <td>8</td>\n",
       "      <td>3</td>\n",
       "      <td>7</td>\n",
       "      <td>3</td>\n",
       "    </tr>\n",
       "    <tr>\n",
       "      <th>3</th>\n",
       "      <td>Изменить структура категорий, что увеличит конверсию, т.к. пользователи быстрее найдут нужный товар</td>\n",
       "      <td>8</td>\n",
       "      <td>3</td>\n",
       "      <td>3</td>\n",
       "      <td>8</td>\n",
       "    </tr>\n",
       "    <tr>\n",
       "      <th>4</th>\n",
       "      <td>Изменить цвет фона главной страницы, чтобы увеличить вовлеченность пользователей</td>\n",
       "      <td>3</td>\n",
       "      <td>1</td>\n",
       "      <td>1</td>\n",
       "      <td>1</td>\n",
       "    </tr>\n",
       "    <tr>\n",
       "      <th>5</th>\n",
       "      <td>Добавить страницу отзывов клиентов о магазине, что позволит увеличить количество заказов</td>\n",
       "      <td>3</td>\n",
       "      <td>2</td>\n",
       "      <td>2</td>\n",
       "      <td>3</td>\n",
       "    </tr>\n",
       "    <tr>\n",
       "      <th>6</th>\n",
       "      <td>Показать на главной странице баннеры с актуальными акциями и распродажами, чтобы увеличить конве...</td>\n",
       "      <td>5</td>\n",
       "      <td>3</td>\n",
       "      <td>8</td>\n",
       "      <td>3</td>\n",
       "    </tr>\n",
       "    <tr>\n",
       "      <th>7</th>\n",
       "      <td>Добавить форму подписки на все основные страницы, чтобы собрать базу клиентов для email-рассылок</td>\n",
       "      <td>10</td>\n",
       "      <td>7</td>\n",
       "      <td>8</td>\n",
       "      <td>5</td>\n",
       "    </tr>\n",
       "    <tr>\n",
       "      <th>8</th>\n",
       "      <td>Запустить акцию, дающую скидку на товар в день рождения</td>\n",
       "      <td>1</td>\n",
       "      <td>9</td>\n",
       "      <td>9</td>\n",
       "      <td>5</td>\n",
       "    </tr>\n",
       "  </tbody>\n",
       "</table>\n",
       "</div>"
      ],
      "text/plain": [
       "                                                                                            Hypothesis  \\\n",
       "0   Добавить два новых канала привлечения трафика, что позволит привлекать на 30% больше пользователей   \n",
       "1                            Запустить собственную службу доставки, что сократит срок доставки заказов   \n",
       "2  Добавить блоки рекомендаций товаров на сайт интернет магазина, чтобы повысить конверсию и средни...   \n",
       "3  Изменить структура категорий, что увеличит конверсию, т.к. пользователи быстрее найдут нужный товар   \n",
       "4                     Изменить цвет фона главной страницы, чтобы увеличить вовлеченность пользователей   \n",
       "5             Добавить страницу отзывов клиентов о магазине, что позволит увеличить количество заказов   \n",
       "6  Показать на главной странице баннеры с актуальными акциями и распродажами, чтобы увеличить конве...   \n",
       "7     Добавить форму подписки на все основные страницы, чтобы собрать базу клиентов для email-рассылок   \n",
       "8                                              Запустить акцию, дающую скидку на товар в день рождения   \n",
       "\n",
       "   Reach  Impact  Confidence  Efforts  \n",
       "0      3      10           8        6  \n",
       "1      2       5           4       10  \n",
       "2      8       3           7        3  \n",
       "3      8       3           3        8  \n",
       "4      3       1           1        1  \n",
       "5      3       2           2        3  \n",
       "6      5       3           8        3  \n",
       "7     10       7           8        5  \n",
       "8      1       9           9        5  "
      ]
     },
     "execution_count": 2,
     "metadata": {},
     "output_type": "execute_result"
    }
   ],
   "source": [
    "# откроем исходный файл\n",
    "\n",
    "try:\n",
    "    hypothesis = pd.read_csv('/Users/abc/Documents/Courses/yandex/projects/7/hypothesis.csv')\n",
    "except:\n",
    "    hypothesis = pd.read_csv('/datasets/hypothesis.csv')\n",
    "    \n",
    "pd.options.display.max_colwidth = 100    \n",
    "\n",
    "hypothesis"
   ]
  },
  {
   "cell_type": "markdown",
   "id": "88dc892e",
   "metadata": {},
   "source": [
    "<b>Содержание файла Hypothesis:</b>\n",
    "    \n",
    "- Reach — охват пользователей по 10-балльной шкале;\n",
    "- Impact — влияние на пользователей по 10-балльной шкале;\n",
    "- Confidence — уверенность в гипотезе по 10-балльной шкале;\n",
    "- Efforts — затраты ресурсов на проверку гипотезы по 10-балльной шкале. Чем больше значение Efforts, тем дороже проверка гипотезы."
   ]
  },
  {
   "cell_type": "code",
   "execution_count": 3,
   "id": "49b99b50",
   "metadata": {},
   "outputs": [
    {
     "data": {
      "text/html": [
       "<div>\n",
       "<style scoped>\n",
       "    .dataframe tbody tr th:only-of-type {\n",
       "        vertical-align: middle;\n",
       "    }\n",
       "\n",
       "    .dataframe tbody tr th {\n",
       "        vertical-align: top;\n",
       "    }\n",
       "\n",
       "    .dataframe thead th {\n",
       "        text-align: right;\n",
       "    }\n",
       "</style>\n",
       "<table border=\"1\" class=\"dataframe\">\n",
       "  <thead>\n",
       "    <tr style=\"text-align: right;\">\n",
       "      <th></th>\n",
       "      <th>Hypothesis</th>\n",
       "      <th>Reach</th>\n",
       "      <th>Impact</th>\n",
       "      <th>Confidence</th>\n",
       "      <th>Efforts</th>\n",
       "      <th>ICE</th>\n",
       "    </tr>\n",
       "  </thead>\n",
       "  <tbody>\n",
       "    <tr>\n",
       "      <th>8</th>\n",
       "      <td>Запустить акцию, дающую скидку на товар в день рождения</td>\n",
       "      <td>1</td>\n",
       "      <td>9</td>\n",
       "      <td>9</td>\n",
       "      <td>5</td>\n",
       "      <td>16.2</td>\n",
       "    </tr>\n",
       "    <tr>\n",
       "      <th>0</th>\n",
       "      <td>Добавить два новых канала привлечения трафика, что позволит привлекать на 30% больше пользователей</td>\n",
       "      <td>3</td>\n",
       "      <td>10</td>\n",
       "      <td>8</td>\n",
       "      <td>6</td>\n",
       "      <td>13.3</td>\n",
       "    </tr>\n",
       "    <tr>\n",
       "      <th>7</th>\n",
       "      <td>Добавить форму подписки на все основные страницы, чтобы собрать базу клиентов для email-рассылок</td>\n",
       "      <td>10</td>\n",
       "      <td>7</td>\n",
       "      <td>8</td>\n",
       "      <td>5</td>\n",
       "      <td>11.2</td>\n",
       "    </tr>\n",
       "    <tr>\n",
       "      <th>6</th>\n",
       "      <td>Показать на главной странице баннеры с актуальными акциями и распродажами, чтобы увеличить конве...</td>\n",
       "      <td>5</td>\n",
       "      <td>3</td>\n",
       "      <td>8</td>\n",
       "      <td>3</td>\n",
       "      <td>8.0</td>\n",
       "    </tr>\n",
       "    <tr>\n",
       "      <th>2</th>\n",
       "      <td>Добавить блоки рекомендаций товаров на сайт интернет магазина, чтобы повысить конверсию и средни...</td>\n",
       "      <td>8</td>\n",
       "      <td>3</td>\n",
       "      <td>7</td>\n",
       "      <td>3</td>\n",
       "      <td>7.0</td>\n",
       "    </tr>\n",
       "    <tr>\n",
       "      <th>1</th>\n",
       "      <td>Запустить собственную службу доставки, что сократит срок доставки заказов</td>\n",
       "      <td>2</td>\n",
       "      <td>5</td>\n",
       "      <td>4</td>\n",
       "      <td>10</td>\n",
       "      <td>2.0</td>\n",
       "    </tr>\n",
       "    <tr>\n",
       "      <th>5</th>\n",
       "      <td>Добавить страницу отзывов клиентов о магазине, что позволит увеличить количество заказов</td>\n",
       "      <td>3</td>\n",
       "      <td>2</td>\n",
       "      <td>2</td>\n",
       "      <td>3</td>\n",
       "      <td>1.3</td>\n",
       "    </tr>\n",
       "    <tr>\n",
       "      <th>3</th>\n",
       "      <td>Изменить структура категорий, что увеличит конверсию, т.к. пользователи быстрее найдут нужный товар</td>\n",
       "      <td>8</td>\n",
       "      <td>3</td>\n",
       "      <td>3</td>\n",
       "      <td>8</td>\n",
       "      <td>1.1</td>\n",
       "    </tr>\n",
       "    <tr>\n",
       "      <th>4</th>\n",
       "      <td>Изменить цвет фона главной страницы, чтобы увеличить вовлеченность пользователей</td>\n",
       "      <td>3</td>\n",
       "      <td>1</td>\n",
       "      <td>1</td>\n",
       "      <td>1</td>\n",
       "      <td>1.0</td>\n",
       "    </tr>\n",
       "  </tbody>\n",
       "</table>\n",
       "</div>"
      ],
      "text/plain": [
       "                                                                                            Hypothesis  \\\n",
       "8                                              Запустить акцию, дающую скидку на товар в день рождения   \n",
       "0   Добавить два новых канала привлечения трафика, что позволит привлекать на 30% больше пользователей   \n",
       "7     Добавить форму подписки на все основные страницы, чтобы собрать базу клиентов для email-рассылок   \n",
       "6  Показать на главной странице баннеры с актуальными акциями и распродажами, чтобы увеличить конве...   \n",
       "2  Добавить блоки рекомендаций товаров на сайт интернет магазина, чтобы повысить конверсию и средни...   \n",
       "1                            Запустить собственную службу доставки, что сократит срок доставки заказов   \n",
       "5             Добавить страницу отзывов клиентов о магазине, что позволит увеличить количество заказов   \n",
       "3  Изменить структура категорий, что увеличит конверсию, т.к. пользователи быстрее найдут нужный товар   \n",
       "4                     Изменить цвет фона главной страницы, чтобы увеличить вовлеченность пользователей   \n",
       "\n",
       "   Reach  Impact  Confidence  Efforts   ICE  \n",
       "8      1       9           9        5  16.2  \n",
       "0      3      10           8        6  13.3  \n",
       "7     10       7           8        5  11.2  \n",
       "6      5       3           8        3   8.0  \n",
       "2      8       3           7        3   7.0  \n",
       "1      2       5           4       10   2.0  \n",
       "5      3       2           2        3   1.3  \n",
       "3      8       3           3        8   1.1  \n",
       "4      3       1           1        1   1.0  "
      ]
     },
     "execution_count": 3,
     "metadata": {},
     "output_type": "execute_result"
    }
   ],
   "source": [
    "# добавим столбец ICE\n",
    "\n",
    "hypothesis['ICE'] = round(hypothesis['Impact'] * hypothesis['Confidence'] / hypothesis['Efforts'], 1)\n",
    "\n",
    "hypothesis.sort_values(by='ICE', ascending=False)"
   ]
  },
  {
   "cell_type": "markdown",
   "id": "0fe8050c",
   "metadata": {},
   "source": [
    "### Метод RICE <a class='anchor' id='chapter_1_2'></a>\n",
    "\n",
    "проанализируем гипотезы по методу RICE"
   ]
  },
  {
   "cell_type": "code",
   "execution_count": 4,
   "id": "8fc14c8d",
   "metadata": {},
   "outputs": [
    {
     "data": {
      "text/html": [
       "<div>\n",
       "<style scoped>\n",
       "    .dataframe tbody tr th:only-of-type {\n",
       "        vertical-align: middle;\n",
       "    }\n",
       "\n",
       "    .dataframe tbody tr th {\n",
       "        vertical-align: top;\n",
       "    }\n",
       "\n",
       "    .dataframe thead th {\n",
       "        text-align: right;\n",
       "    }\n",
       "</style>\n",
       "<table border=\"1\" class=\"dataframe\">\n",
       "  <thead>\n",
       "    <tr style=\"text-align: right;\">\n",
       "      <th></th>\n",
       "      <th>Hypothesis</th>\n",
       "      <th>Reach</th>\n",
       "      <th>Impact</th>\n",
       "      <th>Confidence</th>\n",
       "      <th>Efforts</th>\n",
       "      <th>ICE</th>\n",
       "      <th>RICE</th>\n",
       "    </tr>\n",
       "  </thead>\n",
       "  <tbody>\n",
       "    <tr>\n",
       "      <th>7</th>\n",
       "      <td>Добавить форму подписки на все основные страницы, чтобы собрать базу клиентов для email-рассылок</td>\n",
       "      <td>10</td>\n",
       "      <td>7</td>\n",
       "      <td>8</td>\n",
       "      <td>5</td>\n",
       "      <td>11.2</td>\n",
       "      <td>112.0</td>\n",
       "    </tr>\n",
       "    <tr>\n",
       "      <th>2</th>\n",
       "      <td>Добавить блоки рекомендаций товаров на сайт интернет магазина, чтобы повысить конверсию и средни...</td>\n",
       "      <td>8</td>\n",
       "      <td>3</td>\n",
       "      <td>7</td>\n",
       "      <td>3</td>\n",
       "      <td>7.0</td>\n",
       "      <td>56.0</td>\n",
       "    </tr>\n",
       "    <tr>\n",
       "      <th>0</th>\n",
       "      <td>Добавить два новых канала привлечения трафика, что позволит привлекать на 30% больше пользователей</td>\n",
       "      <td>3</td>\n",
       "      <td>10</td>\n",
       "      <td>8</td>\n",
       "      <td>6</td>\n",
       "      <td>13.3</td>\n",
       "      <td>40.0</td>\n",
       "    </tr>\n",
       "    <tr>\n",
       "      <th>6</th>\n",
       "      <td>Показать на главной странице баннеры с актуальными акциями и распродажами, чтобы увеличить конве...</td>\n",
       "      <td>5</td>\n",
       "      <td>3</td>\n",
       "      <td>8</td>\n",
       "      <td>3</td>\n",
       "      <td>8.0</td>\n",
       "      <td>40.0</td>\n",
       "    </tr>\n",
       "    <tr>\n",
       "      <th>8</th>\n",
       "      <td>Запустить акцию, дающую скидку на товар в день рождения</td>\n",
       "      <td>1</td>\n",
       "      <td>9</td>\n",
       "      <td>9</td>\n",
       "      <td>5</td>\n",
       "      <td>16.2</td>\n",
       "      <td>16.2</td>\n",
       "    </tr>\n",
       "    <tr>\n",
       "      <th>3</th>\n",
       "      <td>Изменить структура категорий, что увеличит конверсию, т.к. пользователи быстрее найдут нужный товар</td>\n",
       "      <td>8</td>\n",
       "      <td>3</td>\n",
       "      <td>3</td>\n",
       "      <td>8</td>\n",
       "      <td>1.1</td>\n",
       "      <td>9.0</td>\n",
       "    </tr>\n",
       "    <tr>\n",
       "      <th>1</th>\n",
       "      <td>Запустить собственную службу доставки, что сократит срок доставки заказов</td>\n",
       "      <td>2</td>\n",
       "      <td>5</td>\n",
       "      <td>4</td>\n",
       "      <td>10</td>\n",
       "      <td>2.0</td>\n",
       "      <td>4.0</td>\n",
       "    </tr>\n",
       "    <tr>\n",
       "      <th>5</th>\n",
       "      <td>Добавить страницу отзывов клиентов о магазине, что позволит увеличить количество заказов</td>\n",
       "      <td>3</td>\n",
       "      <td>2</td>\n",
       "      <td>2</td>\n",
       "      <td>3</td>\n",
       "      <td>1.3</td>\n",
       "      <td>4.0</td>\n",
       "    </tr>\n",
       "    <tr>\n",
       "      <th>4</th>\n",
       "      <td>Изменить цвет фона главной страницы, чтобы увеличить вовлеченность пользователей</td>\n",
       "      <td>3</td>\n",
       "      <td>1</td>\n",
       "      <td>1</td>\n",
       "      <td>1</td>\n",
       "      <td>1.0</td>\n",
       "      <td>3.0</td>\n",
       "    </tr>\n",
       "  </tbody>\n",
       "</table>\n",
       "</div>"
      ],
      "text/plain": [
       "                                                                                            Hypothesis  \\\n",
       "7     Добавить форму подписки на все основные страницы, чтобы собрать базу клиентов для email-рассылок   \n",
       "2  Добавить блоки рекомендаций товаров на сайт интернет магазина, чтобы повысить конверсию и средни...   \n",
       "0   Добавить два новых канала привлечения трафика, что позволит привлекать на 30% больше пользователей   \n",
       "6  Показать на главной странице баннеры с актуальными акциями и распродажами, чтобы увеличить конве...   \n",
       "8                                              Запустить акцию, дающую скидку на товар в день рождения   \n",
       "3  Изменить структура категорий, что увеличит конверсию, т.к. пользователи быстрее найдут нужный товар   \n",
       "1                            Запустить собственную службу доставки, что сократит срок доставки заказов   \n",
       "5             Добавить страницу отзывов клиентов о магазине, что позволит увеличить количество заказов   \n",
       "4                     Изменить цвет фона главной страницы, чтобы увеличить вовлеченность пользователей   \n",
       "\n",
       "   Reach  Impact  Confidence  Efforts   ICE   RICE  \n",
       "7     10       7           8        5  11.2  112.0  \n",
       "2      8       3           7        3   7.0   56.0  \n",
       "0      3      10           8        6  13.3   40.0  \n",
       "6      5       3           8        3   8.0   40.0  \n",
       "8      1       9           9        5  16.2   16.2  \n",
       "3      8       3           3        8   1.1    9.0  \n",
       "1      2       5           4       10   2.0    4.0  \n",
       "5      3       2           2        3   1.3    4.0  \n",
       "4      3       1           1        1   1.0    3.0  "
      ]
     },
     "execution_count": 4,
     "metadata": {},
     "output_type": "execute_result"
    }
   ],
   "source": [
    "# добавим столбец RICE\n",
    "\n",
    "hypothesis['RICE'] = round(hypothesis['Reach'] * hypothesis['Impact'] * hypothesis['Confidence'] / hypothesis['Efforts'], 1)\n",
    "\n",
    "hypothesis.sort_values(by='RICE', ascending=False)"
   ]
  },
  {
   "cell_type": "markdown",
   "id": "eaeb3d5d",
   "metadata": {},
   "source": [
    "## Выводы<a class='anchor' id='chapter_1_3'></a>\n",
    "\n",
    "- при расчете по фреймворку ICE в лидерах оказалась гипотеза о том что акция на день рождения пользователя будет наиболее интересной для реализации в виду того что она точно окажет влияние на пользователя и ему будет приятно получить скидку в день рождения, а также она имеет среднюю трудоемкость для реализации со стороны команды разработки, но эта гипотеза имеет очень маленький охват. Это связано с тем что день рождения у пользователя только раз в год, а значит и увидит он эту акцию в случае 1/365 дней.\n",
    "- при рассчете по фреймворку RICE наиболее приоритетной и интересной для проверки в А/В тесте оказалась гипотеза с созданием подписки на все основные страницы, что позволит собрать базу email клиетов и тут основным фактором поднявшим в спике гипотезу оказался охват(Reach), а также сопоставимая трудоемкось с первой гипотезой из фреймворка ICE\n",
    "- Принимаем что необходимо провести А/В тесты для гипотезы в которой необходимо добавить форму подписки на все основные страницы для сбора базы клиентов"
   ]
  },
  {
   "cell_type": "markdown",
   "id": "4b1cb4a7",
   "metadata": {},
   "source": [
    "## Часть 2. Анализ А/B теста <a class='anchor' id='chapter_2'></a>\n",
    "\n",
    "В этой части мы уже получили результаты теста и начинаем анализировать результаты А/B теста"
   ]
  },
  {
   "cell_type": "code",
   "execution_count": 5,
   "id": "394afdac",
   "metadata": {},
   "outputs": [
    {
     "data": {
      "text/html": [
       "<div>\n",
       "<style scoped>\n",
       "    .dataframe tbody tr th:only-of-type {\n",
       "        vertical-align: middle;\n",
       "    }\n",
       "\n",
       "    .dataframe tbody tr th {\n",
       "        vertical-align: top;\n",
       "    }\n",
       "\n",
       "    .dataframe thead th {\n",
       "        text-align: right;\n",
       "    }\n",
       "</style>\n",
       "<table border=\"1\" class=\"dataframe\">\n",
       "  <thead>\n",
       "    <tr style=\"text-align: right;\">\n",
       "      <th></th>\n",
       "      <th>transactionId</th>\n",
       "      <th>visitorId</th>\n",
       "      <th>date</th>\n",
       "      <th>revenue</th>\n",
       "      <th>group</th>\n",
       "    </tr>\n",
       "  </thead>\n",
       "  <tbody>\n",
       "    <tr>\n",
       "      <th>0</th>\n",
       "      <td>3667963787</td>\n",
       "      <td>3312258926</td>\n",
       "      <td>2019-08-15</td>\n",
       "      <td>1650</td>\n",
       "      <td>B</td>\n",
       "    </tr>\n",
       "    <tr>\n",
       "      <th>1</th>\n",
       "      <td>2804400009</td>\n",
       "      <td>3642806036</td>\n",
       "      <td>2019-08-15</td>\n",
       "      <td>730</td>\n",
       "      <td>B</td>\n",
       "    </tr>\n",
       "    <tr>\n",
       "      <th>2</th>\n",
       "      <td>2961555356</td>\n",
       "      <td>4069496402</td>\n",
       "      <td>2019-08-15</td>\n",
       "      <td>400</td>\n",
       "      <td>A</td>\n",
       "    </tr>\n",
       "    <tr>\n",
       "      <th>3</th>\n",
       "      <td>3797467345</td>\n",
       "      <td>1196621759</td>\n",
       "      <td>2019-08-15</td>\n",
       "      <td>9759</td>\n",
       "      <td>B</td>\n",
       "    </tr>\n",
       "    <tr>\n",
       "      <th>4</th>\n",
       "      <td>2282983706</td>\n",
       "      <td>2322279887</td>\n",
       "      <td>2019-08-15</td>\n",
       "      <td>2308</td>\n",
       "      <td>B</td>\n",
       "    </tr>\n",
       "  </tbody>\n",
       "</table>\n",
       "</div>"
      ],
      "text/plain": [
       "   transactionId   visitorId        date  revenue group\n",
       "0     3667963787  3312258926  2019-08-15     1650     B\n",
       "1     2804400009  3642806036  2019-08-15      730     B\n",
       "2     2961555356  4069496402  2019-08-15      400     A\n",
       "3     3797467345  1196621759  2019-08-15     9759     B\n",
       "4     2282983706  2322279887  2019-08-15     2308     B"
      ]
     },
     "metadata": {},
     "output_type": "display_data"
    },
    {
     "data": {
      "text/html": [
       "<div>\n",
       "<style scoped>\n",
       "    .dataframe tbody tr th:only-of-type {\n",
       "        vertical-align: middle;\n",
       "    }\n",
       "\n",
       "    .dataframe tbody tr th {\n",
       "        vertical-align: top;\n",
       "    }\n",
       "\n",
       "    .dataframe thead th {\n",
       "        text-align: right;\n",
       "    }\n",
       "</style>\n",
       "<table border=\"1\" class=\"dataframe\">\n",
       "  <thead>\n",
       "    <tr style=\"text-align: right;\">\n",
       "      <th></th>\n",
       "      <th>date</th>\n",
       "      <th>group</th>\n",
       "      <th>visitors</th>\n",
       "    </tr>\n",
       "  </thead>\n",
       "  <tbody>\n",
       "    <tr>\n",
       "      <th>0</th>\n",
       "      <td>2019-08-01</td>\n",
       "      <td>A</td>\n",
       "      <td>719</td>\n",
       "    </tr>\n",
       "    <tr>\n",
       "      <th>1</th>\n",
       "      <td>2019-08-02</td>\n",
       "      <td>A</td>\n",
       "      <td>619</td>\n",
       "    </tr>\n",
       "    <tr>\n",
       "      <th>2</th>\n",
       "      <td>2019-08-03</td>\n",
       "      <td>A</td>\n",
       "      <td>507</td>\n",
       "    </tr>\n",
       "    <tr>\n",
       "      <th>3</th>\n",
       "      <td>2019-08-04</td>\n",
       "      <td>A</td>\n",
       "      <td>717</td>\n",
       "    </tr>\n",
       "    <tr>\n",
       "      <th>4</th>\n",
       "      <td>2019-08-05</td>\n",
       "      <td>A</td>\n",
       "      <td>756</td>\n",
       "    </tr>\n",
       "  </tbody>\n",
       "</table>\n",
       "</div>"
      ],
      "text/plain": [
       "         date group  visitors\n",
       "0  2019-08-01     A       719\n",
       "1  2019-08-02     A       619\n",
       "2  2019-08-03     A       507\n",
       "3  2019-08-04     A       717\n",
       "4  2019-08-05     A       756"
      ]
     },
     "metadata": {},
     "output_type": "display_data"
    },
    {
     "name": "stdout",
     "output_type": "stream",
     "text": [
      "<class 'pandas.core.frame.DataFrame'>\n",
      "RangeIndex: 1197 entries, 0 to 1196\n",
      "Data columns (total 5 columns):\n",
      " #   Column         Non-Null Count  Dtype \n",
      "---  ------         --------------  ----- \n",
      " 0   transactionId  1197 non-null   int64 \n",
      " 1   visitorId      1197 non-null   int64 \n",
      " 2   date           1197 non-null   object\n",
      " 3   revenue        1197 non-null   int64 \n",
      " 4   group          1197 non-null   object\n",
      "dtypes: int64(3), object(2)\n",
      "memory usage: 46.9+ KB\n"
     ]
    },
    {
     "data": {
      "text/plain": [
       "None"
      ]
     },
     "metadata": {},
     "output_type": "display_data"
    },
    {
     "name": "stdout",
     "output_type": "stream",
     "text": [
      "<class 'pandas.core.frame.DataFrame'>\n",
      "RangeIndex: 62 entries, 0 to 61\n",
      "Data columns (total 3 columns):\n",
      " #   Column    Non-Null Count  Dtype \n",
      "---  ------    --------------  ----- \n",
      " 0   date      62 non-null     object\n",
      " 1   group     62 non-null     object\n",
      " 2   visitors  62 non-null     int64 \n",
      "dtypes: int64(1), object(2)\n",
      "memory usage: 1.6+ KB\n"
     ]
    },
    {
     "data": {
      "text/plain": [
       "None"
      ]
     },
     "metadata": {},
     "output_type": "display_data"
    }
   ],
   "source": [
    "# прочитаем исходные данные и посмотрим что в них содержится\n",
    "\n",
    "try:\n",
    "    orders = pd.read_csv('/Users/abc/Documents/Courses/yandex/projects/7/orders.csv')\n",
    "except:\n",
    "    orders = pd.read_csv('/datasets/orders.csv')\n",
    "    \n",
    "try:\n",
    "    visitors = pd.read_csv('/Users/abc/Documents/Courses/yandex/projects/7/visitors.csv')\n",
    "except:\n",
    "    visitors = pd.read_csv('/datasets/visitors.csv')\n",
    "    \n",
    "    \n",
    "display(orders.head(5))\n",
    "display(visitors.head(5))\n",
    "display(orders.info())\n",
    "display(visitors.info())"
   ]
  },
  {
   "cell_type": "markdown",
   "id": "843a4860",
   "metadata": {},
   "source": [
    "__summary исходных данных__\n",
    "\n",
    "Файл с заказами orders:\n",
    "- transactionId — идентификатор заказа;\n",
    "- visitorId — идентификатор пользователя, совершившего заказ;\n",
    "- date — дата, когда был совершён заказ;\n",
    "- revenue — выручка заказа;\n",
    "- group — группа A/B-теста, в которую попал заказ.\n",
    "\n",
    "Файл с информацией о посетителях:\n",
    "- date — дата;\n",
    "- group — группа A/B-теста;\n",
    "- visitors — количество пользователей в указанную дату в указанной группе A/B-теста"
   ]
  },
  {
   "cell_type": "code",
   "execution_count": 6,
   "id": "aead2fcc",
   "metadata": {},
   "outputs": [
    {
     "name": "stdout",
     "output_type": "stream",
     "text": [
      "<class 'pandas.core.frame.DataFrame'>\n",
      "RangeIndex: 1197 entries, 0 to 1196\n",
      "Data columns (total 5 columns):\n",
      " #   Column         Non-Null Count  Dtype         \n",
      "---  ------         --------------  -----         \n",
      " 0   transactionId  1197 non-null   int64         \n",
      " 1   visitorId      1197 non-null   int64         \n",
      " 2   date           1197 non-null   datetime64[ns]\n",
      " 3   revenue        1197 non-null   int64         \n",
      " 4   group          1197 non-null   object        \n",
      "dtypes: datetime64[ns](1), int64(3), object(1)\n",
      "memory usage: 46.9+ KB\n"
     ]
    },
    {
     "data": {
      "text/plain": [
       "None"
      ]
     },
     "metadata": {},
     "output_type": "display_data"
    },
    {
     "name": "stdout",
     "output_type": "stream",
     "text": [
      "<class 'pandas.core.frame.DataFrame'>\n",
      "RangeIndex: 62 entries, 0 to 61\n",
      "Data columns (total 3 columns):\n",
      " #   Column    Non-Null Count  Dtype         \n",
      "---  ------    --------------  -----         \n",
      " 0   date      62 non-null     datetime64[ns]\n",
      " 1   group     62 non-null     object        \n",
      " 2   visitors  62 non-null     int64         \n",
      "dtypes: datetime64[ns](1), int64(1), object(1)\n",
      "memory usage: 1.6+ KB\n"
     ]
    },
    {
     "data": {
      "text/plain": [
       "None"
      ]
     },
     "metadata": {},
     "output_type": "display_data"
    }
   ],
   "source": [
    "# изменим тип данных у дат чтобы можно было дальше с ними работать\n",
    "\n",
    "visitors['date'] = visitors['date'].map(lambda x: dt.datetime.strptime(x, '%Y-%m-%d'))\n",
    "\n",
    "orders['date'] = orders['date'].map(lambda x: dt.datetime.strptime(x, '%Y-%m-%d'))\n",
    "\n",
    "display(orders.info())\n",
    "display(visitors.info())"
   ]
  },
  {
   "cell_type": "code",
   "execution_count": 7,
   "id": "9e7a82a1",
   "metadata": {},
   "outputs": [
    {
     "data": {
      "text/plain": [
       "B    640\n",
       "A    557\n",
       "Name: group, dtype: int64"
      ]
     },
     "metadata": {},
     "output_type": "display_data"
    },
    {
     "data": {
      "text/plain": [
       "A    31\n",
       "B    31\n",
       "Name: group, dtype: int64"
      ]
     },
     "metadata": {},
     "output_type": "display_data"
    }
   ],
   "source": [
    "# дополнительно проверим данные на количество групп\n",
    "\n",
    "display(orders['group'].value_counts())\n",
    "\n",
    "display(visitors['group'].value_counts())"
   ]
  },
  {
   "cell_type": "code",
   "execution_count": 40,
   "id": "810a536f",
   "metadata": {},
   "outputs": [
    {
     "data": {
      "text/plain": [
       "'Самая ранняя дата заказа: 2019-08-31 00:00:00, Самая поздняя дата заказа: 2019-08-01 00:00:00'"
      ]
     },
     "metadata": {},
     "output_type": "display_data"
    },
    {
     "data": {
      "text/plain": [
       "'Самая ранняя дата захода в приложение: 2019-08-01 00:00:00, Самая поздняя дата захода в приложение 2019-08-31 00:00:00'"
      ]
     },
     "metadata": {},
     "output_type": "display_data"
    }
   ],
   "source": [
    "# определим даты начала и окончания теста\n",
    "\n",
    "display(f'Самая ранняя дата заказа: {orders[\"date\"].max()}, Самая поздняя дата заказа: {orders[\"date\"].min()}')\n",
    "\n",
    "display(f'Самая ранняя дата захода в приложение: {visitors[\"date\"].min()}, Самая поздняя дата захода в приложение {visitors[\"date\"].max()}')"
   ]
  },
  {
   "cell_type": "code",
   "execution_count": 9,
   "id": "d44fdfbd",
   "metadata": {},
   "outputs": [
    {
     "data": {
      "text/plain": [
       "0"
      ]
     },
     "metadata": {},
     "output_type": "display_data"
    },
    {
     "data": {
      "text/plain": [
       "0"
      ]
     },
     "metadata": {},
     "output_type": "display_data"
    }
   ],
   "source": [
    "# проверим на дубликаты исходные данные\n",
    "\n",
    "display(orders.duplicated().sum())\n",
    "display(visitors.duplicated().sum())"
   ]
  },
  {
   "cell_type": "markdown",
   "id": "fb26ac87",
   "metadata": {},
   "source": [
    "## вывод:\n",
    "\n",
    "- всего в исходных данных 2 группы А и В\n",
    "- Дата начала теста 2019-08-01, а дата окончания теста 2019-08-31\n",
    "- дубликаты в исходных данных отсутствуют"
   ]
  },
  {
   "cell_type": "markdown",
   "id": "645d2ac6",
   "metadata": {},
   "source": [
    "## Куммулятивный график по выручке<a class='anchor' id='chapter_2_1'></a>\n",
    "\n",
    "построим куммулятивный график по выручке"
   ]
  },
  {
   "cell_type": "code",
   "execution_count": 42,
   "id": "94c1898a",
   "metadata": {},
   "outputs": [
    {
     "data": {
      "text/html": [
       "<div>\n",
       "<style scoped>\n",
       "    .dataframe tbody tr th:only-of-type {\n",
       "        vertical-align: middle;\n",
       "    }\n",
       "\n",
       "    .dataframe tbody tr th {\n",
       "        vertical-align: top;\n",
       "    }\n",
       "\n",
       "    .dataframe thead th {\n",
       "        text-align: right;\n",
       "    }\n",
       "</style>\n",
       "<table border=\"1\" class=\"dataframe\">\n",
       "  <thead>\n",
       "    <tr style=\"text-align: right;\">\n",
       "      <th></th>\n",
       "      <th>date</th>\n",
       "      <th>group</th>\n",
       "    </tr>\n",
       "  </thead>\n",
       "  <tbody>\n",
       "    <tr>\n",
       "      <th>55</th>\n",
       "      <td>2019-08-01</td>\n",
       "      <td>A</td>\n",
       "    </tr>\n",
       "    <tr>\n",
       "      <th>66</th>\n",
       "      <td>2019-08-01</td>\n",
       "      <td>B</td>\n",
       "    </tr>\n",
       "    <tr>\n",
       "      <th>175</th>\n",
       "      <td>2019-08-02</td>\n",
       "      <td>A</td>\n",
       "    </tr>\n",
       "    <tr>\n",
       "      <th>173</th>\n",
       "      <td>2019-08-02</td>\n",
       "      <td>B</td>\n",
       "    </tr>\n",
       "    <tr>\n",
       "      <th>291</th>\n",
       "      <td>2019-08-03</td>\n",
       "      <td>A</td>\n",
       "    </tr>\n",
       "  </tbody>\n",
       "</table>\n",
       "</div>"
      ],
      "text/plain": [
       "          date group\n",
       "55  2019-08-01     A\n",
       "66  2019-08-01     B\n",
       "175 2019-08-02     A\n",
       "173 2019-08-02     B\n",
       "291 2019-08-03     A"
      ]
     },
     "execution_count": 42,
     "metadata": {},
     "output_type": "execute_result"
    }
   ],
   "source": [
    "# создадим уникальный массив пар групп и дат тестов\n",
    "\n",
    "dates_group = orders[['date', 'group']].drop_duplicates().sort_values(by='date')\n",
    "\n",
    "dates_group.head()"
   ]
  },
  {
   "cell_type": "code",
   "execution_count": 44,
   "id": "5246f6be",
   "metadata": {},
   "outputs": [
    {
     "data": {
      "text/html": [
       "<div>\n",
       "<style scoped>\n",
       "    .dataframe tbody tr th:only-of-type {\n",
       "        vertical-align: middle;\n",
       "    }\n",
       "\n",
       "    .dataframe tbody tr th {\n",
       "        vertical-align: top;\n",
       "    }\n",
       "\n",
       "    .dataframe thead th {\n",
       "        text-align: right;\n",
       "    }\n",
       "</style>\n",
       "<table border=\"1\" class=\"dataframe\">\n",
       "  <thead>\n",
       "    <tr style=\"text-align: right;\">\n",
       "      <th></th>\n",
       "      <th>date</th>\n",
       "      <th>group</th>\n",
       "      <th>transactionId</th>\n",
       "      <th>visitorId</th>\n",
       "      <th>revenue</th>\n",
       "    </tr>\n",
       "  </thead>\n",
       "  <tbody>\n",
       "    <tr>\n",
       "      <th>55</th>\n",
       "      <td>2019-08-01</td>\n",
       "      <td>A</td>\n",
       "      <td>24</td>\n",
       "      <td>20</td>\n",
       "      <td>148579</td>\n",
       "    </tr>\n",
       "    <tr>\n",
       "      <th>66</th>\n",
       "      <td>2019-08-01</td>\n",
       "      <td>B</td>\n",
       "      <td>21</td>\n",
       "      <td>20</td>\n",
       "      <td>101217</td>\n",
       "    </tr>\n",
       "    <tr>\n",
       "      <th>175</th>\n",
       "      <td>2019-08-02</td>\n",
       "      <td>A</td>\n",
       "      <td>44</td>\n",
       "      <td>38</td>\n",
       "      <td>242401</td>\n",
       "    </tr>\n",
       "    <tr>\n",
       "      <th>173</th>\n",
       "      <td>2019-08-02</td>\n",
       "      <td>B</td>\n",
       "      <td>45</td>\n",
       "      <td>43</td>\n",
       "      <td>266748</td>\n",
       "    </tr>\n",
       "    <tr>\n",
       "      <th>291</th>\n",
       "      <td>2019-08-03</td>\n",
       "      <td>A</td>\n",
       "      <td>68</td>\n",
       "      <td>62</td>\n",
       "      <td>354874</td>\n",
       "    </tr>\n",
       "    <tr>\n",
       "      <th>310</th>\n",
       "      <td>2019-08-03</td>\n",
       "      <td>B</td>\n",
       "      <td>61</td>\n",
       "      <td>59</td>\n",
       "      <td>380996</td>\n",
       "    </tr>\n",
       "    <tr>\n",
       "      <th>499</th>\n",
       "      <td>2019-08-04</td>\n",
       "      <td>A</td>\n",
       "      <td>84</td>\n",
       "      <td>77</td>\n",
       "      <td>425699</td>\n",
       "    </tr>\n",
       "    <tr>\n",
       "      <th>498</th>\n",
       "      <td>2019-08-04</td>\n",
       "      <td>B</td>\n",
       "      <td>78</td>\n",
       "      <td>75</td>\n",
       "      <td>489567</td>\n",
       "    </tr>\n",
       "    <tr>\n",
       "      <th>698</th>\n",
       "      <td>2019-08-05</td>\n",
       "      <td>A</td>\n",
       "      <td>109</td>\n",
       "      <td>100</td>\n",
       "      <td>549917</td>\n",
       "    </tr>\n",
       "    <tr>\n",
       "      <th>699</th>\n",
       "      <td>2019-08-05</td>\n",
       "      <td>B</td>\n",
       "      <td>101</td>\n",
       "      <td>98</td>\n",
       "      <td>581995</td>\n",
       "    </tr>\n",
       "  </tbody>\n",
       "</table>\n",
       "</div>"
      ],
      "text/plain": [
       "          date group  transactionId  visitorId  revenue\n",
       "55  2019-08-01     A             24         20   148579\n",
       "66  2019-08-01     B             21         20   101217\n",
       "175 2019-08-02     A             44         38   242401\n",
       "173 2019-08-02     B             45         43   266748\n",
       "291 2019-08-03     A             68         62   354874\n",
       "310 2019-08-03     B             61         59   380996\n",
       "499 2019-08-04     A             84         77   425699\n",
       "498 2019-08-04     B             78         75   489567\n",
       "698 2019-08-05     A            109        100   549917\n",
       "699 2019-08-05     B            101         98   581995"
      ]
     },
     "execution_count": 44,
     "metadata": {},
     "output_type": "execute_result"
    }
   ],
   "source": [
    "# соберем куммулятивные данные о заказах, для этого сгруппируем данные о заказах с накоплением по дням \n",
    "\n",
    "orders_aggregated = (dates_group.apply(lambda x: \n",
    "                                      orders[np.logical_and(orders['date'] <= x['date'],\n",
    "                                                            orders['group'] == x['group'])]\n",
    "                                .agg({'date':'max',\n",
    "                                      'group':'max',\n",
    "                                      'transactionId':'nunique',\n",
    "                                      'visitorId':'nunique',\n",
    "                                      'revenue':'sum'}),\n",
    "                                      axis = 1)\n",
    "                                .sort_values(by=['date', 'group'])\n",
    "                    )\n",
    "\n",
    "orders_aggregated.head(10)"
   ]
  },
  {
   "cell_type": "code",
   "execution_count": 45,
   "id": "02fbb9a5",
   "metadata": {},
   "outputs": [
    {
     "data": {
      "text/html": [
       "<div>\n",
       "<style scoped>\n",
       "    .dataframe tbody tr th:only-of-type {\n",
       "        vertical-align: middle;\n",
       "    }\n",
       "\n",
       "    .dataframe tbody tr th {\n",
       "        vertical-align: top;\n",
       "    }\n",
       "\n",
       "    .dataframe thead th {\n",
       "        text-align: right;\n",
       "    }\n",
       "</style>\n",
       "<table border=\"1\" class=\"dataframe\">\n",
       "  <thead>\n",
       "    <tr style=\"text-align: right;\">\n",
       "      <th></th>\n",
       "      <th>date</th>\n",
       "      <th>group</th>\n",
       "      <th>visitors</th>\n",
       "    </tr>\n",
       "  </thead>\n",
       "  <tbody>\n",
       "    <tr>\n",
       "      <th>55</th>\n",
       "      <td>2019-08-01</td>\n",
       "      <td>A</td>\n",
       "      <td>719</td>\n",
       "    </tr>\n",
       "    <tr>\n",
       "      <th>66</th>\n",
       "      <td>2019-08-01</td>\n",
       "      <td>B</td>\n",
       "      <td>713</td>\n",
       "    </tr>\n",
       "    <tr>\n",
       "      <th>175</th>\n",
       "      <td>2019-08-02</td>\n",
       "      <td>A</td>\n",
       "      <td>1338</td>\n",
       "    </tr>\n",
       "    <tr>\n",
       "      <th>173</th>\n",
       "      <td>2019-08-02</td>\n",
       "      <td>B</td>\n",
       "      <td>1294</td>\n",
       "    </tr>\n",
       "    <tr>\n",
       "      <th>291</th>\n",
       "      <td>2019-08-03</td>\n",
       "      <td>A</td>\n",
       "      <td>1845</td>\n",
       "    </tr>\n",
       "    <tr>\n",
       "      <th>310</th>\n",
       "      <td>2019-08-03</td>\n",
       "      <td>B</td>\n",
       "      <td>1803</td>\n",
       "    </tr>\n",
       "    <tr>\n",
       "      <th>499</th>\n",
       "      <td>2019-08-04</td>\n",
       "      <td>A</td>\n",
       "      <td>2562</td>\n",
       "    </tr>\n",
       "    <tr>\n",
       "      <th>498</th>\n",
       "      <td>2019-08-04</td>\n",
       "      <td>B</td>\n",
       "      <td>2573</td>\n",
       "    </tr>\n",
       "    <tr>\n",
       "      <th>698</th>\n",
       "      <td>2019-08-05</td>\n",
       "      <td>A</td>\n",
       "      <td>3318</td>\n",
       "    </tr>\n",
       "    <tr>\n",
       "      <th>699</th>\n",
       "      <td>2019-08-05</td>\n",
       "      <td>B</td>\n",
       "      <td>3280</td>\n",
       "    </tr>\n",
       "  </tbody>\n",
       "</table>\n",
       "</div>"
      ],
      "text/plain": [
       "          date group  visitors\n",
       "55  2019-08-01     A       719\n",
       "66  2019-08-01     B       713\n",
       "175 2019-08-02     A      1338\n",
       "173 2019-08-02     B      1294\n",
       "291 2019-08-03     A      1845\n",
       "310 2019-08-03     B      1803\n",
       "499 2019-08-04     A      2562\n",
       "498 2019-08-04     B      2573\n",
       "698 2019-08-05     A      3318\n",
       "699 2019-08-05     B      3280"
      ]
     },
     "execution_count": 45,
     "metadata": {},
     "output_type": "execute_result"
    }
   ],
   "source": [
    "# посчитаем агрегированные данные по дням по посетителям\n",
    "\n",
    "visitors_aggregated = (dates_group.apply(lambda x:\n",
    "                                        visitors[np.logical_and(visitors['date'] <= x['date'],\n",
    "                                                                visitors['group'] == x['group'])]\n",
    "                                        .agg({'date':'max',\n",
    "                                              'group':'max',\n",
    "                                              'visitors':'sum'}),\n",
    "                                        axis = 1)\n",
    "                                  .sort_values(by=['date', 'group'])\n",
    "                      )\n",
    "\n",
    "visitors_aggregated.head(10)"
   ]
  },
  {
   "cell_type": "code",
   "execution_count": 47,
   "id": "b639ba55",
   "metadata": {},
   "outputs": [
    {
     "data": {
      "text/html": [
       "<div>\n",
       "<style scoped>\n",
       "    .dataframe tbody tr th:only-of-type {\n",
       "        vertical-align: middle;\n",
       "    }\n",
       "\n",
       "    .dataframe tbody tr th {\n",
       "        vertical-align: top;\n",
       "    }\n",
       "\n",
       "    .dataframe thead th {\n",
       "        text-align: right;\n",
       "    }\n",
       "</style>\n",
       "<table border=\"1\" class=\"dataframe\">\n",
       "  <thead>\n",
       "    <tr style=\"text-align: right;\">\n",
       "      <th></th>\n",
       "      <th>date</th>\n",
       "      <th>group</th>\n",
       "      <th>transactionId</th>\n",
       "      <th>visitorId</th>\n",
       "      <th>revenue</th>\n",
       "      <th>visitors</th>\n",
       "    </tr>\n",
       "  </thead>\n",
       "  <tbody>\n",
       "    <tr>\n",
       "      <th>0</th>\n",
       "      <td>2019-08-01</td>\n",
       "      <td>A</td>\n",
       "      <td>24</td>\n",
       "      <td>20</td>\n",
       "      <td>148579</td>\n",
       "      <td>719</td>\n",
       "    </tr>\n",
       "    <tr>\n",
       "      <th>1</th>\n",
       "      <td>2019-08-01</td>\n",
       "      <td>B</td>\n",
       "      <td>21</td>\n",
       "      <td>20</td>\n",
       "      <td>101217</td>\n",
       "      <td>713</td>\n",
       "    </tr>\n",
       "    <tr>\n",
       "      <th>2</th>\n",
       "      <td>2019-08-02</td>\n",
       "      <td>A</td>\n",
       "      <td>44</td>\n",
       "      <td>38</td>\n",
       "      <td>242401</td>\n",
       "      <td>1338</td>\n",
       "    </tr>\n",
       "    <tr>\n",
       "      <th>3</th>\n",
       "      <td>2019-08-02</td>\n",
       "      <td>B</td>\n",
       "      <td>45</td>\n",
       "      <td>43</td>\n",
       "      <td>266748</td>\n",
       "      <td>1294</td>\n",
       "    </tr>\n",
       "    <tr>\n",
       "      <th>4</th>\n",
       "      <td>2019-08-03</td>\n",
       "      <td>A</td>\n",
       "      <td>68</td>\n",
       "      <td>62</td>\n",
       "      <td>354874</td>\n",
       "      <td>1845</td>\n",
       "    </tr>\n",
       "    <tr>\n",
       "      <th>5</th>\n",
       "      <td>2019-08-03</td>\n",
       "      <td>B</td>\n",
       "      <td>61</td>\n",
       "      <td>59</td>\n",
       "      <td>380996</td>\n",
       "      <td>1803</td>\n",
       "    </tr>\n",
       "    <tr>\n",
       "      <th>6</th>\n",
       "      <td>2019-08-04</td>\n",
       "      <td>A</td>\n",
       "      <td>84</td>\n",
       "      <td>77</td>\n",
       "      <td>425699</td>\n",
       "      <td>2562</td>\n",
       "    </tr>\n",
       "    <tr>\n",
       "      <th>7</th>\n",
       "      <td>2019-08-04</td>\n",
       "      <td>B</td>\n",
       "      <td>78</td>\n",
       "      <td>75</td>\n",
       "      <td>489567</td>\n",
       "      <td>2573</td>\n",
       "    </tr>\n",
       "    <tr>\n",
       "      <th>8</th>\n",
       "      <td>2019-08-05</td>\n",
       "      <td>A</td>\n",
       "      <td>109</td>\n",
       "      <td>100</td>\n",
       "      <td>549917</td>\n",
       "      <td>3318</td>\n",
       "    </tr>\n",
       "    <tr>\n",
       "      <th>9</th>\n",
       "      <td>2019-08-05</td>\n",
       "      <td>B</td>\n",
       "      <td>101</td>\n",
       "      <td>98</td>\n",
       "      <td>581995</td>\n",
       "      <td>3280</td>\n",
       "    </tr>\n",
       "  </tbody>\n",
       "</table>\n",
       "</div>"
      ],
      "text/plain": [
       "        date group  transactionId  visitorId  revenue  visitors\n",
       "0 2019-08-01     A             24         20   148579       719\n",
       "1 2019-08-01     B             21         20   101217       713\n",
       "2 2019-08-02     A             44         38   242401      1338\n",
       "3 2019-08-02     B             45         43   266748      1294\n",
       "4 2019-08-03     A             68         62   354874      1845\n",
       "5 2019-08-03     B             61         59   380996      1803\n",
       "6 2019-08-04     A             84         77   425699      2562\n",
       "7 2019-08-04     B             78         75   489567      2573\n",
       "8 2019-08-05     A            109        100   549917      3318\n",
       "9 2019-08-05     B            101         98   581995      3280"
      ]
     },
     "execution_count": 47,
     "metadata": {},
     "output_type": "execute_result"
    }
   ],
   "source": [
    "# объединим полученных два массива черех метод merge\n",
    "\n",
    "cumulative_data = orders_aggregated.merge(visitors_aggregated,\n",
    "                                          how = 'left',\n",
    "                                          left_on = ['date', 'group'],\n",
    "                                          right_on = ['date', 'group'])\n",
    "\n",
    "cumulative_data.head(10)"
   ]
  },
  {
   "cell_type": "code",
   "execution_count": 50,
   "id": "70508c52",
   "metadata": {},
   "outputs": [],
   "source": [
    "# переименуем столбцы в получившемся датафрейме\n",
    "\n",
    "cumulative_data.columns = ['date', 'group', 'orders', 'buyers', 'revenue', 'visitors']"
   ]
  },
  {
   "cell_type": "code",
   "execution_count": 51,
   "id": "6e9a4cbb",
   "metadata": {
    "scrolled": true
   },
   "outputs": [
    {
     "data": {
      "image/png": "[encoded data removed]",
      "text/plain": [
       "<Figure size 720x360 with 1 Axes>"
      ]
     },
     "metadata": {
      "needs_background": "light"
     },
     "output_type": "display_data"
    }
   ],
   "source": [
    "# построим графики кумулятивной выручки по каждой группе\n",
    "# но предварительно разделим на два отдельных датафрема по группам\n",
    "\n",
    "import matplotlib.pyplot as plt\n",
    "\n",
    "cumulative_data_a = cumulative_data[cumulative_data['group'] == 'A'][['date', 'revenue', 'orders']]\n",
    "\n",
    "cumulative_data_b = cumulative_data[cumulative_data['group'] == 'B'][['date', 'revenue', 'orders']]\n",
    "\n",
    "plt.figure(figsize = (10, 5))\n",
    "plt.plot(cumulative_data_a['date'], cumulative_data_a['revenue'], label = 'A')\n",
    "plt.plot(cumulative_data_b['date'], cumulative_data_b['revenue'], label = 'B')\n",
    "plt.xlabel('даты А/В теста')\n",
    "plt.ylabel('куммулятивная выручка')\n",
    "plt.title('График изменения куммулятивной выручки по гуппам')\n",
    "plt.show()"
   ]
  },
  {
   "cell_type": "markdown",
   "id": "75560db9",
   "metadata": {},
   "source": [
    "## вывод:\n",
    "\n",
    "- В группе В с 18 числа сильно выросла средняя выручка, возможно в этот момент был всплеск числа заказов или в эту дату были совершены большие покупки\n",
    "- В группе А выручка растет равномерно и всплесков не наблюдается на протяжении всего периода"
   ]
  },
  {
   "cell_type": "markdown",
   "id": "0a852c90",
   "metadata": {},
   "source": [
    "### Куммулятивный график среднего чека по группам<a class='anchor' id='chapter_2_2'></a>"
   ]
  },
  {
   "cell_type": "code",
   "execution_count": 52,
   "id": "42f0630b",
   "metadata": {},
   "outputs": [
    {
     "data": {
      "image/png": "[encoded data removed]",
      "text/plain": [
       "<Figure size 720x360 with 1 Axes>"
      ]
     },
     "metadata": {
      "needs_background": "light"
     },
     "output_type": "display_data"
    }
   ],
   "source": [
    "# для расчета среднего чека воспользуемся данными из предыдущего пункта\n",
    "# добавим в датафреймы столбцы со значениями среднего чека\n",
    "\n",
    "plt.figure(figsize = (10, 5))\n",
    "plt.plot(cumulative_data_a['date'], cumulative_data_a['revenue'] / cumulative_data_a['orders'], label = 'A')\n",
    "plt.plot(cumulative_data_b['date'], cumulative_data_b['revenue'] / cumulative_data_b['orders'], label = 'B')\n",
    "plt.legend()\n",
    "plt.xlabel('даты А/В теста')\n",
    "plt.ylabel('куммулятивный средний чек')\n",
    "plt.title('График изменения куммулятивного среднего чека по группам')\n",
    "plt.show()"
   ]
  },
  {
   "cell_type": "markdown",
   "id": "f72e05f6",
   "metadata": {},
   "source": [
    "## вывод:\n",
    "\n",
    "- В группе В с 18 числа также видно что вырос средний чек с 18 числа, видимо в это время были совершены крупные покупки\n",
    "- В группе А средний чек сначала рос потом падал и после 13 числа начал стабилизироваться, возможно это из-за того что сначала были крупные покупки , потом покупки были на небольшую сумму, а затем снова начал разсти размер чека за счет размера покупки"
   ]
  },
  {
   "cell_type": "markdown",
   "id": "a8a78353",
   "metadata": {},
   "source": [
    "## График относительного изменения кумулятивного среднего чека группы B к группе A<a class='anchor' id='chapter_2_3'></a>"
   ]
  },
  {
   "cell_type": "code",
   "execution_count": 54,
   "id": "2b608ca6",
   "metadata": {},
   "outputs": [
    {
     "data": {
      "image/png": "[encoded data removed]",
      "text/plain": [
       "<Figure size 720x360 with 1 Axes>"
      ]
     },
     "metadata": {
      "needs_background": "light"
     },
     "output_type": "display_data"
    }
   ],
   "source": [
    "# построим график относительного измененеия кумулятивного среднего чека группы В к группе А\n",
    "\n",
    "# для этого объединим ранее полуенные данные по двум группам в один датафрейм\n",
    "\n",
    "merged_сumulative_revenue = cumulative_data_a.merge(cumulative_data_b,\n",
    "                                                    how = 'left',\n",
    "                                                    on = 'date',\n",
    "                                                    suffixes = ['A', 'B'])\n",
    "\n",
    "plt.figure(figsize = (10, 5))\n",
    "plt.plot(merged_сumulative_revenue['date'],\n",
    "         ((merged_сumulative_revenue['revenueB'] / merged_сumulative_revenue['ordersB']) /\n",
    "          (merged_сumulative_revenue['revenueA'] / merged_сumulative_revenue['ordersA']))-1,\n",
    "         label = 'B/A')\n",
    "plt.axhline(y = 0,\n",
    "            linestyle = '--',\n",
    "            linewidth = 4,\n",
    "            color = 'pink')\n",
    "plt.xlabel('даты А/В теста')\n",
    "plt.ylabel('куммулятивный средний чек')\n",
    "plt.title('График изменения куммулятивного среднего чека группы В к группе А')\n",
    "plt.show()"
   ]
  },
  {
   "cell_type": "markdown",
   "id": "27843189",
   "metadata": {},
   "source": [
    "## вывод:\n",
    "\n",
    "- сначала средний чек группы B вырос относительно группы А, после чего было падение до уровня группы А и после \n",
    "резо снова средний чек вырос\n",
    "- Возможно в этих точках роста были крупные заказы"
   ]
  },
  {
   "cell_type": "markdown",
   "id": "81414430",
   "metadata": {},
   "source": [
    "## График кумулятивной конверсии по группам<a class='anchor' id='chapter_2_4'></a>"
   ]
  },
  {
   "cell_type": "code",
   "execution_count": 55,
   "id": "eebea8fa",
   "metadata": {},
   "outputs": [
    {
     "data": {
      "text/html": [
       "<div>\n",
       "<style scoped>\n",
       "    .dataframe tbody tr th:only-of-type {\n",
       "        vertical-align: middle;\n",
       "    }\n",
       "\n",
       "    .dataframe tbody tr th {\n",
       "        vertical-align: top;\n",
       "    }\n",
       "\n",
       "    .dataframe thead th {\n",
       "        text-align: right;\n",
       "    }\n",
       "</style>\n",
       "<table border=\"1\" class=\"dataframe\">\n",
       "  <thead>\n",
       "    <tr style=\"text-align: right;\">\n",
       "      <th></th>\n",
       "      <th>date</th>\n",
       "      <th>group</th>\n",
       "      <th>orders</th>\n",
       "      <th>buyers</th>\n",
       "      <th>revenue</th>\n",
       "      <th>visitors</th>\n",
       "      <th>conversion</th>\n",
       "    </tr>\n",
       "  </thead>\n",
       "  <tbody>\n",
       "    <tr>\n",
       "      <th>0</th>\n",
       "      <td>2019-08-01</td>\n",
       "      <td>A</td>\n",
       "      <td>24</td>\n",
       "      <td>20</td>\n",
       "      <td>148579</td>\n",
       "      <td>719</td>\n",
       "      <td>0.027816</td>\n",
       "    </tr>\n",
       "    <tr>\n",
       "      <th>2</th>\n",
       "      <td>2019-08-02</td>\n",
       "      <td>A</td>\n",
       "      <td>44</td>\n",
       "      <td>38</td>\n",
       "      <td>242401</td>\n",
       "      <td>1338</td>\n",
       "      <td>0.028401</td>\n",
       "    </tr>\n",
       "    <tr>\n",
       "      <th>4</th>\n",
       "      <td>2019-08-03</td>\n",
       "      <td>A</td>\n",
       "      <td>68</td>\n",
       "      <td>62</td>\n",
       "      <td>354874</td>\n",
       "      <td>1845</td>\n",
       "      <td>0.033604</td>\n",
       "    </tr>\n",
       "    <tr>\n",
       "      <th>6</th>\n",
       "      <td>2019-08-04</td>\n",
       "      <td>A</td>\n",
       "      <td>84</td>\n",
       "      <td>77</td>\n",
       "      <td>425699</td>\n",
       "      <td>2562</td>\n",
       "      <td>0.030055</td>\n",
       "    </tr>\n",
       "    <tr>\n",
       "      <th>8</th>\n",
       "      <td>2019-08-05</td>\n",
       "      <td>A</td>\n",
       "      <td>109</td>\n",
       "      <td>100</td>\n",
       "      <td>549917</td>\n",
       "      <td>3318</td>\n",
       "      <td>0.030139</td>\n",
       "    </tr>\n",
       "  </tbody>\n",
       "</table>\n",
       "</div>"
      ],
      "text/plain": [
       "        date group  orders  buyers  revenue  visitors  conversion\n",
       "0 2019-08-01     A      24      20   148579       719    0.027816\n",
       "2 2019-08-02     A      44      38   242401      1338    0.028401\n",
       "4 2019-08-03     A      68      62   354874      1845    0.033604\n",
       "6 2019-08-04     A      84      77   425699      2562    0.030055\n",
       "8 2019-08-05     A     109     100   549917      3318    0.030139"
      ]
     },
     "execution_count": 55,
     "metadata": {},
     "output_type": "execute_result"
    }
   ],
   "source": [
    "# для этого сначала рассчитаем конверсию по группам\n",
    "\n",
    "cumulative_data['conversion'] = cumulative_data['buyers'] / cumulative_data['visitors']\n",
    "\n",
    "# теперь разделим этот датафрейм на два по группам\n",
    "\n",
    "cumulative_data_a = cumulative_data[cumulative_data['group'] == 'A']\n",
    "cumulative_data_b = cumulative_data[cumulative_data['group'] == 'B']\n",
    "\n",
    "cumulative_data_a.head()"
   ]
  },
  {
   "cell_type": "code",
   "execution_count": 57,
   "id": "ed0c3946",
   "metadata": {},
   "outputs": [
    {
     "data": {
      "image/png": "[encoded data removed]",
      "text/plain": [
       "<Figure size 720x360 with 1 Axes>"
      ]
     },
     "metadata": {
      "needs_background": "light"
     },
     "output_type": "display_data"
    }
   ],
   "source": [
    "# построим график по группам\n",
    "\n",
    "plt.figure(figsize = (10, 5))\n",
    "plt.plot(cumulative_data_a['date'], cumulative_data_a['conversion'], label = 'A')\n",
    "plt.plot(cumulative_data_b['date'], cumulative_data_b['conversion'], label = 'B')\n",
    "plt.legend()\n",
    "plt.axis([dt.datetime(2019, 8, 1), dt.datetime(2019, 9, 1), 0.02, 0.04])\n",
    "plt.xlabel('даты А/В теста')\n",
    "plt.ylabel('кумммулятивная конверсия')\n",
    "plt.title('График куммулятивной конверсия по группам')\n",
    "plt.show()"
   ]
  },
  {
   "cell_type": "markdown",
   "id": "c8469024",
   "metadata": {},
   "source": [
    "## вывод:\n",
    "\n",
    "- видно что сначала кумулятивные конверсии были близки, но потом у группы В она стала стабильно выше\n",
    "- стабилизация результатов в обеих группах наступила"
   ]
  },
  {
   "cell_type": "markdown",
   "id": "94729d45",
   "metadata": {},
   "source": [
    "## График относительного изменения кумулятивной конверсии группы B к группе A<a class='anchor' id='chapter_2_5'></a>"
   ]
  },
  {
   "cell_type": "code",
   "execution_count": 59,
   "id": "e86b205c",
   "metadata": {},
   "outputs": [
    {
     "data": {
      "image/png": "[encoded data removed]",
      "text/plain": [
       "<Figure size 720x360 with 1 Axes>"
      ]
     },
     "metadata": {
      "needs_background": "light"
     },
     "output_type": "display_data"
    }
   ],
   "source": [
    "# построим график относительного изменения предварительно объединив ранеее полученные по группам массивы\n",
    "\n",
    "merged_сumulative_conversion = (cumulative_data_a[['date', 'conversion']]\n",
    "                                .merge(cumulative_data_b[['date', 'conversion']],\n",
    "                                       how = 'left',\n",
    "                                       on = 'date',\n",
    "                                       suffixes = ['A', 'B'])\n",
    "                               )\n",
    "\n",
    "plt.figure(figsize = (10, 5))\n",
    "plt.plot(merged_сumulative_revenue['date'],\n",
    "         (merged_сumulative_conversion['conversionB'] / merged_сumulative_conversion['conversionA'])-1,\n",
    "         label = 'B/A')\n",
    "\n",
    "plt.axhline(y = 0, linestyle = '--', linewidth = 4, color = 'pink')\n",
    "plt.axhline(y = 0.25, linestyle = '--', linewidth = 4, color = 'pink')\n",
    "plt.axhline(y = 0.2, linestyle = '-.', linewidth = 2, color = 'green')\n",
    "\n",
    "plt.axis([dt.datetime(2019, 8, 1), dt.datetime(2019, 9, 1), -0.1, 0.4])\n",
    "plt.xlabel('даты А/В теста')\n",
    "plt.ylabel('кумммулятивная конверсия')\n",
    "plt.title('График куммулятивной конверсии группы В к группе А')\n",
    "plt.show()"
   ]
  },
  {
   "cell_type": "markdown",
   "id": "f4e68a15",
   "metadata": {},
   "source": [
    "## вывод:\n",
    "\n",
    "- на третий день куммулятивная конверсия группы А выросла относительно группы В, а дальше стабильно выше была конверсия группы В (выше на 20%  в среднем)\n",
    "- под конец исследуемого срока наблюдается небольшой нисходящий тренд\n",
    "- однозначно сказать причины по которым произошел этот рост пока нельзя, необходим дальнейший анализ"
   ]
  },
  {
   "cell_type": "markdown",
   "id": "dcc90aa3",
   "metadata": {},
   "source": [
    "## Точечный график количества заказов по пользователям <a class='anchor' id='chapter_2_6'></a>"
   ]
  },
  {
   "cell_type": "code",
   "execution_count": 60,
   "id": "d5bd8b85",
   "metadata": {},
   "outputs": [
    {
     "data": {
      "text/html": [
       "<div>\n",
       "<style scoped>\n",
       "    .dataframe tbody tr th:only-of-type {\n",
       "        vertical-align: middle;\n",
       "    }\n",
       "\n",
       "    .dataframe tbody tr th {\n",
       "        vertical-align: top;\n",
       "    }\n",
       "\n",
       "    .dataframe thead th {\n",
       "        text-align: right;\n",
       "    }\n",
       "</style>\n",
       "<table border=\"1\" class=\"dataframe\">\n",
       "  <thead>\n",
       "    <tr style=\"text-align: right;\">\n",
       "      <th></th>\n",
       "      <th>user_id</th>\n",
       "      <th>orders</th>\n",
       "    </tr>\n",
       "  </thead>\n",
       "  <tbody>\n",
       "    <tr>\n",
       "      <th>1023</th>\n",
       "      <td>4256040402</td>\n",
       "      <td>11</td>\n",
       "    </tr>\n",
       "    <tr>\n",
       "      <th>591</th>\n",
       "      <td>2458001652</td>\n",
       "      <td>11</td>\n",
       "    </tr>\n",
       "    <tr>\n",
       "      <th>569</th>\n",
       "      <td>2378935119</td>\n",
       "      <td>9</td>\n",
       "    </tr>\n",
       "    <tr>\n",
       "      <th>487</th>\n",
       "      <td>2038680547</td>\n",
       "      <td>8</td>\n",
       "    </tr>\n",
       "    <tr>\n",
       "      <th>44</th>\n",
       "      <td>199603092</td>\n",
       "      <td>5</td>\n",
       "    </tr>\n",
       "  </tbody>\n",
       "</table>\n",
       "</div>"
      ],
      "text/plain": [
       "         user_id  orders\n",
       "1023  4256040402      11\n",
       "591   2458001652      11\n",
       "569   2378935119       9\n",
       "487   2038680547       8\n",
       "44     199603092       5"
      ]
     },
     "execution_count": 60,
     "metadata": {},
     "output_type": "execute_result"
    }
   ],
   "source": [
    "# построим точечный график для определения наличия аномальных значений\n",
    "\n",
    "# сгенерируем объект  датафрейм с количеством заказов по каждому покупателю\n",
    "\n",
    "orders_buyers = (orders\n",
    "                 .groupby('visitorId', as_index = False)\n",
    "                 .agg({'transactionId':'nunique'})\n",
    "                )\n",
    "    \n",
    "orders_buyers.columns = ['user_id', 'orders']\n",
    "orders_buyers.sort_values(by = 'orders', ascending = False).head()"
   ]
  },
  {
   "cell_type": "code",
   "execution_count": 61,
   "id": "9a79f915",
   "metadata": {},
   "outputs": [
    {
     "data": {
      "image/png": "[encoded data removed]",
      "text/plain": [
       "<Figure size 432x288 with 1 Axes>"
      ]
     },
     "metadata": {
      "needs_background": "light"
     },
     "output_type": "display_data"
    }
   ],
   "source": [
    "# посмотрим гистрограмму \n",
    "\n",
    "plt.hist(orders_buyers['orders'])\n",
    "plt.xlabel('количество заказов')\n",
    "plt.title('График количества заказов по пользователям')\n",
    "plt.show()"
   ]
  },
  {
   "cell_type": "markdown",
   "id": "c3e5ee8b",
   "metadata": {},
   "source": [
    "Видно что в основном пользователи делали 1 или 2 заказа,  но также есть выбросы на уровне 6 и 10 заказов"
   ]
  },
  {
   "cell_type": "code",
   "execution_count": 63,
   "id": "25bda50f",
   "metadata": {},
   "outputs": [
    {
     "data": {
      "image/png": "[encoded data removed]",
      "text/plain": [
       "<Figure size 720x360 with 1 Axes>"
      ]
     },
     "metadata": {
      "needs_background": "light"
     },
     "output_type": "display_data"
    }
   ],
   "source": [
    "# построим точечный гарфик\n",
    "\n",
    "x_values = pd.Series(range(0, len(orders_buyers)))\n",
    "\n",
    "plt.figure(figsize = (10, 5))\n",
    "plt.scatter(x_values, orders_buyers['orders'])\n",
    "\n",
    "plt.xlabel('количество заказов')\n",
    "plt.title('График количества заказов по пользователям')\n",
    "plt.show()"
   ]
  },
  {
   "cell_type": "markdown",
   "id": "904665a5",
   "metadata": {},
   "source": [
    "## вывод:\n",
    "\n",
    "- Основная масса пользователей заказывает от 1 до 3 заказов, возможно остальные можно считать выбросами\n",
    "- Аномально маленьких занчений здесь не может быть потому что 1 заказ и так является минимально доступным вариантом"
   ]
  },
  {
   "cell_type": "markdown",
   "id": "dcce8afc",
   "metadata": {},
   "source": [
    "## 95-й и 99-й перцентили количества заказов на пользователя <a class='anchor' id='chapter_2_7'></a>"
   ]
  },
  {
   "cell_type": "code",
   "execution_count": 64,
   "id": "5d6a9799",
   "metadata": {},
   "outputs": [
    {
     "data": {
      "text/plain": [
       "array([1., 2., 4.])"
      ]
     },
     "execution_count": 64,
     "metadata": {},
     "output_type": "execute_result"
    }
   ],
   "source": [
    "# определим границу аномального количестве заказов на пользователя\n",
    "\n",
    "np.percentile(orders_buyers['orders'], [90, 95, 99])"
   ]
  },
  {
   "cell_type": "markdown",
   "id": "44d40a86",
   "metadata": {},
   "source": [
    "## вывод:\n",
    "\n",
    "- Принимаем границу аномального количества заказов на уровне 4 заказов, а все что больше попадает в 1% заказов"
   ]
  },
  {
   "cell_type": "markdown",
   "id": "dc80ba40",
   "metadata": {},
   "source": [
    "## Точечный график стоимостей заказов <a class='anchor' id='chapter_2_8'></a>"
   ]
  },
  {
   "cell_type": "code",
   "execution_count": 67,
   "id": "cd3e6b20",
   "metadata": {},
   "outputs": [
    {
     "data": {
      "text/plain": [
       "425     1294500\n",
       "1196     202740\n",
       "858       93940\n",
       "1136      92550\n",
       "744       86620\n",
       "Name: revenue, dtype: int64"
      ]
     },
     "metadata": {},
     "output_type": "display_data"
    },
    {
     "data": {
      "image/png": "[encoded data removed]",
      "text/plain": [
       "<Figure size 432x288 with 1 Axes>"
      ]
     },
     "metadata": {
      "needs_background": "light"
     },
     "output_type": "display_data"
    }
   ],
   "source": [
    "# построим гистрограмму распределение стоимостей заказов\n",
    "\n",
    "display(orders['revenue'].sort_values(ascending = False).head())\n",
    "\n",
    "plt.hist(orders['revenue'])\n",
    "plt.xlabel('стоимость заказов')\n",
    "plt.title('График распределения стоимостей заказов')\n",
    "plt.show()"
   ]
  },
  {
   "cell_type": "code",
   "execution_count": 70,
   "id": "56c74e59",
   "metadata": {},
   "outputs": [
    {
     "data": {
      "image/png": "[encoded data removed]",
      "text/plain": [
       "<Figure size 720x360 with 1 Axes>"
      ]
     },
     "metadata": {
      "needs_background": "light"
     },
     "output_type": "display_data"
    }
   ],
   "source": [
    "# построим точечную диаграмму\n",
    "\n",
    "x_value = pd.Series(range(0, len(orders)))\n",
    "\n",
    "plt.figure(figsize = (10, 5))\n",
    "plt.scatter(x_value, orders['revenue'])\n",
    "plt.xlabel('стоимость заказов')\n",
    "plt.title('График распределения стоимостей заказов')\n",
    "plt.show()"
   ]
  },
  {
   "cell_type": "markdown",
   "id": "4c947da0",
   "metadata": {},
   "source": [
    "## вывод:\n",
    "\n",
    "- Есть два выброса согласно точечной диаграмме, осталось определить границу стоимости"
   ]
  },
  {
   "cell_type": "markdown",
   "id": "930066d0",
   "metadata": {},
   "source": [
    "## 95-й и 99-й перцентили стоимостей заказов <a class='anchor' id='chapter_2_9'></a>"
   ]
  },
  {
   "cell_type": "code",
   "execution_count": 71,
   "id": "52af020b",
   "metadata": {},
   "outputs": [
    {
     "data": {
      "text/plain": [
       "array([18168. , 28000. , 58233.2])"
      ]
     },
     "execution_count": 71,
     "metadata": {},
     "output_type": "execute_result"
    }
   ],
   "source": [
    "# куда деваться считаем перцентили\n",
    "\n",
    "np.percentile(orders['revenue'], [90, 95, 99])"
   ]
  },
  {
   "cell_type": "markdown",
   "id": "acc96968",
   "metadata": {},
   "source": [
    "## вывод:\n",
    "\n",
    "- Границу стоимости определяем в районе 58300, все заказы что выше будут считаться аномально большими\n",
    "- аномально маленькие заказы нам не интересны, потому что мы ищем причины всплесков вверх (роста)"
   ]
  },
  {
   "cell_type": "markdown",
   "id": "f025c6fd",
   "metadata": {},
   "source": [
    "## Статистическая значимость различий в среднем количестве заказов между группами по «сырым» данным <a class='anchor' id='chapter_2_10'></a>"
   ]
  },
  {
   "cell_type": "markdown",
   "id": "1a2c7bc9",
   "metadata": {},
   "source": [
    "- Посчитаем статистическую значимость различий в среднем числе заказов на пользователя между группами по «сырым» данным — без удаления аномальных пользователей.\n",
    "- Сформулируем гипотезы. Нулевая: различий в среднем количестве заказов между группами нет. Альтернативная: различия в среднем количестве заказов между группами есть.\n",
    "- Зададим уровень статистической значимости p_value = 0.05\n",
    "- В анализе будем использовать метод Манна-Уитни"
   ]
  },
  {
   "cell_type": "code",
   "execution_count": 29,
   "id": "b35ba11d",
   "metadata": {},
   "outputs": [
    {
     "data": {
      "text/html": [
       "<div>\n",
       "<style scoped>\n",
       "    .dataframe tbody tr th:only-of-type {\n",
       "        vertical-align: middle;\n",
       "    }\n",
       "\n",
       "    .dataframe tbody tr th {\n",
       "        vertical-align: top;\n",
       "    }\n",
       "\n",
       "    .dataframe thead th {\n",
       "        text-align: right;\n",
       "    }\n",
       "</style>\n",
       "<table border=\"1\" class=\"dataframe\">\n",
       "  <thead>\n",
       "    <tr style=\"text-align: right;\">\n",
       "      <th></th>\n",
       "      <th>date</th>\n",
       "      <th>visitors_per_date_a</th>\n",
       "      <th>visitors_per_date_b</th>\n",
       "      <th>visitors_cummulative_a</th>\n",
       "      <th>visitors_cummulative_b</th>\n",
       "      <th>orders_per_date_a</th>\n",
       "      <th>revenue_per_date_a</th>\n",
       "      <th>orders_per_date_b</th>\n",
       "      <th>revenue_per_date_b</th>\n",
       "      <th>orders_cummulative_a</th>\n",
       "      <th>revenue_cummulative_a</th>\n",
       "      <th>orders_cummulative_b</th>\n",
       "      <th>revenue_cummulative_b</th>\n",
       "    </tr>\n",
       "  </thead>\n",
       "  <tbody>\n",
       "    <tr>\n",
       "      <th>0</th>\n",
       "      <td>2019-08-01</td>\n",
       "      <td>719</td>\n",
       "      <td>713</td>\n",
       "      <td>719</td>\n",
       "      <td>713</td>\n",
       "      <td>24</td>\n",
       "      <td>148579</td>\n",
       "      <td>21</td>\n",
       "      <td>101217</td>\n",
       "      <td>24</td>\n",
       "      <td>148579</td>\n",
       "      <td>21</td>\n",
       "      <td>101217</td>\n",
       "    </tr>\n",
       "    <tr>\n",
       "      <th>1</th>\n",
       "      <td>2019-08-02</td>\n",
       "      <td>619</td>\n",
       "      <td>581</td>\n",
       "      <td>1338</td>\n",
       "      <td>1294</td>\n",
       "      <td>20</td>\n",
       "      <td>93822</td>\n",
       "      <td>24</td>\n",
       "      <td>165531</td>\n",
       "      <td>44</td>\n",
       "      <td>242401</td>\n",
       "      <td>45</td>\n",
       "      <td>266748</td>\n",
       "    </tr>\n",
       "    <tr>\n",
       "      <th>2</th>\n",
       "      <td>2019-08-03</td>\n",
       "      <td>507</td>\n",
       "      <td>509</td>\n",
       "      <td>1845</td>\n",
       "      <td>1803</td>\n",
       "      <td>24</td>\n",
       "      <td>112473</td>\n",
       "      <td>16</td>\n",
       "      <td>114248</td>\n",
       "      <td>68</td>\n",
       "      <td>354874</td>\n",
       "      <td>61</td>\n",
       "      <td>380996</td>\n",
       "    </tr>\n",
       "    <tr>\n",
       "      <th>3</th>\n",
       "      <td>2019-08-04</td>\n",
       "      <td>717</td>\n",
       "      <td>770</td>\n",
       "      <td>2562</td>\n",
       "      <td>2573</td>\n",
       "      <td>16</td>\n",
       "      <td>70825</td>\n",
       "      <td>17</td>\n",
       "      <td>108571</td>\n",
       "      <td>84</td>\n",
       "      <td>425699</td>\n",
       "      <td>78</td>\n",
       "      <td>489567</td>\n",
       "    </tr>\n",
       "    <tr>\n",
       "      <th>4</th>\n",
       "      <td>2019-08-05</td>\n",
       "      <td>756</td>\n",
       "      <td>707</td>\n",
       "      <td>3318</td>\n",
       "      <td>3280</td>\n",
       "      <td>25</td>\n",
       "      <td>124218</td>\n",
       "      <td>23</td>\n",
       "      <td>92428</td>\n",
       "      <td>109</td>\n",
       "      <td>549917</td>\n",
       "      <td>101</td>\n",
       "      <td>581995</td>\n",
       "    </tr>\n",
       "  </tbody>\n",
       "</table>\n",
       "</div>"
      ],
      "text/plain": [
       "        date  visitors_per_date_a  visitors_per_date_b  \\\n",
       "0 2019-08-01                  719                  713   \n",
       "1 2019-08-02                  619                  581   \n",
       "2 2019-08-03                  507                  509   \n",
       "3 2019-08-04                  717                  770   \n",
       "4 2019-08-05                  756                  707   \n",
       "\n",
       "   visitors_cummulative_a  visitors_cummulative_b  orders_per_date_a  \\\n",
       "0                     719                     713                 24   \n",
       "1                    1338                    1294                 20   \n",
       "2                    1845                    1803                 24   \n",
       "3                    2562                    2573                 16   \n",
       "4                    3318                    3280                 25   \n",
       "\n",
       "   revenue_per_date_a  orders_per_date_b  revenue_per_date_b  \\\n",
       "0              148579                 21              101217   \n",
       "1               93822                 24              165531   \n",
       "2              112473                 16              114248   \n",
       "3               70825                 17              108571   \n",
       "4              124218                 23               92428   \n",
       "\n",
       "   orders_cummulative_a  revenue_cummulative_a  orders_cummulative_b  \\\n",
       "0                    24                 148579                    21   \n",
       "1                    44                 242401                    45   \n",
       "2                    68                 354874                    61   \n",
       "3                    84                 425699                    78   \n",
       "4                   109                 549917                   101   \n",
       "\n",
       "   revenue_cummulative_b  \n",
       "0                 101217  \n",
       "1                 266748  \n",
       "2                 380996  \n",
       "3                 489567  \n",
       "4                 581995  "
      ]
     },
     "metadata": {},
     "output_type": "display_data"
    }
   ],
   "source": [
    "# подготовим исходные данные\n",
    "\n",
    "# соберем по группам количество посетителей по датам\n",
    "\n",
    "visitors_daily_a = visitors[visitors['group'] == 'A'][['date', 'visitors']]\n",
    "visitors_daily_a.columns = ['date', 'visitors_per_date_a']\n",
    "\n",
    "visitors_daily_b = visitors[visitors['group'] == 'B'][['date', 'visitors']]\n",
    "visitors_daily_b.columns = ['date', 'visitors_per_date_b']\n",
    "\n",
    "# соберем по группам накопительным итогом количество посетителей по датам\n",
    "\n",
    "visitors_cummulative_a = visitors_daily_a.apply(\n",
    "    lambda x: visitors_daily_a[visitors_daily_a['date'] <= x['date']].agg(\n",
    "    {'date':'max', 'visitors_per_date_a':'sum'}), axis = 1\n",
    "    )\n",
    "\n",
    "visitors_cummulative_a.columns = ['date', 'visitors_cummulative_a']\n",
    "\n",
    "visitors_cummulative_b = visitors_daily_b.apply(\n",
    "    lambda x: visitors_daily_b[visitors_daily_b['date'] <= x['date']].agg(\n",
    "    {'date':'max', 'visitors_per_date_b':'sum'}), axis = 1\n",
    "    )\n",
    "\n",
    "visitors_cummulative_b.columns = ['date', 'visitors_cummulative_b']\n",
    "\n",
    "# соберем количество заказов и выручку накопительным итогом по группам\n",
    "\n",
    "orders_daily_a = (\n",
    "                    orders[orders['group'] == 'A'][['date', 'transactionId', 'revenue']]\\\n",
    "                        .groupby('date', as_index = False)\\\n",
    "                        .agg({'date':'max', 'transactionId':'nunique', 'revenue':'sum'})\n",
    ")\n",
    "\n",
    "orders_daily_a.columns = ['date', 'orders_per_date_a', 'revenue_per_date_a']\n",
    "\n",
    "orders_cummulative_a = orders_daily_a.apply(\n",
    "    lambda x: orders_daily_a[orders_daily_a['date'] <= x['date']].agg(\n",
    "    {'date':'max', 'orders_per_date_a':'sum', 'revenue_per_date_a':'sum'}), axis = 1).sort_values(by = ['date'])\n",
    "\n",
    "orders_cummulative_a.columns = ['date', 'orders_cummulative_a', 'revenue_cummulative_a']\n",
    "\n",
    "orders_daily_b = (\n",
    "                    orders[orders['group'] == 'B'][['date', 'transactionId', 'revenue']]\\\n",
    "                        .groupby('date', as_index = False)\\\n",
    "                        .agg({'date':'max', 'transactionId':'nunique', 'revenue':'sum'})\n",
    ")\n",
    "\n",
    "orders_daily_b.columns = ['date', 'orders_per_date_b', 'revenue_per_date_b']\n",
    "\n",
    "orders_cummulative_b = orders_daily_b.apply(\n",
    "    lambda x: orders_daily_b[orders_daily_b['date'] <= x['date']].agg(\n",
    "    {'date':'max', 'orders_per_date_b':'sum', 'revenue_per_date_b':'sum'}), axis = 1).sort_values(by = ['date'])\n",
    "\n",
    "orders_cummulative_b.columns = ['date', 'orders_cummulative_b', 'revenue_cummulative_b']\n",
    "\n",
    "# соберем в один датафрейм все что получили выше\n",
    "\n",
    "data = visitors_daily_a.merge(visitors_daily_b, how = 'left', on = 'date')\\\n",
    "                       .merge(visitors_cummulative_a, how = 'left', on = 'date')\\\n",
    "                       .merge(visitors_cummulative_b, how = 'left', on = 'date')\\\n",
    "                       .merge(orders_daily_a, how = 'left', on = 'date')\\\n",
    "                       .merge(orders_daily_b, how = 'left', on = 'date')\\\n",
    "                       .merge(orders_cummulative_a, how = 'left', on = 'date')\\\n",
    "                       .merge(orders_cummulative_b, how = 'left', on = 'date')\n",
    "\n",
    "display(data.head())"
   ]
  },
  {
   "cell_type": "code",
   "execution_count": 30,
   "id": "f0094621",
   "metadata": {},
   "outputs": [
    {
     "data": {
      "text/html": [
       "<div>\n",
       "<style scoped>\n",
       "    .dataframe tbody tr th:only-of-type {\n",
       "        vertical-align: middle;\n",
       "    }\n",
       "\n",
       "    .dataframe tbody tr th {\n",
       "        vertical-align: top;\n",
       "    }\n",
       "\n",
       "    .dataframe thead th {\n",
       "        text-align: right;\n",
       "    }\n",
       "</style>\n",
       "<table border=\"1\" class=\"dataframe\">\n",
       "  <thead>\n",
       "    <tr style=\"text-align: right;\">\n",
       "      <th></th>\n",
       "      <th>visitors</th>\n",
       "      <th>orders</th>\n",
       "    </tr>\n",
       "  </thead>\n",
       "  <tbody>\n",
       "    <tr>\n",
       "      <th>499</th>\n",
       "      <td>4256040402</td>\n",
       "      <td>7</td>\n",
       "    </tr>\n",
       "    <tr>\n",
       "      <th>227</th>\n",
       "      <td>2038680547</td>\n",
       "      <td>5</td>\n",
       "    </tr>\n",
       "    <tr>\n",
       "      <th>278</th>\n",
       "      <td>2458001652</td>\n",
       "      <td>5</td>\n",
       "    </tr>\n",
       "    <tr>\n",
       "      <th>269</th>\n",
       "      <td>2378935119</td>\n",
       "      <td>4</td>\n",
       "    </tr>\n",
       "    <tr>\n",
       "      <th>18</th>\n",
       "      <td>199603092</td>\n",
       "      <td>4</td>\n",
       "    </tr>\n",
       "  </tbody>\n",
       "</table>\n",
       "</div>"
      ],
      "text/plain": [
       "       visitors  orders\n",
       "499  4256040402       7\n",
       "227  2038680547       5\n",
       "278  2458001652       5\n",
       "269  2378935119       4\n",
       "18    199603092       4"
      ]
     },
     "metadata": {},
     "output_type": "display_data"
    },
    {
     "data": {
      "text/html": [
       "<div>\n",
       "<style scoped>\n",
       "    .dataframe tbody tr th:only-of-type {\n",
       "        vertical-align: middle;\n",
       "    }\n",
       "\n",
       "    .dataframe tbody tr th {\n",
       "        vertical-align: top;\n",
       "    }\n",
       "\n",
       "    .dataframe thead th {\n",
       "        text-align: right;\n",
       "    }\n",
       "</style>\n",
       "<table border=\"1\" class=\"dataframe\">\n",
       "  <thead>\n",
       "    <tr style=\"text-align: right;\">\n",
       "      <th></th>\n",
       "      <th>visitors</th>\n",
       "      <th>orders</th>\n",
       "    </tr>\n",
       "  </thead>\n",
       "  <tbody>\n",
       "    <tr>\n",
       "      <th>340</th>\n",
       "      <td>2458001652</td>\n",
       "      <td>6</td>\n",
       "    </tr>\n",
       "    <tr>\n",
       "      <th>326</th>\n",
       "      <td>2378935119</td>\n",
       "      <td>5</td>\n",
       "    </tr>\n",
       "    <tr>\n",
       "      <th>501</th>\n",
       "      <td>3717692402</td>\n",
       "      <td>4</td>\n",
       "    </tr>\n",
       "    <tr>\n",
       "      <th>514</th>\n",
       "      <td>3803269165</td>\n",
       "      <td>4</td>\n",
       "    </tr>\n",
       "    <tr>\n",
       "      <th>580</th>\n",
       "      <td>4256040402</td>\n",
       "      <td>4</td>\n",
       "    </tr>\n",
       "  </tbody>\n",
       "</table>\n",
       "</div>"
      ],
      "text/plain": [
       "       visitors  orders\n",
       "340  2458001652       6\n",
       "326  2378935119       5\n",
       "501  3717692402       4\n",
       "514  3803269165       4\n",
       "580  4256040402       4"
      ]
     },
     "metadata": {},
     "output_type": "display_data"
    }
   ],
   "source": [
    "# создадим переменные по группам в которых сгруппируем по столбцам идентификаторы пользователей,\n",
    "# которые совершали хотябы одну покупку, и количество заказов\n",
    "\n",
    "orders_by_users_a = orders[orders['group'] == 'A']\\\n",
    "                        .groupby('visitorId', as_index = False)\\\n",
    "                        .agg({'transactionId':'nunique'})\n",
    "\n",
    "orders_by_users_a.columns = ['visitors', 'orders']\n",
    "\n",
    "orders_by_users_b = orders[orders['group'] == 'B']\\\n",
    "                        .groupby('visitorId', as_index = False)\\\n",
    "                        .agg({'transactionId':'nunique'})\n",
    "\n",
    "orders_by_users_b.columns = ['visitors', 'orders']\n",
    "\n",
    "display(orders_by_users_a.sort_values(by='orders', ascending = False).head())\n",
    "\n",
    "display(orders_by_users_b.sort_values(by='orders', ascending = False).head())"
   ]
  },
  {
   "cell_type": "code",
   "execution_count": 31,
   "id": "3e1613a5",
   "metadata": {},
   "outputs": [],
   "source": [
    "# Объявим переменные sample_a и sample_b, в которых пользователям из разных групп \n",
    "# будет соответствовать количество заказов. \n",
    "# Тем, кто ничего не заказал, будут соответствовать нули.\n",
    "# Это нужно, чтобы подготовить выборки к проверке критерием Манна-Уитни.\n",
    "\n",
    "sample_a = pd.concat([orders_by_users_a['orders'], pd.Series(\n",
    "    0, index = np.arange(data['visitors_per_date_a'].sum() - len(orders_by_users_a['orders'])), name = 'orders')], axis=0)\n",
    "\n",
    "sample_b = pd.concat([orders_by_users_b['orders'], pd.Series(\n",
    "    0, index = np.arange(data['visitors_per_date_b'].sum() - len(orders_by_users_b['orders'])), name = 'orders')], axis=0)"
   ]
  },
  {
   "cell_type": "code",
   "execution_count": 32,
   "id": "2501d018",
   "metadata": {},
   "outputs": [
    {
     "name": "stdout",
     "output_type": "stream",
     "text": [
      "P_value: 0.01679\n",
      "Отношение среднего количества заказов группы В к гпуппе А по сырым данным: 0.13808\n"
     ]
    }
   ],
   "source": [
    "# проверим критерием Манна-Уитни\n",
    "\n",
    "print('P_value:', \"{0:.5f}\".format(stats.mannwhitneyu(sample_a, sample_b)[1]))\n",
    "\n",
    "print('Отношение среднего количества заказов группы В к гпуппе А по сырым данным:',\"{0:.5f}\".format(sample_b.mean() / sample_a.mean() - 1))"
   ]
  },
  {
   "cell_type": "markdown",
   "id": "c0369f5c",
   "metadata": {},
   "source": [
    "## вывод:\n",
    "\n",
    "- По \"сырым данным\" уровень значимости не привысил значение в 0,05 а значит мы отвергаем нулевую гепотезу\n",
    "о том что различий по среднему количеству заказов в группах нет и они вероятно они есть\n",
    "- В группе В на 13,8 % больше в среднем заказов приходится на одного пользователя\n",
    "- Нужно будет проверить эту гипотезу на \"очищенных данных\""
   ]
  },
  {
   "cell_type": "markdown",
   "id": "86120f49",
   "metadata": {},
   "source": [
    "## Статистическая значимость различий в среднем чеке заказа между группами по «сырым» данным <a class='anchor' id='chapter_2_11'></a>"
   ]
  },
  {
   "cell_type": "markdown",
   "id": "b967b6be",
   "metadata": {},
   "source": [
    "- Посчитаем статистическую значимость различий в среднем чеке между группами по «сырым» данным — без удаления аномальных пользователей.\n",
    "- Сформулируем гипотезы. Нулевая: различий в среднем чеке между группами нет. Альтернативная: различия в среднем чеке между группами есть."
   ]
  },
  {
   "cell_type": "code",
   "execution_count": 33,
   "id": "891f3903",
   "metadata": {},
   "outputs": [
    {
     "name": "stdout",
     "output_type": "stream",
     "text": [
      "P_value: 0.72929\n",
      "Отношение среднего чека в группе В к группе А по сырым данным: 0.25871\n"
     ]
    }
   ],
   "source": [
    "print('P_value:','{:.5f}'.format(st.mannwhitneyu(orders[orders['group'] == 'B']['revenue'], \n",
    "                                       orders[orders['group'] == 'A']['revenue'])[1]))\n",
    "\n",
    "print('Отношение среднего чека в группе В к группе А по сырым данным:','{:.5f}'.format(orders[orders['group'] == 'B']['revenue'].mean() / \n",
    "                        orders[orders['group'] == 'A']['revenue'].mean() - 1))"
   ]
  },
  {
   "cell_type": "markdown",
   "id": "8b976c2e",
   "metadata": {},
   "source": [
    "## вывод:\n",
    "\n",
    "- По \"сырым данным\" уровень значимости привысил значение в 0,05 а значит мы не отвергаем нулевую гепотезу\n",
    "о том что различий по среднему чеку в группах нет\n",
    "- Но при этом в группе В на 26% средний чек выше чем в группе А\n",
    "- Нужно будет проверить эту гипотезу на \"очищенных данных\""
   ]
  },
  {
   "cell_type": "markdown",
   "id": "261d70d3",
   "metadata": {},
   "source": [
    "## Cтатистическая значимость различий в среднем количестве заказов между группами по «очищенным» данным<a class='anchor' id='chapter_2_12'></a>"
   ]
  },
  {
   "cell_type": "markdown",
   "id": "388c898d",
   "metadata": {},
   "source": [
    "- ранее мы посчитали что аномальным количеством заказов на пользователя было 5 и более заказов и размер заказа считается аномальным если превышает 58300\n",
    "- очистим данные"
   ]
  },
  {
   "cell_type": "code",
   "execution_count": 34,
   "id": "db849d9a",
   "metadata": {
    "scrolled": true
   },
   "outputs": [
    {
     "data": {
      "text/plain": [
       "1099     148427295\n",
       "18       199603092\n",
       "23       237748145\n",
       "949      887908475\n",
       "744      888512513\n",
       "1103    1164614297\n",
       "1136    1307669133\n",
       "858     1316129916\n",
       "425     1920142716\n",
       "227     2038680547\n",
       "1196    2108080724\n",
       "269     2378935119\n",
       "278     2458001652\n",
       "424     3062433592\n",
       "501     3717692402\n",
       "514     3803269165\n",
       "940     4003628586\n",
       "743     4133034833\n",
       "499     4256040402\n",
       "662     4266935830\n",
       "dtype: int64"
      ]
     },
     "metadata": {},
     "output_type": "display_data"
    },
    {
     "name": "stdout",
     "output_type": "stream",
     "text": [
      "P_value: 0.01390\n",
      "Отношение среднего количества заказов группы В к гпуппе А по очищенным данным: 0.15103\n"
     ]
    }
   ],
   "source": [
    "# очистим данные по количеству заказов\n",
    "\n",
    "users_with_many_orders = pd.concat(\n",
    "    [\n",
    "     orders_by_users_a[orders_by_users_a['orders'] >= 4]['visitors'],\n",
    "     orders_by_users_b[orders_by_users_b['orders'] >= 4]['visitors']\n",
    "    ]\n",
    ")\n",
    "\n",
    "# очистим данные по размеру заказов\n",
    "\n",
    "orders_with_big_revenue = orders[orders['revenue'] > 58300]['visitorId']\n",
    "\n",
    "#соберем воедино аномальных пользователей\n",
    "\n",
    "anormal_users = pd.concat([users_with_many_orders, orders_with_big_revenue], axis = 0)\\\n",
    "                  .drop_duplicates()\\\n",
    "                  .sort_values()\n",
    "\n",
    "display(anormal_users)\n",
    "\n",
    "# посчитаем статистическую значимость\n",
    "\n",
    "sample_filtered_a = pd.concat(\n",
    "                                [\n",
    "                                    orders_by_users_a[\n",
    "                                        np.logical_not(orders_by_users_a['visitors']\n",
    "                                                       .isin(anormal_users))]['orders'],\n",
    "                                                            pd.Series(0, index = np.arange(\n",
    "                                                                data['visitors_per_date_a'].sum() - len(orders_by_users_a['orders'])),\n",
    "                                                                      name = 'orders',\n",
    "                                                                     ),\n",
    "                                ]\n",
    "                                ,axis=0\n",
    ")\n",
    "\n",
    "sample_filtered_b =  pd.concat(\n",
    "                                [\n",
    "                                    orders_by_users_b[\n",
    "                                        np.logical_not(orders_by_users_b['visitors']\n",
    "                                                       .isin(anormal_users))]['orders'],\n",
    "                                                            pd.Series(0, index = np.arange(\n",
    "                                                                data['visitors_per_date_b'].sum() - len(orders_by_users_b['orders'])),\n",
    "                                                                      name = 'orders',\n",
    "                                                                     ),\n",
    "                                ]\n",
    "                                ,axis=0\n",
    ")\n",
    "# проверим критерием Манна-Уитни\n",
    "\n",
    "print('P_value:',\"{0:.5f}\".format(stats.mannwhitneyu(sample_filtered_a, sample_filtered_b)[1]))\n",
    "\n",
    "print('Отношение среднего количества заказов группы В к гпуппе А по очищенным данным:',\"{0:.5f}\".format(sample_filtered_b.mean() / sample_filtered_a.mean() - 1))"
   ]
  },
  {
   "cell_type": "markdown",
   "id": "6f752854",
   "metadata": {},
   "source": [
    "## вывод:\n",
    "\n",
    "- По \"очищенным данным\" уровень значимости не привысил значение в 0,05 а значит мы все также\n",
    "отвергаем нулевую гепотезу о том что различий по среднему количеству заказов в группах нет\n",
    "- В группе В на 15,1% больше в среднем заказов приходится на одного пользователя"
   ]
  },
  {
   "cell_type": "markdown",
   "id": "fd07790e",
   "metadata": {},
   "source": [
    "## Статистическая значимость различий в среднем чеке заказа между группами по «очищенным» данным<a class='anchor' id='chapter_2_13'></a>"
   ]
  },
  {
   "cell_type": "code",
   "execution_count": 35,
   "id": "4370547d",
   "metadata": {},
   "outputs": [
    {
     "name": "stdout",
     "output_type": "stream",
     "text": [
      "P_value: 0.95885\n",
      "Отношение среднего чека в группе В к группе А по очищенным данным: -0.01385\n"
     ]
    }
   ],
   "source": [
    "print('P_value:','{:.5f}'.format(\n",
    "    st.mannwhitneyu(\n",
    "        orders[np.logical_and(\n",
    "            np.logical_not(\n",
    "                orders['visitorId'].isin(anormal_users)),\n",
    "                    orders['group'] == 'B')]['revenue'], \n",
    "                                       orders[np.logical_and(\n",
    "            np.logical_not(\n",
    "                orders['visitorId'].isin(anormal_users)),\n",
    "                    orders['group'] == 'A')]['revenue'])\n",
    "                            [1]\n",
    "                        )\n",
    "        )\n",
    "\n",
    "print('Отношение среднего чека в группе В к группе А по очищенным данным:','{:.5f}'.format(orders[np.logical_and(\n",
    "            np.logical_not(\n",
    "                orders['visitorId'].isin(anormal_users)),\n",
    "                    orders['group'] == 'B')]['revenue'].mean() / \n",
    "                        orders[np.logical_and(\n",
    "            np.logical_not(\n",
    "                orders['visitorId'].isin(anormal_users)),\n",
    "                    orders['group'] == 'A')]['revenue'].mean() - 1))"
   ]
  },
  {
   "cell_type": "markdown",
   "id": "6ea2464f",
   "metadata": {},
   "source": [
    "## вывод:\n",
    "\n",
    "- По \"очищенным данным\" уровень значимости привысил значение в 0,05 а значит мы все также не отвергаем нулевую гепотезу о том что различий по среднему чеку в группах нет\n",
    "- Но при этом в группе В на 1% средний чек ниже чем в группе А\n",
    "- в группе В были неочищенные данные(заказы с высоким чеком) которые сильно завышали средний чек по сравнению с группой А"
   ]
  },
  {
   "cell_type": "markdown",
   "id": "3b0cbaaf",
   "metadata": {},
   "source": [
    "## Итоги А/В теста<a class='anchor' id='chapter_2_14'></a>"
   ]
  },
  {
   "cell_type": "markdown",
   "id": "2fb93935",
   "metadata": {},
   "source": [
    "- Куммулятивные графики конверсии и среднего чека у группы В были выше чем у группы А  и имели восходящие тендеции\n",
    "- Среднее количество заказов на пользователя статичтически значимо отличалось в большую сторону у группы В, по \"очищенным данным\" на 15,1%\n",
    "- А вот разница средних чеков для двух групп оказалась в большой долей вероятности оказалась одинаковой и составила разницу в 1% по \"очищенным данным\"\n",
    "- Показатели тестовой группы В положительные и вероятнее всего на этот успех повлияло большее количество заказов на пользователя, что наводит на мысль о том что клиенты стали охотнее возвращаться за покупками\n",
    "- Тест необходимо признать положительным и остановить. Возможно его стоит продолжить для определения более четкого тренда по куммулятивной конверсии по группам"
   ]
  },
  {
   "cell_type": "code",
   "execution_count": null,
   "id": "8202683b",
   "metadata": {},
   "outputs": [],
   "source": []
  }
 ],
 "metadata": {
  "ExecuteTimeLog": [
   {
    "duration": 427,
    "start_time": "2022-11-01T09:09:51.954Z"
   },
   {
    "duration": 11,
    "start_time": "2022-11-01T09:09:52.382Z"
   },
   {
    "duration": 11,
    "start_time": "2022-11-01T09:09:52.394Z"
   },
   {
    "duration": 160,
    "start_time": "2022-11-01T09:09:52.406Z"
   },
   {
    "duration": 28,
    "start_time": "2022-11-01T09:09:52.568Z"
   },
   {
    "duration": 415,
    "start_time": "2022-11-01T09:09:52.597Z"
   },
   {
    "duration": 12,
    "start_time": "2022-11-01T09:09:53.014Z"
   },
   {
    "duration": 163,
    "start_time": "2022-11-01T09:09:53.027Z"
   },
   {
    "duration": 128,
    "start_time": "2022-11-01T09:09:53.191Z"
   },
   {
    "duration": 11,
    "start_time": "2022-11-01T09:09:53.321Z"
   },
   {
    "duration": 14,
    "start_time": "2022-11-01T09:09:53.334Z"
   },
   {
    "duration": 474,
    "start_time": "2022-11-01T09:09:53.349Z"
   },
   {
    "duration": 169,
    "start_time": "2022-11-01T09:09:53.824Z"
   },
   {
    "duration": 318,
    "start_time": "2022-11-01T09:09:54.006Z"
   },
   {
    "duration": 13,
    "start_time": "2022-11-01T09:09:54.326Z"
   },
   {
    "duration": 210,
    "start_time": "2022-11-01T09:09:54.341Z"
   },
   {
    "duration": 253,
    "start_time": "2022-11-01T09:09:54.554Z"
   },
   {
    "duration": 10,
    "start_time": "2022-11-01T09:09:54.809Z"
   },
   {
    "duration": 114,
    "start_time": "2022-11-01T09:09:54.820Z"
   },
   {
    "duration": 118,
    "start_time": "2022-11-01T09:09:54.935Z"
   },
   {
    "duration": 5,
    "start_time": "2022-11-01T09:09:55.054Z"
   },
   {
    "duration": 133,
    "start_time": "2022-11-01T09:09:55.060Z"
   },
   {
    "duration": 137,
    "start_time": "2022-11-01T09:09:55.195Z"
   },
   {
    "duration": 4,
    "start_time": "2022-11-01T09:09:55.334Z"
   },
   {
    "duration": 11,
    "start_time": "2022-11-01T09:09:55.339Z"
   },
   {
    "duration": 206,
    "start_time": "2022-11-01T09:09:55.352Z"
   },
   {
    "duration": 17,
    "start_time": "2022-11-01T09:09:55.560Z"
   },
   {
    "duration": 6,
    "start_time": "2022-11-01T09:09:55.578Z"
   },
   {
    "duration": 21,
    "start_time": "2022-11-01T09:09:55.605Z"
   },
   {
    "duration": 10,
    "start_time": "2022-11-01T09:09:55.628Z"
   },
   {
    "duration": 29,
    "start_time": "2022-11-01T09:09:55.640Z"
   },
   {
    "duration": 40,
    "start_time": "2022-11-01T09:09:55.670Z"
   },
   {
    "duration": 385,
    "start_time": "2022-11-01T09:26:52.151Z"
   },
   {
    "duration": 12,
    "start_time": "2022-11-01T09:26:52.538Z"
   },
   {
    "duration": 12,
    "start_time": "2022-11-01T09:26:52.551Z"
   },
   {
    "duration": 77,
    "start_time": "2022-11-01T09:26:52.564Z"
   },
   {
    "duration": 31,
    "start_time": "2022-11-01T09:26:52.643Z"
   },
   {
    "duration": 441,
    "start_time": "2022-11-01T09:26:52.675Z"
   },
   {
    "duration": 12,
    "start_time": "2022-11-01T09:26:53.117Z"
   },
   {
    "duration": 161,
    "start_time": "2022-11-01T09:26:53.130Z"
   },
   {
    "duration": 131,
    "start_time": "2022-11-01T09:26:53.292Z"
   },
   {
    "duration": 12,
    "start_time": "2022-11-01T09:26:53.424Z"
   },
   {
    "duration": 7,
    "start_time": "2022-11-01T09:26:53.437Z"
   },
   {
    "duration": 452,
    "start_time": "2022-11-01T09:26:53.445Z"
   },
   {
    "duration": 167,
    "start_time": "2022-11-01T09:26:53.898Z"
   },
   {
    "duration": 281,
    "start_time": "2022-11-01T09:26:54.069Z"
   },
   {
    "duration": 12,
    "start_time": "2022-11-01T09:26:54.352Z"
   },
   {
    "duration": 185,
    "start_time": "2022-11-01T09:26:54.365Z"
   },
   {
    "duration": 236,
    "start_time": "2022-11-01T09:26:54.551Z"
   },
   {
    "duration": 20,
    "start_time": "2022-11-01T09:26:54.789Z"
   },
   {
    "duration": 103,
    "start_time": "2022-11-01T09:26:54.810Z"
   },
   {
    "duration": 113,
    "start_time": "2022-11-01T09:26:54.915Z"
   },
   {
    "duration": 4,
    "start_time": "2022-11-01T09:26:55.030Z"
   },
   {
    "duration": 133,
    "start_time": "2022-11-01T09:26:55.035Z"
   },
   {
    "duration": 128,
    "start_time": "2022-11-01T09:26:55.170Z"
   },
   {
    "duration": 5,
    "start_time": "2022-11-01T09:26:55.304Z"
   },
   {
    "duration": 9,
    "start_time": "2022-11-01T09:26:55.310Z"
   },
   {
    "duration": 207,
    "start_time": "2022-11-01T09:26:55.320Z"
   },
   {
    "duration": 17,
    "start_time": "2022-11-01T09:26:55.529Z"
   },
   {
    "duration": 10,
    "start_time": "2022-11-01T09:26:55.547Z"
   },
   {
    "duration": 21,
    "start_time": "2022-11-01T09:26:55.558Z"
   },
   {
    "duration": 32,
    "start_time": "2022-11-01T09:26:55.581Z"
   },
   {
    "duration": 30,
    "start_time": "2022-11-01T09:26:55.615Z"
   },
   {
    "duration": 15,
    "start_time": "2022-11-01T09:26:55.646Z"
   },
   {
    "duration": 367,
    "start_time": "2022-11-01T10:03:05.857Z"
   },
   {
    "duration": 12,
    "start_time": "2022-11-01T10:03:06.226Z"
   },
   {
    "duration": 23,
    "start_time": "2022-11-01T10:03:06.239Z"
   },
   {
    "duration": 98,
    "start_time": "2022-11-01T10:03:06.264Z"
   },
   {
    "duration": 34,
    "start_time": "2022-11-01T10:03:06.364Z"
   },
   {
    "duration": 429,
    "start_time": "2022-11-01T10:03:06.400Z"
   },
   {
    "duration": 13,
    "start_time": "2022-11-01T10:03:06.831Z"
   },
   {
    "duration": 176,
    "start_time": "2022-11-01T10:03:06.846Z"
   },
   {
    "duration": 127,
    "start_time": "2022-11-01T10:03:07.023Z"
   },
   {
    "duration": 13,
    "start_time": "2022-11-01T10:03:07.153Z"
   },
   {
    "duration": 10,
    "start_time": "2022-11-01T10:03:07.168Z"
   },
   {
    "duration": 601,
    "start_time": "2022-11-01T10:03:07.180Z"
   },
   {
    "duration": 192,
    "start_time": "2022-11-01T10:03:07.783Z"
   },
   {
    "duration": 322,
    "start_time": "2022-11-01T10:03:07.977Z"
   },
   {
    "duration": 11,
    "start_time": "2022-11-01T10:03:08.305Z"
   },
   {
    "duration": 195,
    "start_time": "2022-11-01T10:03:08.318Z"
   },
   {
    "duration": 282,
    "start_time": "2022-11-01T10:03:08.514Z"
   },
   {
    "duration": 15,
    "start_time": "2022-11-01T10:03:08.797Z"
   },
   {
    "duration": 111,
    "start_time": "2022-11-01T10:03:08.814Z"
   },
   {
    "duration": 123,
    "start_time": "2022-11-01T10:03:08.926Z"
   },
   {
    "duration": 5,
    "start_time": "2022-11-01T10:03:09.051Z"
   },
   {
    "duration": 137,
    "start_time": "2022-11-01T10:03:09.058Z"
   },
   {
    "duration": 126,
    "start_time": "2022-11-01T10:03:09.204Z"
   },
   {
    "duration": 4,
    "start_time": "2022-11-01T10:03:09.332Z"
   },
   {
    "duration": 31,
    "start_time": "2022-11-01T10:03:09.337Z"
   },
   {
    "duration": 202,
    "start_time": "2022-11-01T10:03:09.370Z"
   },
   {
    "duration": 17,
    "start_time": "2022-11-01T10:03:09.574Z"
   },
   {
    "duration": 5,
    "start_time": "2022-11-01T10:03:09.605Z"
   },
   {
    "duration": 33,
    "start_time": "2022-11-01T10:03:09.611Z"
   },
   {
    "duration": 12,
    "start_time": "2022-11-01T10:03:09.646Z"
   },
   {
    "duration": 56,
    "start_time": "2022-11-01T10:03:09.660Z"
   },
   {
    "duration": 14,
    "start_time": "2022-11-01T10:03:09.718Z"
   }
  ],
  "kernelspec": {
   "display_name": "Python 3 (ipykernel)",
   "language": "python",
   "name": "python3"
  },
  "language_info": {
   "codemirror_mode": {
    "name": "ipython",
    "version": 3
   },
   "file_extension": ".py",
   "mimetype": "text/x-python",
   "name": "python",
   "nbconvert_exporter": "python",
   "pygments_lexer": "ipython3",
   "version": "3.9.7"
  },
  "toc": {
   "base_numbering": 1,
   "nav_menu": {},
   "number_sections": true,
   "sideBar": true,
   "skip_h1_title": true,
   "title_cell": "Table of Contents",
   "title_sidebar": "Contents",
   "toc_cell": false,
   "toc_position": {},
   "toc_section_display": true,
   "toc_window_display": false
  }
 },
 "nbformat": 4,
 "nbformat_minor": 5
}
